{
 "cells": [
  {
   "cell_type": "markdown",
   "id": "98cad44a3953ceb3",
   "metadata": {
    "collapsed": false
   },
   "source": [
    "# Merging RepRisk and Markit\n",
    "\n",
    "In order to compute the ratios we need but also to be able to compare the two datasets, we need to merge them.\n",
    "\n",
    "A first idea was to use the `isin` columns available in both dataframe but it appears that it is not well populated in the RepRisk dataset. That means we might need to match companies on their name. Doing so would require to clean the names in both datasets.\n",
    "\n",
    "Let's first explore the idea of merging on ISIN."
   ]
  },
  {
   "cell_type": "code",
   "execution_count": 1,
   "id": "initial_id",
   "metadata": {
    "collapsed": true,
    "ExecuteTime": {
     "end_time": "2024-03-07T04:44:07.345649Z",
     "start_time": "2024-03-07T04:44:03.150693Z"
    }
   },
   "outputs": [],
   "source": [
    "import re\n",
    "from collections import defaultdict\n",
    "from concurrent.futures import ThreadPoolExecutor\n",
    "from pathlib import Path\n",
    "\n",
    "import numpy as np\n",
    "import pandas as pd\n",
    "import ray\n",
    "from cleanco import basename\n",
    "from name_matching.name_matcher import NameMatcher\n",
    "from pandasql import sqldf\n",
    "\n",
    "import config\n",
    "\n",
    "DATA_DIR = Path(config.DATA_DIR)\n",
    "file_path = Path(DATA_DIR) / \"pulled\""
   ]
  },
  {
   "cell_type": "code",
   "execution_count": null,
   "id": "2be6af2ec471361",
   "metadata": {
    "collapsed": false
   },
   "outputs": [],
   "source": [
    "RepRisk_company = pd.read_parquet(file_path / \"reprisk_company.parquet\")\n",
    "RepRisk_company.head()"
   ]
  },
  {
   "cell_type": "code",
   "execution_count": 4,
   "id": "fa8ae629d917510f",
   "metadata": {
    "ExecuteTime": {
     "end_time": "2024-02-25T20:10:28.566362Z",
     "start_time": "2024-02-25T20:10:28.263862Z"
    },
    "collapsed": false
   },
   "outputs": [
    {
     "data": {
      "text/html": [
       "<style type=\"text/css\">\n",
       "</style>\n",
       "<table id=\"T_daf8b\">\n",
       "  <thead>\n",
       "    <tr>\n",
       "      <th class=\"blank level0\" >&nbsp;</th>\n",
       "      <th id=\"T_daf8b_level0_col0\" class=\"col_heading level0 col0\" >percentage_missing_isin</th>\n",
       "    </tr>\n",
       "  </thead>\n",
       "  <tbody>\n",
       "    <tr>\n",
       "      <th id=\"T_daf8b_level0_row0\" class=\"row_heading level0 row0\" >primary_isin</th>\n",
       "      <td id=\"T_daf8b_row0_col0\" class=\"data row0 col0\" >85.03%</td>\n",
       "    </tr>\n",
       "  </tbody>\n",
       "</table>\n"
      ],
      "text/plain": [
       "<pandas.io.formats.style.Styler at 0x1615ba610>"
      ]
     },
     "execution_count": 4,
     "metadata": {},
     "output_type": "execute_result"
    }
   ],
   "source": [
    "(RepRisk_company[['primary_isin']].isna().sum() / len(RepRisk_company)).to_frame(\n",
    "    \"percentage_missing_isin\").style.format(\"{:.2%}\")"
   ]
  },
  {
   "cell_type": "markdown",
   "id": "cf8d8d6ee5d4b83c",
   "metadata": {
    "collapsed": false
   },
   "source": [
    "Out of more than 600k referenced companies, 85% of them have a missing ISIN in RepRisk.\n",
    "\n",
    "Let's have a look at Markit now."
   ]
  },
  {
   "cell_type": "code",
   "execution_count": 77,
   "id": "60227c16b666f370",
   "metadata": {
    "collapsed": false,
    "ExecuteTime": {
     "end_time": "2024-03-01T19:58:17.186094Z",
     "start_time": "2024-03-01T19:58:15.004687Z"
    }
   },
   "outputs": [
    {
     "data": {
      "text/plain": "           isin                    instrumentname\n0  US98956P1021        Zimmer Biomet Holdings Inc\n1  US7901481009                         St Joe Co\n2  US6934751057  Pnc Financial Services Group Inc\n3  US6516391066               Newmont Corporation\n4  US5951121038             Micron Technology Inc",
      "text/html": "<div>\n<style scoped>\n    .dataframe tbody tr th:only-of-type {\n        vertical-align: middle;\n    }\n\n    .dataframe tbody tr th {\n        vertical-align: top;\n    }\n\n    .dataframe thead th {\n        text-align: right;\n    }\n</style>\n<table border=\"1\" class=\"dataframe\">\n  <thead>\n    <tr style=\"text-align: right;\">\n      <th></th>\n      <th>isin</th>\n      <th>instrumentname</th>\n    </tr>\n  </thead>\n  <tbody>\n    <tr>\n      <th>0</th>\n      <td>US98956P1021</td>\n      <td>Zimmer Biomet Holdings Inc</td>\n    </tr>\n    <tr>\n      <th>1</th>\n      <td>US7901481009</td>\n      <td>St Joe Co</td>\n    </tr>\n    <tr>\n      <th>2</th>\n      <td>US6934751057</td>\n      <td>Pnc Financial Services Group Inc</td>\n    </tr>\n    <tr>\n      <th>3</th>\n      <td>US6516391066</td>\n      <td>Newmont Corporation</td>\n    </tr>\n    <tr>\n      <th>4</th>\n      <td>US5951121038</td>\n      <td>Micron Technology Inc</td>\n    </tr>\n  </tbody>\n</table>\n</div>"
     },
     "execution_count": 77,
     "metadata": {},
     "output_type": "execute_result"
    }
   ],
   "source": [
    "Markit = pd.read_parquet(file_path / \"markit.parquet\")\n",
    "Markit_company = Markit[[\"isin\", \"instrumentname\"]].drop_duplicates()\n",
    "Markit_company.head()"
   ]
  },
  {
   "cell_type": "code",
   "execution_count": 78,
   "id": "b16b539b917234fc",
   "metadata": {
    "collapsed": false,
    "ExecuteTime": {
     "end_time": "2024-03-01T19:58:19.806932Z",
     "start_time": "2024-03-01T19:58:19.794383Z"
    }
   },
   "outputs": [
    {
     "data": {
      "text/plain": "<pandas.io.formats.style.Styler at 0x2de03d350>",
      "text/html": "<style type=\"text/css\">\n</style>\n<table id=\"T_2cfd6\">\n  <thead>\n    <tr>\n      <th class=\"blank level0\" >&nbsp;</th>\n      <th id=\"T_2cfd6_level0_col0\" class=\"col_heading level0 col0\" >percentage_missing_isin</th>\n    </tr>\n  </thead>\n  <tbody>\n    <tr>\n      <th id=\"T_2cfd6_level0_row0\" class=\"row_heading level0 row0\" >isin</th>\n      <td id=\"T_2cfd6_row0_col0\" class=\"data row0 col0\" >0.00%</td>\n    </tr>\n  </tbody>\n</table>\n"
     },
     "execution_count": 78,
     "metadata": {},
     "output_type": "execute_result"
    }
   ],
   "source": [
    "(Markit_company[['isin']].isna().sum() / len(Markit_company)).to_frame(\"percentage_missing_isin\").style.format(\"{:.2%}\")"
   ]
  },
  {
   "cell_type": "markdown",
   "id": "1de2dbb897e61c46",
   "metadata": {
    "collapsed": false
   },
   "source": [
    "For Markit, only 5% of the companies have a missing ISIN.\n",
    "\n",
    "We are now going to see if we can match all the available ISIN in Markit with the ones in RepRisk."
   ]
  },
  {
   "cell_type": "code",
   "execution_count": 79,
   "id": "398d07f68cee3265",
   "metadata": {
    "collapsed": false,
    "ExecuteTime": {
     "end_time": "2024-03-01T19:58:22.695816Z",
     "start_time": "2024-03-01T19:58:22.659817Z"
    }
   },
   "outputs": [],
   "source": [
    "isin_intersection = Markit_company['isin'].dropna().isin(RepRisk_company['primary_isin'].dropna())"
   ]
  },
  {
   "cell_type": "code",
   "execution_count": 80,
   "id": "914aa9d8c1a9f17b",
   "metadata": {
    "collapsed": false,
    "ExecuteTime": {
     "end_time": "2024-03-01T19:58:27.823602Z",
     "start_time": "2024-03-01T19:58:27.817558Z"
    }
   },
   "outputs": [
    {
     "data": {
      "text/plain": "'61.08%'"
     },
     "execution_count": 80,
     "metadata": {},
     "output_type": "execute_result"
    }
   ],
   "source": [
    "(isin_intersection.sum() / len(Markit_company['isin'].dropna())).__format__(\"0.2%\")"
   ]
  },
  {
   "cell_type": "markdown",
   "id": "974505353d838bfc",
   "metadata": {
    "collapsed": false
   },
   "source": [
    "Only 47% of the ISIN in Markit are available in RepRisk so this is not going to work for us. We cannot merge the two datasets on ISIN only. We will have to merge on company name also."
   ]
  },
  {
   "cell_type": "code",
   "execution_count": 81,
   "id": "8fb4a4b3aabed6cd",
   "metadata": {
    "collapsed": false,
    "ExecuteTime": {
     "end_time": "2024-03-01T19:58:41.617276Z",
     "start_time": "2024-03-01T19:58:41.500521Z"
    }
   },
   "outputs": [
    {
     "data": {
      "text/plain": "           isin                    instrumentname reprisk_id  primary_isin\n0  US98956P1021        Zimmer Biomet Holdings Inc     182884  US98956P1021\n1  US7901481009                         St Joe Co       7502  US7901481009\n2  US6934751057  Pnc Financial Services Group Inc       1849  US6934751057\n3  US6516391066               Newmont Corporation         93  US6516391066\n4  US5951121038             Micron Technology Inc       8371  US5951121038",
      "text/html": "<div>\n<style scoped>\n    .dataframe tbody tr th:only-of-type {\n        vertical-align: middle;\n    }\n\n    .dataframe tbody tr th {\n        vertical-align: top;\n    }\n\n    .dataframe thead th {\n        text-align: right;\n    }\n</style>\n<table border=\"1\" class=\"dataframe\">\n  <thead>\n    <tr style=\"text-align: right;\">\n      <th></th>\n      <th>isin</th>\n      <th>instrumentname</th>\n      <th>reprisk_id</th>\n      <th>primary_isin</th>\n    </tr>\n  </thead>\n  <tbody>\n    <tr>\n      <th>0</th>\n      <td>US98956P1021</td>\n      <td>Zimmer Biomet Holdings Inc</td>\n      <td>182884</td>\n      <td>US98956P1021</td>\n    </tr>\n    <tr>\n      <th>1</th>\n      <td>US7901481009</td>\n      <td>St Joe Co</td>\n      <td>7502</td>\n      <td>US7901481009</td>\n    </tr>\n    <tr>\n      <th>2</th>\n      <td>US6934751057</td>\n      <td>Pnc Financial Services Group Inc</td>\n      <td>1849</td>\n      <td>US6934751057</td>\n    </tr>\n    <tr>\n      <th>3</th>\n      <td>US6516391066</td>\n      <td>Newmont Corporation</td>\n      <td>93</td>\n      <td>US6516391066</td>\n    </tr>\n    <tr>\n      <th>4</th>\n      <td>US5951121038</td>\n      <td>Micron Technology Inc</td>\n      <td>8371</td>\n      <td>US5951121038</td>\n    </tr>\n  </tbody>\n</table>\n</div>"
     },
     "execution_count": 81,
     "metadata": {},
     "output_type": "execute_result"
    }
   ],
   "source": [
    "RepRisk_id_on_isin = Markit_company.merge(RepRisk_company[['reprisk_id', 'primary_isin']].dropna(), left_on=\"isin\",\n",
    "                                          right_on=\"primary_isin\", how=\"left\")\n",
    "RepRisk_id_on_isin.head()"
   ]
  },
  {
   "cell_type": "code",
   "execution_count": 82,
   "id": "83d01fb0781af",
   "metadata": {
    "collapsed": false,
    "ExecuteTime": {
     "end_time": "2024-03-01T19:58:43.453425Z",
     "start_time": "2024-03-01T19:58:43.451669Z"
    }
   },
   "outputs": [
    {
     "data": {
      "text/plain": "<pandas.io.formats.style.Styler at 0x283bd0a10>",
      "text/html": "<style type=\"text/css\">\n</style>\n<table id=\"T_3ddd8\">\n  <thead>\n    <tr>\n      <th class=\"blank level0\" >&nbsp;</th>\n      <th id=\"T_3ddd8_level0_col0\" class=\"col_heading level0 col0\" >percentage_missing_reprisk_id</th>\n    </tr>\n  </thead>\n  <tbody>\n    <tr>\n      <th id=\"T_3ddd8_level0_row0\" class=\"row_heading level0 row0\" >reprisk_id</th>\n      <td id=\"T_3ddd8_row0_col0\" class=\"data row0 col0\" >38.92%</td>\n    </tr>\n  </tbody>\n</table>\n"
     },
     "execution_count": 82,
     "metadata": {},
     "output_type": "execute_result"
    }
   ],
   "source": [
    "(RepRisk_id_on_isin[['reprisk_id']].isna().sum() / len(RepRisk_id_on_isin)).to_frame(\n",
    "    \"percentage_missing_reprisk_id\").style.format(\"{:.2%}\")"
   ]
  },
  {
   "cell_type": "markdown",
   "id": "24950f9a9ae27e10",
   "metadata": {
    "collapsed": false
   },
   "source": [
    "Matching on ISIN only, we cannot match 55% of the companies in Markit with their reprisk_id in Reprisk. We will now have to look at matching companies missing isin on their name."
   ]
  },
  {
   "cell_type": "code",
   "execution_count": 83,
   "id": "964c466720b2d36a",
   "metadata": {
    "collapsed": false,
    "ExecuteTime": {
     "end_time": "2024-03-01T19:58:46.990139Z",
     "start_time": "2024-03-01T19:58:46.978999Z"
    }
   },
   "outputs": [
    {
     "data": {
      "text/plain": "             isin                          instrumentname\n40   US8724436014                                 Thq Inc\n99   US3696043013                     General Electric Co\n129  CA8849037095                    Thomson Reuters Corp\n145  US55273C1071           Mfs Intermediate Income Trust\n175  US03748R7474  Apartment Investment And Management Co",
      "text/html": "<div>\n<style scoped>\n    .dataframe tbody tr th:only-of-type {\n        vertical-align: middle;\n    }\n\n    .dataframe tbody tr th {\n        vertical-align: top;\n    }\n\n    .dataframe thead th {\n        text-align: right;\n    }\n</style>\n<table border=\"1\" class=\"dataframe\">\n  <thead>\n    <tr style=\"text-align: right;\">\n      <th></th>\n      <th>isin</th>\n      <th>instrumentname</th>\n    </tr>\n  </thead>\n  <tbody>\n    <tr>\n      <th>40</th>\n      <td>US8724436014</td>\n      <td>Thq Inc</td>\n    </tr>\n    <tr>\n      <th>99</th>\n      <td>US3696043013</td>\n      <td>General Electric Co</td>\n    </tr>\n    <tr>\n      <th>129</th>\n      <td>CA8849037095</td>\n      <td>Thomson Reuters Corp</td>\n    </tr>\n    <tr>\n      <th>145</th>\n      <td>US55273C1071</td>\n      <td>Mfs Intermediate Income Trust</td>\n    </tr>\n    <tr>\n      <th>175</th>\n      <td>US03748R7474</td>\n      <td>Apartment Investment And Management Co</td>\n    </tr>\n  </tbody>\n</table>\n</div>"
     },
     "execution_count": 83,
     "metadata": {},
     "output_type": "execute_result"
    }
   ],
   "source": [
    "companies_missing_isin = RepRisk_id_on_isin[RepRisk_id_on_isin['reprisk_id'].isna()][['isin', 'instrumentname']]\n",
    "companies_missing_isin.head()"
   ]
  },
  {
   "cell_type": "code",
   "execution_count": 84,
   "id": "1292c99c4835f17e",
   "metadata": {
    "collapsed": false,
    "ExecuteTime": {
     "end_time": "2024-03-01T19:58:48.956034Z",
     "start_time": "2024-03-01T19:58:48.910582Z"
    }
   },
   "outputs": [
    {
     "data": {
      "text/plain": "           isin                          instrumentname reprisk_id  \\\n0  US8724436014                                 Thq Inc        NaN   \n1  US3696043013                     General Electric Co        NaN   \n2  CA8849037095                    Thomson Reuters Corp        NaN   \n3  US55273C1071           Mfs Intermediate Income Trust        NaN   \n4  US03748R7474  Apartment Investment And Management Co        NaN   \n\n  company_name primary_isin isins  \n0          NaN          NaN   NaN  \n1          NaN          NaN   NaN  \n2          NaN          NaN   NaN  \n3          NaN          NaN   NaN  \n4          NaN          NaN   NaN  ",
      "text/html": "<div>\n<style scoped>\n    .dataframe tbody tr th:only-of-type {\n        vertical-align: middle;\n    }\n\n    .dataframe tbody tr th {\n        vertical-align: top;\n    }\n\n    .dataframe thead th {\n        text-align: right;\n    }\n</style>\n<table border=\"1\" class=\"dataframe\">\n  <thead>\n    <tr style=\"text-align: right;\">\n      <th></th>\n      <th>isin</th>\n      <th>instrumentname</th>\n      <th>reprisk_id</th>\n      <th>company_name</th>\n      <th>primary_isin</th>\n      <th>isins</th>\n    </tr>\n  </thead>\n  <tbody>\n    <tr>\n      <th>0</th>\n      <td>US8724436014</td>\n      <td>Thq Inc</td>\n      <td>NaN</td>\n      <td>NaN</td>\n      <td>NaN</td>\n      <td>NaN</td>\n    </tr>\n    <tr>\n      <th>1</th>\n      <td>US3696043013</td>\n      <td>General Electric Co</td>\n      <td>NaN</td>\n      <td>NaN</td>\n      <td>NaN</td>\n      <td>NaN</td>\n    </tr>\n    <tr>\n      <th>2</th>\n      <td>CA8849037095</td>\n      <td>Thomson Reuters Corp</td>\n      <td>NaN</td>\n      <td>NaN</td>\n      <td>NaN</td>\n      <td>NaN</td>\n    </tr>\n    <tr>\n      <th>3</th>\n      <td>US55273C1071</td>\n      <td>Mfs Intermediate Income Trust</td>\n      <td>NaN</td>\n      <td>NaN</td>\n      <td>NaN</td>\n      <td>NaN</td>\n    </tr>\n    <tr>\n      <th>4</th>\n      <td>US03748R7474</td>\n      <td>Apartment Investment And Management Co</td>\n      <td>NaN</td>\n      <td>NaN</td>\n      <td>NaN</td>\n      <td>NaN</td>\n    </tr>\n  </tbody>\n</table>\n</div>"
     },
     "execution_count": 84,
     "metadata": {},
     "output_type": "execute_result"
    }
   ],
   "source": [
    "RepRisk_id_on_company_name = companies_missing_isin.merge(RepRisk_company, left_on=\"instrumentname\",\n",
    "                                                          right_on=\"company_name\", how=\"left\")\n",
    "RepRisk_id_on_company_name.head()"
   ]
  },
  {
   "cell_type": "code",
   "execution_count": 85,
   "id": "ccaf4b76b328dd6e",
   "metadata": {
    "collapsed": false,
    "ExecuteTime": {
     "end_time": "2024-03-01T19:58:50.737810Z",
     "start_time": "2024-03-01T19:58:50.735952Z"
    }
   },
   "outputs": [
    {
     "data": {
      "text/plain": "<pandas.io.formats.style.Styler at 0x2d2e63390>",
      "text/html": "<style type=\"text/css\">\n</style>\n<table id=\"T_564bb\">\n  <thead>\n    <tr>\n      <th class=\"blank level0\" >&nbsp;</th>\n      <th id=\"T_564bb_level0_col0\" class=\"col_heading level0 col0\" >percentage_still_missing_reprisk_id</th>\n    </tr>\n  </thead>\n  <tbody>\n    <tr>\n      <th id=\"T_564bb_level0_row0\" class=\"row_heading level0 row0\" >reprisk_id</th>\n      <td id=\"T_564bb_row0_col0\" class=\"data row0 col0\" >88.45%</td>\n    </tr>\n  </tbody>\n</table>\n"
     },
     "execution_count": 85,
     "metadata": {},
     "output_type": "execute_result"
    }
   ],
   "source": [
    "(RepRisk_id_on_company_name[['reprisk_id']].isna().sum() / len(RepRisk_id_on_company_name)).to_frame(\n",
    "    \"percentage_still_missing_reprisk_id\").style.format(\"{:.2%}\")"
   ]
  },
  {
   "cell_type": "markdown",
   "id": "b1203ed5bb790bb9",
   "metadata": {
    "collapsed": false
   },
   "source": [
    "Merging on company name without cleaning it only allows us to match 15% of the companies without matching ISIN. We will have to clean the company names in both datasets to be able to merge them."
   ]
  },
  {
   "cell_type": "code",
   "execution_count": 86,
   "id": "69e633f0767a159c",
   "metadata": {
    "collapsed": false,
    "ExecuteTime": {
     "end_time": "2024-03-01T19:58:55.369389Z",
     "start_time": "2024-03-01T19:58:55.363431Z"
    }
   },
   "outputs": [
    {
     "data": {
      "text/plain": "           isin                          instrumentname\n0  US8724436014                                 Thq Inc\n1  US3696043013                     General Electric Co\n2  CA8849037095                    Thomson Reuters Corp\n3  US55273C1071           Mfs Intermediate Income Trust\n4  US03748R7474  Apartment Investment And Management Co",
      "text/html": "<div>\n<style scoped>\n    .dataframe tbody tr th:only-of-type {\n        vertical-align: middle;\n    }\n\n    .dataframe tbody tr th {\n        vertical-align: top;\n    }\n\n    .dataframe thead th {\n        text-align: right;\n    }\n</style>\n<table border=\"1\" class=\"dataframe\">\n  <thead>\n    <tr style=\"text-align: right;\">\n      <th></th>\n      <th>isin</th>\n      <th>instrumentname</th>\n    </tr>\n  </thead>\n  <tbody>\n    <tr>\n      <th>0</th>\n      <td>US8724436014</td>\n      <td>Thq Inc</td>\n    </tr>\n    <tr>\n      <th>1</th>\n      <td>US3696043013</td>\n      <td>General Electric Co</td>\n    </tr>\n    <tr>\n      <th>2</th>\n      <td>CA8849037095</td>\n      <td>Thomson Reuters Corp</td>\n    </tr>\n    <tr>\n      <th>3</th>\n      <td>US55273C1071</td>\n      <td>Mfs Intermediate Income Trust</td>\n    </tr>\n    <tr>\n      <th>4</th>\n      <td>US03748R7474</td>\n      <td>Apartment Investment And Management Co</td>\n    </tr>\n  </tbody>\n</table>\n</div>"
     },
     "execution_count": 86,
     "metadata": {},
     "output_type": "execute_result"
    }
   ],
   "source": [
    "companies_still_missing_reprisk_id = RepRisk_id_on_company_name[RepRisk_id_on_company_name['reprisk_id'].isna()][\n",
    "    ['isin', 'instrumentname']]\n",
    "companies_still_missing_reprisk_id.head()"
   ]
  },
  {
   "cell_type": "markdown",
   "id": "e3af1b22804da0cc",
   "metadata": {
    "collapsed": false
   },
   "source": [
    "Let's summarize what we did into a single SQL request."
   ]
  },
  {
   "cell_type": "code",
   "execution_count": 87,
   "id": "d92849be4a3c6d38",
   "metadata": {
    "collapsed": false,
    "ExecuteTime": {
     "end_time": "2024-03-01T19:59:03.634621Z",
     "start_time": "2024-03-01T19:59:00.360478Z"
    }
   },
   "outputs": [],
   "source": [
    "RepRisk_company_isin = RepRisk_company[['reprisk_id', 'primary_isin']].dropna()\n",
    "RepRisk_company_name = RepRisk_company[['reprisk_id', 'company_name']].dropna()\n",
    "\n",
    "match_reprisk_for_company = sqldf(\"\"\n",
    "                                  \"SELECT mkc.isin, mkc.instrumentname, rrn.reprisk_id AS reprisk_id_name, rri.reprisk_id AS reprisk_id_isin \"\n",
    "                                  \"FROM Markit_company AS mkc \"\n",
    "                                  \"LEFT JOIN RepRisk_company_name AS rrn \"\n",
    "                                  \"ON mkc.instrumentname = rrn.company_name \"\n",
    "                                  \"LEFT JOIN RepRisk_company_isin AS rri \"\n",
    "                                  \"ON mkc.isin = rri.primary_isin \"\n",
    "                                  )"
   ]
  },
  {
   "cell_type": "code",
   "execution_count": 88,
   "id": "25286252ff228abc",
   "metadata": {
    "collapsed": false,
    "ExecuteTime": {
     "end_time": "2024-03-01T19:59:05.371664Z",
     "start_time": "2024-03-01T19:59:05.367706Z"
    }
   },
   "outputs": [],
   "source": [
    "match_reprisk_for_company['reprisk_id_merge'] = match_reprisk_for_company['reprisk_id_isin'].fillna(\n",
    "    match_reprisk_for_company['reprisk_id_name'])"
   ]
  },
  {
   "cell_type": "code",
   "execution_count": 89,
   "id": "9da44a96ca1bb310",
   "metadata": {
    "collapsed": false,
    "ExecuteTime": {
     "end_time": "2024-03-01T19:59:07.032535Z",
     "start_time": "2024-03-01T19:59:07.030682Z"
    }
   },
   "outputs": [
    {
     "data": {
      "text/plain": "'65.61%'"
     },
     "execution_count": 89,
     "metadata": {},
     "output_type": "execute_result"
    }
   ],
   "source": [
    "(1 - match_reprisk_for_company['reprisk_id_merge'].isna().sum() / len(match_reprisk_for_company)).__format__(\"0.2%\")"
   ]
  },
  {
   "cell_type": "markdown",
   "id": "26f90e701299cbe4",
   "metadata": {
    "collapsed": false
   },
   "source": [
    "We are able to match 53% of the companies in Markit with their reprisk_id in Reprisk."
   ]
  },
  {
   "cell_type": "code",
   "execution_count": 90,
   "id": "111e20ce70f14e29",
   "metadata": {
    "collapsed": false,
    "ExecuteTime": {
     "end_time": "2024-03-01T19:59:09.453155Z",
     "start_time": "2024-03-01T19:59:09.449723Z"
    }
   },
   "outputs": [],
   "source": [
    "def clean_company_name(name):\n",
    "    \"\"\"\n",
    "    Clean the company name by applying the following transformations:\n",
    "    - Handle non-string inputs.\n",
    "    - Convert to lowercase.\n",
    "    - Remove punctuation and special characters.\n",
    "    - Replace common corporate abbreviations.\n",
    "    - Remove legal entity identifiers.\n",
    "    - Trim whitespace.\n",
    "    \"\"\"\n",
    "    if pd.isnull(name) or not isinstance(name, str):\n",
    "        return None\n",
    "\n",
    "    name = basename(name)\n",
    "    # Convert to lowercase\n",
    "    name = name.lower()\n",
    "    # Remove punctuation and special characters (keep alphanumeric and spaces)\n",
    "    name = re.sub(r'[^\\w\\s]', '', name)\n",
    "    # Replace common corporate abbreviations and legal entity identifiers\n",
    "    # abbreviations = {\n",
    "    #     ' corporation': ' corp',\n",
    "    #     ' incorporated': ' inc',\n",
    "    #     ' company': ' co',\n",
    "    #     ' limited': ' ltd',\n",
    "    #     ' plc': '',\n",
    "    #     ' llc': '',\n",
    "    #     ' l p': ' lp',\n",
    "    #     ' lp': ' lp'\n",
    "    # }\n",
    "    # for key, value in abbreviations.items():\n",
    "    #     name = name.replace(key, value)\n",
    "    # Trim whitespace\n",
    "    name = re.sub(r'\\s+', ' ', name).strip()\n",
    "    return name"
   ]
  },
  {
   "cell_type": "markdown",
   "id": "74a94dd3e58f079e",
   "metadata": {
    "collapsed": false
   },
   "source": [
    "Again, we can update our previous sql request to match the companies on their clean names."
   ]
  },
  {
   "cell_type": "code",
   "execution_count": 91,
   "id": "2bc6b768b56ea8b3",
   "metadata": {
    "collapsed": false,
    "ExecuteTime": {
     "end_time": "2024-03-01T19:59:32.886998Z",
     "start_time": "2024-03-01T19:59:14.134468Z"
    }
   },
   "outputs": [],
   "source": [
    "RepRisk_company_isin = RepRisk_company[['reprisk_id', 'primary_isin']].dropna()\n",
    "RepRisk_company_name = RepRisk_company[['reprisk_id', 'company_name']].dropna()\n",
    "Markit_company_clean = Markit_company.copy()\n",
    "\n",
    "Markit_company_clean['cleaned_name'] = Markit_company_clean['instrumentname'].apply(clean_company_name)\n",
    "RepRisk_company_name['clean_company_name'] = RepRisk_company_name['company_name'].apply(clean_company_name)\n",
    "\n",
    "match_reprisk_for_company_clean = sqldf(\"\"\n",
    "                                        \"SELECT mkc.isin, mkc.instrumentname, rrn.reprisk_id AS reprisk_id_name, rri.reprisk_id AS reprisk_id_isin, mkc.cleaned_name \"\n",
    "                                        \"FROM Markit_company_clean AS mkc \"\n",
    "                                        \"LEFT JOIN RepRisk_company_name AS rrn \"\n",
    "                                        \"ON mkc.cleaned_name = rrn.clean_company_name \"\n",
    "                                        \"LEFT JOIN RepRisk_company_isin AS rri \"\n",
    "                                        \"ON mkc.isin = rri.primary_isin \"\n",
    "                                        )"
   ]
  },
  {
   "cell_type": "code",
   "execution_count": 92,
   "id": "7eee7f0d6524e508",
   "metadata": {
    "collapsed": false,
    "ExecuteTime": {
     "end_time": "2024-03-01T19:59:32.891970Z",
     "start_time": "2024-03-01T19:59:32.888589Z"
    }
   },
   "outputs": [],
   "source": [
    "match_reprisk_for_company_clean['reprisk_id_merge'] = match_reprisk_for_company_clean['reprisk_id_isin'].fillna(\n",
    "    match_reprisk_for_company_clean['reprisk_id_name'])"
   ]
  },
  {
   "cell_type": "code",
   "execution_count": 93,
   "id": "6e7b8e93085475c9",
   "metadata": {
    "collapsed": false,
    "ExecuteTime": {
     "end_time": "2024-03-01T19:59:35.869880Z",
     "start_time": "2024-03-01T19:59:35.867265Z"
    }
   },
   "outputs": [
    {
     "data": {
      "text/plain": "'70.03%'"
     },
     "execution_count": 93,
     "metadata": {},
     "output_type": "execute_result"
    }
   ],
   "source": [
    "(1 - match_reprisk_for_company_clean['reprisk_id_merge'].isna().sum() / len(\n",
    "    match_reprisk_for_company_clean)).__format__(\"0.2%\")"
   ]
  },
  {
   "cell_type": "code",
   "execution_count": 94,
   "id": "bae7434a2f98e239",
   "metadata": {
    "collapsed": false,
    "ExecuteTime": {
     "end_time": "2024-03-01T19:59:39.682984Z",
     "start_time": "2024-03-01T19:59:39.675412Z"
    }
   },
   "outputs": [],
   "source": [
    "still_missing2 = match_reprisk_for_company_clean[match_reprisk_for_company_clean['reprisk_id_merge'].isna()][\n",
    "    ['isin', 'instrumentname', 'cleaned_name']]"
   ]
  },
  {
   "cell_type": "code",
   "execution_count": 95,
   "id": "43783dba9c57184e",
   "metadata": {
    "collapsed": false,
    "ExecuteTime": {
     "end_time": "2024-03-01T19:59:41.413431Z",
     "start_time": "2024-03-01T19:59:41.361304Z"
    }
   },
   "outputs": [],
   "source": [
    "RepRisk_company_name_unique_index = RepRisk_company_name.reset_index(drop=True, inplace=False)"
   ]
  },
  {
   "cell_type": "code",
   "execution_count": 96,
   "id": "7e5596bbe60b1f26",
   "metadata": {
    "collapsed": false,
    "ExecuteTime": {
     "end_time": "2024-03-01T20:01:54.240260Z",
     "start_time": "2024-03-01T19:59:44.889888Z"
    }
   },
   "outputs": [
    {
     "name": "stderr",
     "output_type": "stream",
     "text": [
      "2024-03-01 13:59:47,957\tINFO worker.py:1724 -- Started a local Ray instance.\n",
      "\u001B[36m(raylet)\u001B[0m Spilled 2597 MiB, 4 objects, write throughput 576 MiB/s. Set RAY_verbose_spill_logs=0 to disable this message.\n",
      "\u001B[36m(raylet)\u001B[0m Spilled 4545 MiB, 7 objects, write throughput 611 MiB/s.\n",
      "\u001B[36m(raylet)\u001B[0m Spilled 8441 MiB, 13 objects, write throughput 734 MiB/s.\n",
      "\u001B[36m(raylet)\u001B[0m Spilled 16882 MiB, 26 objects, write throughput 827 MiB/s.\n"
     ]
    }
   ],
   "source": [
    "ray.shutdown()\n",
    "ray.init()\n",
    "\n",
    "matcher = NameMatcher(ngrams=(2, 5),\n",
    "                      top_n=10,\n",
    "                      number_of_rows=500,\n",
    "                      number_of_matches=3,\n",
    "                      lowercase=True,\n",
    "                      punctuations=True,\n",
    "                      remove_ascii=True,\n",
    "                      legal_suffixes=False,\n",
    "                      common_words=False,\n",
    "                      preprocess_split=False,\n",
    "                      verbose=False)\n",
    "\n",
    "matcher.set_distance_metrics(['iterative_sub_string', 'pearson_ii', 'bag', 'fuzzy_wuzzy_partial_string', 'editex'])\n",
    "\n",
    "matcher.load_and_process_master_data(column='clean_company_name',\n",
    "                                     df_matching_data=RepRisk_company_name_unique_index,\n",
    "                                     transform=True)\n",
    "\n",
    "@ray.remote\n",
    "def match_name_parallel(adjusted_names, matcher):\n",
    "    results = matcher.match_names(to_be_matched=adjusted_names, column_matching='cleaned_name')\n",
    "    return results\n",
    "\n",
    "results = []\n",
    "for i in range(0, len(still_missing2), 100):\n",
    "    results.append(match_name_parallel.remote(still_missing2[i:i + 100], matcher))\n",
    "\n",
    "matches = pd.concat(ray.get(results))"
   ]
  },
  {
   "cell_type": "code",
   "execution_count": 99,
   "id": "4a09ed2a3850cef7",
   "metadata": {
    "collapsed": false,
    "ExecuteTime": {
     "end_time": "2024-03-01T20:26:04.365897Z",
     "start_time": "2024-03-01T20:26:04.314178Z"
    }
   },
   "outputs": [],
   "source": [
    "matches_merge = matches.merge(RepRisk_company_name_unique_index, left_on=\"match_index_0\", right_index=True, how=\"left\")"
   ]
  },
  {
   "cell_type": "code",
   "outputs": [
    {
     "data": {
      "text/plain": "                             original_name  \\\n342    blackrock muniyield california fund   \n583        millicom international cellular   \n673                  trustco bank corp n y   \n689                      ebt international   \n741                ferrellgas partners unt   \n...                                    ...   \n23328     jpmorgan chase financial company   \n23343                  venzee technologies   \n23362                  sun pacific holding   \n23376               peak discovery capital   \n23377                       aton resources   \n\n                                      match_name_0    score_0  match_index_0  \\\n342               blackrock muniyield arizona fund  86.284391         522499   \n583    millicom international cellular sa millicom  86.238425         619245   \n673                           trustco bank corp ny  95.829297          51694   \n689                               bt international  96.411592         319404   \n741                            ferrellgas partners  90.957862          48311   \n...                                            ...        ...            ...   \n23328                  jpmorgan chase financial co  91.973072         597976   \n23343                             cee technologies  87.556382         362988   \n23362                             pacific holdings  85.734862         647501   \n23376                            discovery capital  88.162525         659353   \n23377                              aston resources  93.774954         624345   \n\n                           match_name_1    score_1  match_index_1  \\\n342    blackrock muniyield quality fund  83.883048         485193   \n583                      rural cellular  58.565879          34171   \n673                               trust  56.965457         672646   \n689                   mbt international  94.588956          29893   \n741         ferrellgas partners finance  85.255312         263564   \n...                                 ...        ...            ...   \n23328                            morgan  49.849051         215658   \n23343                   ne technologies  86.654805         394921   \n23362                       sun pacific  78.376674         485451   \n23376                         discovery  65.655942         317331   \n23377                         resources  80.230318         296022   \n\n                   match_name_2    score_2  match_index_2 reprisk_id  \\\n342    blackrock muniyield fund  81.291700         346164      39472   \n583                    cellular  57.898700          13250       6542   \n673                       nk co  52.464998         338008      11958   \n689           sbt international  94.588956         509215      22628   \n741                  ferrellgas  69.727922         371862      11825   \n...                         ...        ...            ...        ...   \n23328                    morgan  49.849051          57642     597932   \n23343           le technologies  84.549541           5549    2427065   \n23362        sun pacific energy  73.935600         252704      84966   \n23376                  discover  62.530403         237345      93560   \n23377                 resources  80.230318         244250      69046   \n\n                                        company_name  \\\n342             BlackRock MuniYield Arizona Fund Inc   \n583    Millicom International Cellular SA (Millicom)   \n673                             Trustco Bank Corp NY   \n689                              BT International AG   \n741                           Ferrellgas Partners LP   \n...                                              ...   \n23328                JPMorgan Chase Financial Co LLC   \n23343                       CEE Technologies Pte Ltd   \n23362                           Pacific Holdings Ltd   \n23376                         Discovery Capital Corp   \n23377                            Aston Resources Ltd   \n\n                                clean_company_name  \n342               blackrock muniyield arizona fund  \n583    millicom international cellular sa millicom  \n673                           trustco bank corp ny  \n689                               bt international  \n741                            ferrellgas partners  \n...                                            ...  \n23328                  jpmorgan chase financial co  \n23343                             cee technologies  \n23362                             pacific holdings  \n23376                            discovery capital  \n23377                              aston resources  \n\n[758 rows x 13 columns]",
      "text/html": "<div>\n<style scoped>\n    .dataframe tbody tr th:only-of-type {\n        vertical-align: middle;\n    }\n\n    .dataframe tbody tr th {\n        vertical-align: top;\n    }\n\n    .dataframe thead th {\n        text-align: right;\n    }\n</style>\n<table border=\"1\" class=\"dataframe\">\n  <thead>\n    <tr style=\"text-align: right;\">\n      <th></th>\n      <th>original_name</th>\n      <th>match_name_0</th>\n      <th>score_0</th>\n      <th>match_index_0</th>\n      <th>match_name_1</th>\n      <th>score_1</th>\n      <th>match_index_1</th>\n      <th>match_name_2</th>\n      <th>score_2</th>\n      <th>match_index_2</th>\n      <th>reprisk_id</th>\n      <th>company_name</th>\n      <th>clean_company_name</th>\n    </tr>\n  </thead>\n  <tbody>\n    <tr>\n      <th>342</th>\n      <td>blackrock muniyield california fund</td>\n      <td>blackrock muniyield arizona fund</td>\n      <td>86.284391</td>\n      <td>522499</td>\n      <td>blackrock muniyield quality fund</td>\n      <td>83.883048</td>\n      <td>485193</td>\n      <td>blackrock muniyield fund</td>\n      <td>81.291700</td>\n      <td>346164</td>\n      <td>39472</td>\n      <td>BlackRock MuniYield Arizona Fund Inc</td>\n      <td>blackrock muniyield arizona fund</td>\n    </tr>\n    <tr>\n      <th>583</th>\n      <td>millicom international cellular</td>\n      <td>millicom international cellular sa millicom</td>\n      <td>86.238425</td>\n      <td>619245</td>\n      <td>rural cellular</td>\n      <td>58.565879</td>\n      <td>34171</td>\n      <td>cellular</td>\n      <td>57.898700</td>\n      <td>13250</td>\n      <td>6542</td>\n      <td>Millicom International Cellular SA (Millicom)</td>\n      <td>millicom international cellular sa millicom</td>\n    </tr>\n    <tr>\n      <th>673</th>\n      <td>trustco bank corp n y</td>\n      <td>trustco bank corp ny</td>\n      <td>95.829297</td>\n      <td>51694</td>\n      <td>trust</td>\n      <td>56.965457</td>\n      <td>672646</td>\n      <td>nk co</td>\n      <td>52.464998</td>\n      <td>338008</td>\n      <td>11958</td>\n      <td>Trustco Bank Corp NY</td>\n      <td>trustco bank corp ny</td>\n    </tr>\n    <tr>\n      <th>689</th>\n      <td>ebt international</td>\n      <td>bt international</td>\n      <td>96.411592</td>\n      <td>319404</td>\n      <td>mbt international</td>\n      <td>94.588956</td>\n      <td>29893</td>\n      <td>sbt international</td>\n      <td>94.588956</td>\n      <td>509215</td>\n      <td>22628</td>\n      <td>BT International AG</td>\n      <td>bt international</td>\n    </tr>\n    <tr>\n      <th>741</th>\n      <td>ferrellgas partners unt</td>\n      <td>ferrellgas partners</td>\n      <td>90.957862</td>\n      <td>48311</td>\n      <td>ferrellgas partners finance</td>\n      <td>85.255312</td>\n      <td>263564</td>\n      <td>ferrellgas</td>\n      <td>69.727922</td>\n      <td>371862</td>\n      <td>11825</td>\n      <td>Ferrellgas Partners LP</td>\n      <td>ferrellgas partners</td>\n    </tr>\n    <tr>\n      <th>...</th>\n      <td>...</td>\n      <td>...</td>\n      <td>...</td>\n      <td>...</td>\n      <td>...</td>\n      <td>...</td>\n      <td>...</td>\n      <td>...</td>\n      <td>...</td>\n      <td>...</td>\n      <td>...</td>\n      <td>...</td>\n      <td>...</td>\n    </tr>\n    <tr>\n      <th>23328</th>\n      <td>jpmorgan chase financial company</td>\n      <td>jpmorgan chase financial co</td>\n      <td>91.973072</td>\n      <td>597976</td>\n      <td>morgan</td>\n      <td>49.849051</td>\n      <td>215658</td>\n      <td>morgan</td>\n      <td>49.849051</td>\n      <td>57642</td>\n      <td>597932</td>\n      <td>JPMorgan Chase Financial Co LLC</td>\n      <td>jpmorgan chase financial co</td>\n    </tr>\n    <tr>\n      <th>23343</th>\n      <td>venzee technologies</td>\n      <td>cee technologies</td>\n      <td>87.556382</td>\n      <td>362988</td>\n      <td>ne technologies</td>\n      <td>86.654805</td>\n      <td>394921</td>\n      <td>le technologies</td>\n      <td>84.549541</td>\n      <td>5549</td>\n      <td>2427065</td>\n      <td>CEE Technologies Pte Ltd</td>\n      <td>cee technologies</td>\n    </tr>\n    <tr>\n      <th>23362</th>\n      <td>sun pacific holding</td>\n      <td>pacific holdings</td>\n      <td>85.734862</td>\n      <td>647501</td>\n      <td>sun pacific</td>\n      <td>78.376674</td>\n      <td>485451</td>\n      <td>sun pacific energy</td>\n      <td>73.935600</td>\n      <td>252704</td>\n      <td>84966</td>\n      <td>Pacific Holdings Ltd</td>\n      <td>pacific holdings</td>\n    </tr>\n    <tr>\n      <th>23376</th>\n      <td>peak discovery capital</td>\n      <td>discovery capital</td>\n      <td>88.162525</td>\n      <td>659353</td>\n      <td>discovery</td>\n      <td>65.655942</td>\n      <td>317331</td>\n      <td>discover</td>\n      <td>62.530403</td>\n      <td>237345</td>\n      <td>93560</td>\n      <td>Discovery Capital Corp</td>\n      <td>discovery capital</td>\n    </tr>\n    <tr>\n      <th>23377</th>\n      <td>aton resources</td>\n      <td>aston resources</td>\n      <td>93.774954</td>\n      <td>624345</td>\n      <td>resources</td>\n      <td>80.230318</td>\n      <td>296022</td>\n      <td>resources</td>\n      <td>80.230318</td>\n      <td>244250</td>\n      <td>69046</td>\n      <td>Aston Resources Ltd</td>\n      <td>aston resources</td>\n    </tr>\n  </tbody>\n</table>\n<p>758 rows × 13 columns</p>\n</div>"
     },
     "execution_count": 136,
     "metadata": {},
     "output_type": "execute_result"
    }
   ],
   "source": [
    "matches_merge[(matches_merge['score_0'] > 93) | ((matches_merge['score_0'] > 85) & (matches_merge['match_name_0'].str.len() > 15))]"
   ],
   "metadata": {
    "collapsed": false,
    "ExecuteTime": {
     "end_time": "2024-03-01T20:39:54.446702Z",
     "start_time": "2024-03-01T20:39:54.440301Z"
    }
   },
   "id": "9bac8d57cc94d39b",
   "execution_count": 136
  },
  {
   "cell_type": "code",
   "outputs": [],
   "source": [],
   "metadata": {
    "collapsed": false
   },
   "id": "d5a75d5e0daebc5a"
  }
 ],
 "metadata": {
  "kernelspec": {
   "display_name": "Python 3",
   "language": "python",
   "name": "python3"
  },
  "language_info": {
   "codemirror_mode": {
    "name": "ipython",
    "version": 3
   },
   "file_extension": ".py",
   "mimetype": "text/x-python",
   "name": "python",
   "nbconvert_exporter": "python",
   "pygments_lexer": "ipython3",
   "version": "3.8.2"
  }
 },
 "nbformat": 4,
 "nbformat_minor": 5
}
