{
 "cells": [
  {
   "cell_type": "markdown",
   "source": [
    "# WRDS Data Pull\n",
    "\n",
    "This notebook shows how to pull the different tables from WRDS using the wrds package."
   ],
   "metadata": {
    "collapsed": false
   },
   "id": "23c15aca5e4888a4"
  },
  {
   "cell_type": "code",
   "outputs": [],
   "source": [
    "import wrds\n",
    "\n",
    "import config\n",
    "\n",
    "WRDS_USERNAME = config.WRDS_USERNAME"
   ],
   "metadata": {
    "collapsed": false,
    "ExecuteTime": {
     "end_time": "2024-02-20T22:57:43.582077Z",
     "start_time": "2024-02-20T22:57:43.061768Z"
    }
   },
   "id": "db18338837998550",
   "execution_count": 1
  },
  {
   "cell_type": "code",
   "outputs": [
    {
     "name": "stdout",
     "output_type": "stream",
     "text": [
      "Loading library list...\n",
      "Done\n"
     ]
    }
   ],
   "source": [
    "db = wrds.Connection(wrds_username=WRDS_USERNAME)"
   ],
   "metadata": {
    "collapsed": false,
    "ExecuteTime": {
     "end_time": "2024-02-20T22:57:45.628695Z",
     "start_time": "2024-02-20T22:57:43.583676Z"
    }
   },
   "id": "7aa5758341ff56fc",
   "execution_count": 2
  },
  {
   "cell_type": "code",
   "outputs": [
    {
     "data": {
      "text/plain": "  reprisk_id         company_name  \\\n0         10             Acer Inc   \n1        100        Rio Tinto PLC   \n2       1000  Terrane Metals Corp   \n3      10000  RAK Properties PJSC   \n4     100000       BLUECOM Co Ltd   \n\n                                headquarters_country  \\\n0                                             Taiwan   \n1  United Kingdom of Great Britain and Northern I...   \n2                                             Canada   \n3                               United Arab Emirates   \n4               Korea, the Republic of (South Korea)   \n\n  headquarters_country_isocode                            sectors  \\\n0                           TW  Technology Hardware and Equipment   \n1                           GB                             Mining   \n2                           CA                             Mining   \n3                           AE                 Financial Services   \n4                           KR  Technology Hardware and Equipment   \n\n                             url  \\\n0           https://www.acer.com   \n1      https://www.riotinto.com/   \n2              terranemetals.com   \n3  https://www.rakproperties.ae/   \n4    http://www.bluec.co.kr/eng/   \n\n                                               isins  primary_isin  \\\n0         US0044341065 | US0044342055 | TW0002353000  TW0002353000   \n1  GB0007406639 | BRRIOTBDR007 | ARDEUT112638 | G...  GB0007188757   \n2  CA88103A1167 | US88103A3068 | CA88103A1084 | C...  CA88103A1084   \n3                                       AER000601016  AER000601016   \n4                                       KR7033560004  KR7033560004   \n\n  no_reported_risk_exposure  \n0                     false  \n1                     false  \n2                     false  \n3                      true  \n4                     false  ",
      "text/html": "<div>\n<style scoped>\n    .dataframe tbody tr th:only-of-type {\n        vertical-align: middle;\n    }\n\n    .dataframe tbody tr th {\n        vertical-align: top;\n    }\n\n    .dataframe thead th {\n        text-align: right;\n    }\n</style>\n<table border=\"1\" class=\"dataframe\">\n  <thead>\n    <tr style=\"text-align: right;\">\n      <th></th>\n      <th>reprisk_id</th>\n      <th>company_name</th>\n      <th>headquarters_country</th>\n      <th>headquarters_country_isocode</th>\n      <th>sectors</th>\n      <th>url</th>\n      <th>isins</th>\n      <th>primary_isin</th>\n      <th>no_reported_risk_exposure</th>\n    </tr>\n  </thead>\n  <tbody>\n    <tr>\n      <th>0</th>\n      <td>10</td>\n      <td>Acer Inc</td>\n      <td>Taiwan</td>\n      <td>TW</td>\n      <td>Technology Hardware and Equipment</td>\n      <td>https://www.acer.com</td>\n      <td>US0044341065 | US0044342055 | TW0002353000</td>\n      <td>TW0002353000</td>\n      <td>false</td>\n    </tr>\n    <tr>\n      <th>1</th>\n      <td>100</td>\n      <td>Rio Tinto PLC</td>\n      <td>United Kingdom of Great Britain and Northern I...</td>\n      <td>GB</td>\n      <td>Mining</td>\n      <td>https://www.riotinto.com/</td>\n      <td>GB0007406639 | BRRIOTBDR007 | ARDEUT112638 | G...</td>\n      <td>GB0007188757</td>\n      <td>false</td>\n    </tr>\n    <tr>\n      <th>2</th>\n      <td>1000</td>\n      <td>Terrane Metals Corp</td>\n      <td>Canada</td>\n      <td>CA</td>\n      <td>Mining</td>\n      <td>terranemetals.com</td>\n      <td>CA88103A1167 | US88103A3068 | CA88103A1084 | C...</td>\n      <td>CA88103A1084</td>\n      <td>false</td>\n    </tr>\n    <tr>\n      <th>3</th>\n      <td>10000</td>\n      <td>RAK Properties PJSC</td>\n      <td>United Arab Emirates</td>\n      <td>AE</td>\n      <td>Financial Services</td>\n      <td>https://www.rakproperties.ae/</td>\n      <td>AER000601016</td>\n      <td>AER000601016</td>\n      <td>true</td>\n    </tr>\n    <tr>\n      <th>4</th>\n      <td>100000</td>\n      <td>BLUECOM Co Ltd</td>\n      <td>Korea, the Republic of (South Korea)</td>\n      <td>KR</td>\n      <td>Technology Hardware and Equipment</td>\n      <td>http://www.bluec.co.kr/eng/</td>\n      <td>KR7033560004</td>\n      <td>KR7033560004</td>\n      <td>false</td>\n    </tr>\n  </tbody>\n</table>\n</div>"
     },
     "execution_count": 3,
     "metadata": {},
     "output_type": "execute_result"
    }
   ],
   "source": [
    "# RepRisk - Company Identifiers\n",
    "\n",
    "RepRisk_company_identifiers = db.get_table(library='reprisk', table='v2_company_identifiers')\n",
    "RepRisk_company_identifiers.head()"
   ],
   "metadata": {
    "collapsed": false,
    "ExecuteTime": {
     "end_time": "2024-02-20T22:57:50.932664Z",
     "start_time": "2024-02-20T22:57:45.597460Z"
    }
   },
   "id": "dd7009cc00d660e4",
   "execution_count": 3
  },
  {
   "cell_type": "code",
   "outputs": [
    {
     "data": {
      "text/plain": "  reprisk_id  story_id incident_date  unsharp_incident  \\\n0         10       826    2007-02-28                 0   \n1         10      1793    2007-09-09                 0   \n2         10      2335    2007-11-26                 0   \n3         10      2365    2007-08-21                 1   \n4         10      2513    2007-11-30                 0   \n\n                 related_countries related_countries_codes  severity  reach  \\\n0                            China                      CN         2      2   \n1                          Germany                      DE         1      2   \n2                      Unspecified                    None         1      2   \n3                            China                      CN         2      1   \n4  Russian Federation;South Africa                   RU;ZA         1      1   \n\n   novelty environment  ... ungc_principle_1 ungc_principle_2  \\\n0        1           F  ...                F                F   \n1        1           F  ...                F                F   \n2        1           F  ...                F                F   \n3        2           F  ...                T                T   \n4        2           F  ...                T                F   \n\n  ungc_principle_3 ungc_principle_4 ungc_principle_5 ungc_principle_6  \\\n0                F                F                F                F   \n1                F                F                F                F   \n2                F                F                F                F   \n3                F                F                T                F   \n4                F                F                F                F   \n\n  ungc_principle_7 ungc_principle_8 ungc_principle_9 ungc_principle_10  \n0                F                F                F                 F  \n1                F                F                F                 F  \n2                F                F                F                 F  \n3                F                F                F                 F  \n4                F                F                F                 F  \n\n[5 rows x 125 columns]",
      "text/html": "<div>\n<style scoped>\n    .dataframe tbody tr th:only-of-type {\n        vertical-align: middle;\n    }\n\n    .dataframe tbody tr th {\n        vertical-align: top;\n    }\n\n    .dataframe thead th {\n        text-align: right;\n    }\n</style>\n<table border=\"1\" class=\"dataframe\">\n  <thead>\n    <tr style=\"text-align: right;\">\n      <th></th>\n      <th>reprisk_id</th>\n      <th>story_id</th>\n      <th>incident_date</th>\n      <th>unsharp_incident</th>\n      <th>related_countries</th>\n      <th>related_countries_codes</th>\n      <th>severity</th>\n      <th>reach</th>\n      <th>novelty</th>\n      <th>environment</th>\n      <th>...</th>\n      <th>ungc_principle_1</th>\n      <th>ungc_principle_2</th>\n      <th>ungc_principle_3</th>\n      <th>ungc_principle_4</th>\n      <th>ungc_principle_5</th>\n      <th>ungc_principle_6</th>\n      <th>ungc_principle_7</th>\n      <th>ungc_principle_8</th>\n      <th>ungc_principle_9</th>\n      <th>ungc_principle_10</th>\n    </tr>\n  </thead>\n  <tbody>\n    <tr>\n      <th>0</th>\n      <td>10</td>\n      <td>826</td>\n      <td>2007-02-28</td>\n      <td>0</td>\n      <td>China</td>\n      <td>CN</td>\n      <td>2</td>\n      <td>2</td>\n      <td>1</td>\n      <td>F</td>\n      <td>...</td>\n      <td>F</td>\n      <td>F</td>\n      <td>F</td>\n      <td>F</td>\n      <td>F</td>\n      <td>F</td>\n      <td>F</td>\n      <td>F</td>\n      <td>F</td>\n      <td>F</td>\n    </tr>\n    <tr>\n      <th>1</th>\n      <td>10</td>\n      <td>1793</td>\n      <td>2007-09-09</td>\n      <td>0</td>\n      <td>Germany</td>\n      <td>DE</td>\n      <td>1</td>\n      <td>2</td>\n      <td>1</td>\n      <td>F</td>\n      <td>...</td>\n      <td>F</td>\n      <td>F</td>\n      <td>F</td>\n      <td>F</td>\n      <td>F</td>\n      <td>F</td>\n      <td>F</td>\n      <td>F</td>\n      <td>F</td>\n      <td>F</td>\n    </tr>\n    <tr>\n      <th>2</th>\n      <td>10</td>\n      <td>2335</td>\n      <td>2007-11-26</td>\n      <td>0</td>\n      <td>Unspecified</td>\n      <td>None</td>\n      <td>1</td>\n      <td>2</td>\n      <td>1</td>\n      <td>F</td>\n      <td>...</td>\n      <td>F</td>\n      <td>F</td>\n      <td>F</td>\n      <td>F</td>\n      <td>F</td>\n      <td>F</td>\n      <td>F</td>\n      <td>F</td>\n      <td>F</td>\n      <td>F</td>\n    </tr>\n    <tr>\n      <th>3</th>\n      <td>10</td>\n      <td>2365</td>\n      <td>2007-08-21</td>\n      <td>1</td>\n      <td>China</td>\n      <td>CN</td>\n      <td>2</td>\n      <td>1</td>\n      <td>2</td>\n      <td>F</td>\n      <td>...</td>\n      <td>T</td>\n      <td>T</td>\n      <td>F</td>\n      <td>F</td>\n      <td>T</td>\n      <td>F</td>\n      <td>F</td>\n      <td>F</td>\n      <td>F</td>\n      <td>F</td>\n    </tr>\n    <tr>\n      <th>4</th>\n      <td>10</td>\n      <td>2513</td>\n      <td>2007-11-30</td>\n      <td>0</td>\n      <td>Russian Federation;South Africa</td>\n      <td>RU;ZA</td>\n      <td>1</td>\n      <td>1</td>\n      <td>2</td>\n      <td>F</td>\n      <td>...</td>\n      <td>T</td>\n      <td>F</td>\n      <td>F</td>\n      <td>F</td>\n      <td>F</td>\n      <td>F</td>\n      <td>F</td>\n      <td>F</td>\n      <td>F</td>\n      <td>F</td>\n    </tr>\n  </tbody>\n</table>\n<p>5 rows × 125 columns</p>\n</div>"
     },
     "execution_count": 4,
     "metadata": {},
     "output_type": "execute_result"
    }
   ],
   "source": [
    "# RepRisk - Risk Incidents available since 2007\n",
    "\n",
    "RepRisk_risk_incidents = db.get_table(library='reprisk', table='v2_risk_incidents')\n",
    "RepRisk_risk_incidents.head()"
   ],
   "metadata": {
    "collapsed": false,
    "ExecuteTime": {
     "end_time": "2024-02-20T22:58:19.763354Z",
     "start_time": "2024-02-20T22:57:50.928634Z"
    }
   },
   "id": "b3aeaac3c7d85b6",
   "execution_count": 4
  },
  {
   "cell_type": "markdown",
   "source": [
    "We are going to keep variables until governance, the next ones being non relevant for our project."
   ],
   "metadata": {
    "collapsed": false
   },
   "id": "439fafdcc3cd4b76"
  },
  {
   "cell_type": "code",
   "outputs": [
    {
     "data": {
      "text/plain": "  reprisk_id        date  current_rri  trend_rri  peak_rri peak_rri_date  \\\n0         10  2007-01-01           24         24        24    2007-01-01   \n1         10  2007-01-02           24         24        24    2007-01-01   \n2         10  2007-01-03           24         24        24    2007-01-01   \n3         10  2007-01-04           24         24        24    2007-01-01   \n4         10  2007-01-05           24         24        24    2007-01-01   \n\n  reprisk_rating  country_sector_average principle1_human_rights  \\\n0             AA                      13                    None   \n1             AA                      13                    None   \n2             AA                      13                    None   \n3             AA                      13                    None   \n4             AA                      13                    None   \n\n  principle2_human_rights principle3_labour principle4_labour  \\\n0                    None              None              None   \n1                    None              None              None   \n2                    None              None              None   \n3                    None              None              None   \n4                    None              None              None   \n\n  principle5_labour principle6_labour principle7_environment  \\\n0              None              None                   None   \n1              None              None                   None   \n2              None              None                   None   \n3              None              None                   None   \n4              None              None                   None   \n\n  principle8_environment principle9_environment principle10_anti_corruption  \n0                   None                   None                        None  \n1                   None                   None                        None  \n2                   None                   None                        None  \n3                   None                   None                        None  \n4                   None                   None                        None  ",
      "text/html": "<div>\n<style scoped>\n    .dataframe tbody tr th:only-of-type {\n        vertical-align: middle;\n    }\n\n    .dataframe tbody tr th {\n        vertical-align: top;\n    }\n\n    .dataframe thead th {\n        text-align: right;\n    }\n</style>\n<table border=\"1\" class=\"dataframe\">\n  <thead>\n    <tr style=\"text-align: right;\">\n      <th></th>\n      <th>reprisk_id</th>\n      <th>date</th>\n      <th>current_rri</th>\n      <th>trend_rri</th>\n      <th>peak_rri</th>\n      <th>peak_rri_date</th>\n      <th>reprisk_rating</th>\n      <th>country_sector_average</th>\n      <th>principle1_human_rights</th>\n      <th>principle2_human_rights</th>\n      <th>principle3_labour</th>\n      <th>principle4_labour</th>\n      <th>principle5_labour</th>\n      <th>principle6_labour</th>\n      <th>principle7_environment</th>\n      <th>principle8_environment</th>\n      <th>principle9_environment</th>\n      <th>principle10_anti_corruption</th>\n    </tr>\n  </thead>\n  <tbody>\n    <tr>\n      <th>0</th>\n      <td>10</td>\n      <td>2007-01-01</td>\n      <td>24</td>\n      <td>24</td>\n      <td>24</td>\n      <td>2007-01-01</td>\n      <td>AA</td>\n      <td>13</td>\n      <td>None</td>\n      <td>None</td>\n      <td>None</td>\n      <td>None</td>\n      <td>None</td>\n      <td>None</td>\n      <td>None</td>\n      <td>None</td>\n      <td>None</td>\n      <td>None</td>\n    </tr>\n    <tr>\n      <th>1</th>\n      <td>10</td>\n      <td>2007-01-02</td>\n      <td>24</td>\n      <td>24</td>\n      <td>24</td>\n      <td>2007-01-01</td>\n      <td>AA</td>\n      <td>13</td>\n      <td>None</td>\n      <td>None</td>\n      <td>None</td>\n      <td>None</td>\n      <td>None</td>\n      <td>None</td>\n      <td>None</td>\n      <td>None</td>\n      <td>None</td>\n      <td>None</td>\n    </tr>\n    <tr>\n      <th>2</th>\n      <td>10</td>\n      <td>2007-01-03</td>\n      <td>24</td>\n      <td>24</td>\n      <td>24</td>\n      <td>2007-01-01</td>\n      <td>AA</td>\n      <td>13</td>\n      <td>None</td>\n      <td>None</td>\n      <td>None</td>\n      <td>None</td>\n      <td>None</td>\n      <td>None</td>\n      <td>None</td>\n      <td>None</td>\n      <td>None</td>\n      <td>None</td>\n    </tr>\n    <tr>\n      <th>3</th>\n      <td>10</td>\n      <td>2007-01-04</td>\n      <td>24</td>\n      <td>24</td>\n      <td>24</td>\n      <td>2007-01-01</td>\n      <td>AA</td>\n      <td>13</td>\n      <td>None</td>\n      <td>None</td>\n      <td>None</td>\n      <td>None</td>\n      <td>None</td>\n      <td>None</td>\n      <td>None</td>\n      <td>None</td>\n      <td>None</td>\n      <td>None</td>\n    </tr>\n    <tr>\n      <th>4</th>\n      <td>10</td>\n      <td>2007-01-05</td>\n      <td>24</td>\n      <td>24</td>\n      <td>24</td>\n      <td>2007-01-01</td>\n      <td>AA</td>\n      <td>13</td>\n      <td>None</td>\n      <td>None</td>\n      <td>None</td>\n      <td>None</td>\n      <td>None</td>\n      <td>None</td>\n      <td>None</td>\n      <td>None</td>\n      <td>None</td>\n      <td>None</td>\n    </tr>\n  </tbody>\n</table>\n</div>"
     },
     "execution_count": 5,
     "metadata": {},
     "output_type": "execute_result"
    }
   ],
   "source": [
    "# RepRisk - Metrics available since 2007\n",
    "\n",
    "RepRisk_metrics = db.get_table(library='reprisk', table='v2_metrics', obs=10)\n",
    "RepRisk_metrics.head()"
   ],
   "metadata": {
    "collapsed": false,
    "ExecuteTime": {
     "end_time": "2024-02-20T22:58:19.781151Z",
     "start_time": "2024-02-20T22:58:19.764262Z"
    }
   },
   "id": "4d6f5635f10c46c3",
   "execution_count": 5
  },
  {
   "cell_type": "markdown",
   "source": [
    "Current RRI: The Current RRI denotes the current level of media and stakeholder attention of a company related to ESG issues.\n",
    "\n",
    "Trend RRI: Difference in the RepRisk Index (RRI) between current date and the date 30 days ago.\n",
    "\n",
    "RepRisk Rating: The RepRisk Rating (RRR) facilitates corporate benchmarking against a peer group and the sector, as well as integration of ESG and business conduct risks into business processes. It combines the company-specific ESG risk exposure (provided by the Peak RRI) and the Country- Sector ESG risk exposure (provided by the Country-Sector Average value of a company (see below for details)."
   ],
   "metadata": {
    "collapsed": false
   },
   "id": "5a1692471500a506"
  },
  {
   "cell_type": "markdown",
   "source": [
    "We can join the RepRisk tables on `reprisk_id` to get a full table with all the information."
   ],
   "metadata": {
    "collapsed": false
   },
   "id": "72f482790855b930"
  },
  {
   "cell_type": "code",
   "outputs": [
    {
     "ename": "ProgrammingError",
     "evalue": "(psycopg2.errors.UndefinedTable) relation \"msfanly.msfaamer\" does not exist\nLINE 1: SELECT * FROM msfanly.msfaamer  OFFSET 0;\n                      ^\n\n[SQL: SELECT * FROM msfanly.msfaamer  OFFSET 0;]\n(Background on this error at: https://sqlalche.me/e/14/f405)",
     "output_type": "error",
     "traceback": [
      "\u001B[0;31m---------------------------------------------------------------------------\u001B[0m",
      "\u001B[0;31mUndefinedTable\u001B[0m                            Traceback (most recent call last)",
      "File \u001B[0;32m~/anaconda3/lib/python3.11/site-packages/sqlalchemy/engine/base.py:1819\u001B[0m, in \u001B[0;36mConnection._execute_context\u001B[0;34m(self, dialect, constructor, statement, parameters, execution_options, *args, **kw)\u001B[0m\n\u001B[1;32m   1818\u001B[0m     \u001B[38;5;28;01mif\u001B[39;00m \u001B[38;5;129;01mnot\u001B[39;00m evt_handled:\n\u001B[0;32m-> 1819\u001B[0m         \u001B[38;5;28mself\u001B[39m\u001B[38;5;241m.\u001B[39mdialect\u001B[38;5;241m.\u001B[39mdo_execute(\n\u001B[1;32m   1820\u001B[0m             cursor, statement, parameters, context\n\u001B[1;32m   1821\u001B[0m         )\n\u001B[1;32m   1823\u001B[0m \u001B[38;5;28;01mif\u001B[39;00m \u001B[38;5;28mself\u001B[39m\u001B[38;5;241m.\u001B[39m_has_events \u001B[38;5;129;01mor\u001B[39;00m \u001B[38;5;28mself\u001B[39m\u001B[38;5;241m.\u001B[39mengine\u001B[38;5;241m.\u001B[39m_has_events:\n",
      "File \u001B[0;32m~/anaconda3/lib/python3.11/site-packages/sqlalchemy/engine/default.py:732\u001B[0m, in \u001B[0;36mDefaultDialect.do_execute\u001B[0;34m(self, cursor, statement, parameters, context)\u001B[0m\n\u001B[1;32m    731\u001B[0m \u001B[38;5;28;01mdef\u001B[39;00m \u001B[38;5;21mdo_execute\u001B[39m(\u001B[38;5;28mself\u001B[39m, cursor, statement, parameters, context\u001B[38;5;241m=\u001B[39m\u001B[38;5;28;01mNone\u001B[39;00m):\n\u001B[0;32m--> 732\u001B[0m     cursor\u001B[38;5;241m.\u001B[39mexecute(statement, parameters)\n",
      "\u001B[0;31mUndefinedTable\u001B[0m: relation \"msfanly.msfaamer\" does not exist\nLINE 1: SELECT * FROM msfanly.msfaamer  OFFSET 0;\n                      ^\n",
      "\nThe above exception was the direct cause of the following exception:\n",
      "\u001B[0;31mProgrammingError\u001B[0m                          Traceback (most recent call last)",
      "Cell \u001B[0;32mIn[6], line 3\u001B[0m\n\u001B[1;32m      1\u001B[0m \u001B[38;5;66;03m# Markit Securities Finance Analytics - American Equities available since 2002\u001B[39;00m\n\u001B[0;32m----> 3\u001B[0m db\u001B[38;5;241m.\u001B[39mget_table(library\u001B[38;5;241m=\u001B[39m\u001B[38;5;124m'\u001B[39m\u001B[38;5;124mmsfanly\u001B[39m\u001B[38;5;124m'\u001B[39m, table\u001B[38;5;241m=\u001B[39m\u001B[38;5;124m'\u001B[39m\u001B[38;5;124mmsfaamer\u001B[39m\u001B[38;5;124m'\u001B[39m)\n",
      "File \u001B[0;32m~/anaconda3/lib/python3.11/site-packages/wrds/sql.py:649\u001B[0m, in \u001B[0;36mConnection.get_table\u001B[0;34m(self, library, table, obs, offset, columns, coerce_float, index_col, date_cols)\u001B[0m\n\u001B[1;32m    639\u001B[0m \u001B[38;5;28;01mif\u001B[39;00m \u001B[38;5;28mself\u001B[39m\u001B[38;5;241m.\u001B[39m__check_schema_perms(library):\n\u001B[1;32m    640\u001B[0m     sqlstmt \u001B[38;5;241m=\u001B[39m (\n\u001B[1;32m    641\u001B[0m         \u001B[38;5;124m\"\u001B[39m\u001B[38;5;124mSELECT \u001B[39m\u001B[38;5;132;01m{cols}\u001B[39;00m\u001B[38;5;124m FROM \u001B[39m\u001B[38;5;132;01m{schema}\u001B[39;00m\u001B[38;5;124m.\u001B[39m\u001B[38;5;132;01m{table}\u001B[39;00m\u001B[38;5;124m \u001B[39m\u001B[38;5;132;01m{obsstmt}\u001B[39;00m\u001B[38;5;124m OFFSET \u001B[39m\u001B[38;5;132;01m{offset}\u001B[39;00m\u001B[38;5;124m;\u001B[39m\u001B[38;5;124m\"\u001B[39m\u001B[38;5;241m.\u001B[39mformat(\n\u001B[1;32m    642\u001B[0m             cols\u001B[38;5;241m=\u001B[39mcols,\n\u001B[0;32m   (...)\u001B[0m\n\u001B[1;32m    647\u001B[0m         )\n\u001B[1;32m    648\u001B[0m     )\n\u001B[0;32m--> 649\u001B[0m     \u001B[38;5;28;01mreturn\u001B[39;00m \u001B[38;5;28mself\u001B[39m\u001B[38;5;241m.\u001B[39mraw_sql(\n\u001B[1;32m    650\u001B[0m         sqlstmt,\n\u001B[1;32m    651\u001B[0m         coerce_float\u001B[38;5;241m=\u001B[39mcoerce_float,\n\u001B[1;32m    652\u001B[0m         index_col\u001B[38;5;241m=\u001B[39mindex_col,\n\u001B[1;32m    653\u001B[0m         date_cols\u001B[38;5;241m=\u001B[39mdate_cols,\n\u001B[1;32m    654\u001B[0m     )\n",
      "File \u001B[0;32m~/anaconda3/lib/python3.11/site-packages/wrds/sql.py:573\u001B[0m, in \u001B[0;36mConnection.raw_sql\u001B[0;34m(self, sql, coerce_float, date_cols, index_col, params, chunksize, return_iter)\u001B[0m\n\u001B[1;32m    571\u001B[0m         \u001B[38;5;28;01mreturn\u001B[39;00m full_df\n\u001B[1;32m    572\u001B[0m \u001B[38;5;28;01mexcept\u001B[39;00m sa\u001B[38;5;241m.\u001B[39mexc\u001B[38;5;241m.\u001B[39mProgrammingError \u001B[38;5;28;01mas\u001B[39;00m e:\n\u001B[0;32m--> 573\u001B[0m     \u001B[38;5;28;01mraise\u001B[39;00m e\n",
      "File \u001B[0;32m~/anaconda3/lib/python3.11/site-packages/wrds/sql.py:556\u001B[0m, in \u001B[0;36mConnection.raw_sql\u001B[0;34m(self, sql, coerce_float, date_cols, index_col, params, chunksize, return_iter)\u001B[0m\n\u001B[1;32m    499\u001B[0m \u001B[38;5;250m\u001B[39m\u001B[38;5;124;03m\"\"\"\u001B[39;00m\n\u001B[1;32m    500\u001B[0m \u001B[38;5;124;03mQueries the database using a raw SQL string.\u001B[39;00m\n\u001B[1;32m    501\u001B[0m \n\u001B[0;32m   (...)\u001B[0m\n\u001B[1;32m    552\u001B[0m \u001B[38;5;124;03m    2003-09-10  09:35:20.709000  N       AA       None     None  108100.0  28.200          N      00  1.929947e+15         C  None\u001B[39;00m\n\u001B[1;32m    553\u001B[0m \u001B[38;5;124;03m\"\"\"\u001B[39;00m  \u001B[38;5;66;03m# noqa\u001B[39;00m\n\u001B[1;32m    555\u001B[0m \u001B[38;5;28;01mtry\u001B[39;00m:\n\u001B[0;32m--> 556\u001B[0m     df \u001B[38;5;241m=\u001B[39m pd\u001B[38;5;241m.\u001B[39mread_sql_query(\n\u001B[1;32m    557\u001B[0m         sql,\n\u001B[1;32m    558\u001B[0m         \u001B[38;5;28mself\u001B[39m\u001B[38;5;241m.\u001B[39mconnection,\n\u001B[1;32m    559\u001B[0m         coerce_float\u001B[38;5;241m=\u001B[39mcoerce_float,\n\u001B[1;32m    560\u001B[0m         parse_dates\u001B[38;5;241m=\u001B[39mdate_cols,\n\u001B[1;32m    561\u001B[0m         index_col\u001B[38;5;241m=\u001B[39mindex_col,\n\u001B[1;32m    562\u001B[0m         chunksize\u001B[38;5;241m=\u001B[39mchunksize,\n\u001B[1;32m    563\u001B[0m         params\u001B[38;5;241m=\u001B[39mparams,\n\u001B[1;32m    564\u001B[0m     )\n\u001B[1;32m    565\u001B[0m     \u001B[38;5;28;01mif\u001B[39;00m return_iter \u001B[38;5;129;01mor\u001B[39;00m chunksize \u001B[38;5;129;01mis\u001B[39;00m \u001B[38;5;28;01mNone\u001B[39;00m:\n\u001B[1;32m    566\u001B[0m         \u001B[38;5;28;01mreturn\u001B[39;00m df\n",
      "File \u001B[0;32m~/anaconda3/lib/python3.11/site-packages/pandas/io/sql.py:486\u001B[0m, in \u001B[0;36mread_sql_query\u001B[0;34m(sql, con, index_col, coerce_float, params, parse_dates, chunksize, dtype, dtype_backend)\u001B[0m\n\u001B[1;32m    483\u001B[0m \u001B[38;5;28;01massert\u001B[39;00m dtype_backend \u001B[38;5;129;01mis\u001B[39;00m \u001B[38;5;129;01mnot\u001B[39;00m lib\u001B[38;5;241m.\u001B[39mno_default\n\u001B[1;32m    485\u001B[0m \u001B[38;5;28;01mwith\u001B[39;00m pandasSQL_builder(con) \u001B[38;5;28;01mas\u001B[39;00m pandas_sql:\n\u001B[0;32m--> 486\u001B[0m     \u001B[38;5;28;01mreturn\u001B[39;00m pandas_sql\u001B[38;5;241m.\u001B[39mread_query(\n\u001B[1;32m    487\u001B[0m         sql,\n\u001B[1;32m    488\u001B[0m         index_col\u001B[38;5;241m=\u001B[39mindex_col,\n\u001B[1;32m    489\u001B[0m         params\u001B[38;5;241m=\u001B[39mparams,\n\u001B[1;32m    490\u001B[0m         coerce_float\u001B[38;5;241m=\u001B[39mcoerce_float,\n\u001B[1;32m    491\u001B[0m         parse_dates\u001B[38;5;241m=\u001B[39mparse_dates,\n\u001B[1;32m    492\u001B[0m         chunksize\u001B[38;5;241m=\u001B[39mchunksize,\n\u001B[1;32m    493\u001B[0m         dtype\u001B[38;5;241m=\u001B[39mdtype,\n\u001B[1;32m    494\u001B[0m         dtype_backend\u001B[38;5;241m=\u001B[39mdtype_backend,\n\u001B[1;32m    495\u001B[0m     )\n",
      "File \u001B[0;32m~/anaconda3/lib/python3.11/site-packages/pandas/io/sql.py:1776\u001B[0m, in \u001B[0;36mSQLDatabase.read_query\u001B[0;34m(self, sql, index_col, coerce_float, parse_dates, params, chunksize, dtype, dtype_backend)\u001B[0m\n\u001B[1;32m   1719\u001B[0m \u001B[38;5;28;01mdef\u001B[39;00m \u001B[38;5;21mread_query\u001B[39m(\n\u001B[1;32m   1720\u001B[0m     \u001B[38;5;28mself\u001B[39m,\n\u001B[1;32m   1721\u001B[0m     sql: \u001B[38;5;28mstr\u001B[39m,\n\u001B[0;32m   (...)\u001B[0m\n\u001B[1;32m   1728\u001B[0m     dtype_backend: DtypeBackend \u001B[38;5;241m|\u001B[39m Literal[\u001B[38;5;124m\"\u001B[39m\u001B[38;5;124mnumpy\u001B[39m\u001B[38;5;124m\"\u001B[39m] \u001B[38;5;241m=\u001B[39m \u001B[38;5;124m\"\u001B[39m\u001B[38;5;124mnumpy\u001B[39m\u001B[38;5;124m\"\u001B[39m,\n\u001B[1;32m   1729\u001B[0m ) \u001B[38;5;241m-\u001B[39m\u001B[38;5;241m>\u001B[39m DataFrame \u001B[38;5;241m|\u001B[39m Iterator[DataFrame]:\n\u001B[1;32m   1730\u001B[0m \u001B[38;5;250m    \u001B[39m\u001B[38;5;124;03m\"\"\"\u001B[39;00m\n\u001B[1;32m   1731\u001B[0m \u001B[38;5;124;03m    Read SQL query into a DataFrame.\u001B[39;00m\n\u001B[1;32m   1732\u001B[0m \n\u001B[0;32m   (...)\u001B[0m\n\u001B[1;32m   1774\u001B[0m \n\u001B[1;32m   1775\u001B[0m \u001B[38;5;124;03m    \"\"\"\u001B[39;00m\n\u001B[0;32m-> 1776\u001B[0m     result \u001B[38;5;241m=\u001B[39m \u001B[38;5;28mself\u001B[39m\u001B[38;5;241m.\u001B[39mexecute(sql, params)\n\u001B[1;32m   1777\u001B[0m     columns \u001B[38;5;241m=\u001B[39m result\u001B[38;5;241m.\u001B[39mkeys()\n\u001B[1;32m   1779\u001B[0m     \u001B[38;5;28;01mif\u001B[39;00m chunksize \u001B[38;5;129;01mis\u001B[39;00m \u001B[38;5;129;01mnot\u001B[39;00m \u001B[38;5;28;01mNone\u001B[39;00m:\n",
      "File \u001B[0;32m~/anaconda3/lib/python3.11/site-packages/pandas/io/sql.py:1599\u001B[0m, in \u001B[0;36mSQLDatabase.execute\u001B[0;34m(self, sql, params)\u001B[0m\n\u001B[1;32m   1597\u001B[0m args \u001B[38;5;241m=\u001B[39m [] \u001B[38;5;28;01mif\u001B[39;00m params \u001B[38;5;129;01mis\u001B[39;00m \u001B[38;5;28;01mNone\u001B[39;00m \u001B[38;5;28;01melse\u001B[39;00m [params]\n\u001B[1;32m   1598\u001B[0m \u001B[38;5;28;01mif\u001B[39;00m \u001B[38;5;28misinstance\u001B[39m(sql, \u001B[38;5;28mstr\u001B[39m):\n\u001B[0;32m-> 1599\u001B[0m     \u001B[38;5;28;01mreturn\u001B[39;00m \u001B[38;5;28mself\u001B[39m\u001B[38;5;241m.\u001B[39mcon\u001B[38;5;241m.\u001B[39mexec_driver_sql(sql, \u001B[38;5;241m*\u001B[39margs)\n\u001B[1;32m   1600\u001B[0m \u001B[38;5;28;01mreturn\u001B[39;00m \u001B[38;5;28mself\u001B[39m\u001B[38;5;241m.\u001B[39mcon\u001B[38;5;241m.\u001B[39mexecute(sql, \u001B[38;5;241m*\u001B[39margs)\n",
      "File \u001B[0;32m~/anaconda3/lib/python3.11/site-packages/sqlalchemy/engine/base.py:1686\u001B[0m, in \u001B[0;36mConnection.exec_driver_sql\u001B[0;34m(self, statement, parameters, execution_options)\u001B[0m\n\u001B[1;32m   1636\u001B[0m \u001B[38;5;250m\u001B[39m\u001B[38;5;124mr\u001B[39m\u001B[38;5;124;03m\"\"\"Executes a SQL statement construct and returns a\u001B[39;00m\n\u001B[1;32m   1637\u001B[0m \u001B[38;5;124;03m:class:`_engine.CursorResult`.\u001B[39;00m\n\u001B[1;32m   1638\u001B[0m \n\u001B[0;32m   (...)\u001B[0m\n\u001B[1;32m   1681\u001B[0m \n\u001B[1;32m   1682\u001B[0m \u001B[38;5;124;03m\"\"\"\u001B[39;00m\n\u001B[1;32m   1684\u001B[0m args_10style, kwargs_10style \u001B[38;5;241m=\u001B[39m _distill_params_20(parameters)\n\u001B[0;32m-> 1686\u001B[0m \u001B[38;5;28;01mreturn\u001B[39;00m \u001B[38;5;28mself\u001B[39m\u001B[38;5;241m.\u001B[39m_exec_driver_sql(\n\u001B[1;32m   1687\u001B[0m     statement,\n\u001B[1;32m   1688\u001B[0m     args_10style,\n\u001B[1;32m   1689\u001B[0m     kwargs_10style,\n\u001B[1;32m   1690\u001B[0m     execution_options,\n\u001B[1;32m   1691\u001B[0m     future\u001B[38;5;241m=\u001B[39m\u001B[38;5;28;01mTrue\u001B[39;00m,\n\u001B[1;32m   1692\u001B[0m )\n",
      "File \u001B[0;32m~/anaconda3/lib/python3.11/site-packages/sqlalchemy/engine/base.py:1595\u001B[0m, in \u001B[0;36mConnection._exec_driver_sql\u001B[0;34m(self, statement, multiparams, params, execution_options, future)\u001B[0m\n\u001B[1;32m   1585\u001B[0m         (\n\u001B[1;32m   1586\u001B[0m             statement,\n\u001B[1;32m   1587\u001B[0m             distilled_params,\n\u001B[0;32m   (...)\u001B[0m\n\u001B[1;32m   1591\u001B[0m             statement, distilled_parameters, execution_options\n\u001B[1;32m   1592\u001B[0m         )\n\u001B[1;32m   1594\u001B[0m dialect \u001B[38;5;241m=\u001B[39m \u001B[38;5;28mself\u001B[39m\u001B[38;5;241m.\u001B[39mdialect\n\u001B[0;32m-> 1595\u001B[0m ret \u001B[38;5;241m=\u001B[39m \u001B[38;5;28mself\u001B[39m\u001B[38;5;241m.\u001B[39m_execute_context(\n\u001B[1;32m   1596\u001B[0m     dialect,\n\u001B[1;32m   1597\u001B[0m     dialect\u001B[38;5;241m.\u001B[39mexecution_ctx_cls\u001B[38;5;241m.\u001B[39m_init_statement,\n\u001B[1;32m   1598\u001B[0m     statement,\n\u001B[1;32m   1599\u001B[0m     distilled_parameters,\n\u001B[1;32m   1600\u001B[0m     execution_options,\n\u001B[1;32m   1601\u001B[0m     statement,\n\u001B[1;32m   1602\u001B[0m     distilled_parameters,\n\u001B[1;32m   1603\u001B[0m )\n\u001B[1;32m   1605\u001B[0m \u001B[38;5;28;01mif\u001B[39;00m \u001B[38;5;129;01mnot\u001B[39;00m future:\n\u001B[1;32m   1606\u001B[0m     \u001B[38;5;28;01mif\u001B[39;00m \u001B[38;5;28mself\u001B[39m\u001B[38;5;241m.\u001B[39m_has_events \u001B[38;5;129;01mor\u001B[39;00m \u001B[38;5;28mself\u001B[39m\u001B[38;5;241m.\u001B[39mengine\u001B[38;5;241m.\u001B[39m_has_events:\n",
      "File \u001B[0;32m~/anaconda3/lib/python3.11/site-packages/sqlalchemy/engine/base.py:1862\u001B[0m, in \u001B[0;36mConnection._execute_context\u001B[0;34m(self, dialect, constructor, statement, parameters, execution_options, *args, **kw)\u001B[0m\n\u001B[1;32m   1859\u001B[0m             branched\u001B[38;5;241m.\u001B[39mclose()\n\u001B[1;32m   1861\u001B[0m \u001B[38;5;28;01mexcept\u001B[39;00m \u001B[38;5;167;01mBaseException\u001B[39;00m \u001B[38;5;28;01mas\u001B[39;00m e:\n\u001B[0;32m-> 1862\u001B[0m     \u001B[38;5;28mself\u001B[39m\u001B[38;5;241m.\u001B[39m_handle_dbapi_exception(\n\u001B[1;32m   1863\u001B[0m         e, statement, parameters, cursor, context\n\u001B[1;32m   1864\u001B[0m     )\n\u001B[1;32m   1866\u001B[0m \u001B[38;5;28;01mreturn\u001B[39;00m result\n",
      "File \u001B[0;32m~/anaconda3/lib/python3.11/site-packages/sqlalchemy/engine/base.py:2043\u001B[0m, in \u001B[0;36mConnection._handle_dbapi_exception\u001B[0;34m(self, e, statement, parameters, cursor, context)\u001B[0m\n\u001B[1;32m   2041\u001B[0m     util\u001B[38;5;241m.\u001B[39mraise_(newraise, with_traceback\u001B[38;5;241m=\u001B[39mexc_info[\u001B[38;5;241m2\u001B[39m], from_\u001B[38;5;241m=\u001B[39me)\n\u001B[1;32m   2042\u001B[0m \u001B[38;5;28;01melif\u001B[39;00m should_wrap:\n\u001B[0;32m-> 2043\u001B[0m     util\u001B[38;5;241m.\u001B[39mraise_(\n\u001B[1;32m   2044\u001B[0m         sqlalchemy_exception, with_traceback\u001B[38;5;241m=\u001B[39mexc_info[\u001B[38;5;241m2\u001B[39m], from_\u001B[38;5;241m=\u001B[39me\n\u001B[1;32m   2045\u001B[0m     )\n\u001B[1;32m   2046\u001B[0m \u001B[38;5;28;01melse\u001B[39;00m:\n\u001B[1;32m   2047\u001B[0m     util\u001B[38;5;241m.\u001B[39mraise_(exc_info[\u001B[38;5;241m1\u001B[39m], with_traceback\u001B[38;5;241m=\u001B[39mexc_info[\u001B[38;5;241m2\u001B[39m])\n",
      "File \u001B[0;32m~/anaconda3/lib/python3.11/site-packages/sqlalchemy/util/compat.py:208\u001B[0m, in \u001B[0;36mraise_\u001B[0;34m(***failed resolving arguments***)\u001B[0m\n\u001B[1;32m    205\u001B[0m     exception\u001B[38;5;241m.\u001B[39m__cause__ \u001B[38;5;241m=\u001B[39m replace_context\n\u001B[1;32m    207\u001B[0m \u001B[38;5;28;01mtry\u001B[39;00m:\n\u001B[0;32m--> 208\u001B[0m     \u001B[38;5;28;01mraise\u001B[39;00m exception\n\u001B[1;32m    209\u001B[0m \u001B[38;5;28;01mfinally\u001B[39;00m:\n\u001B[1;32m    210\u001B[0m     \u001B[38;5;66;03m# credit to\u001B[39;00m\n\u001B[1;32m    211\u001B[0m     \u001B[38;5;66;03m# https://cosmicpercolator.com/2016/01/13/exception-leaks-in-python-2-and-3/\u001B[39;00m\n\u001B[1;32m    212\u001B[0m     \u001B[38;5;66;03m# as the __traceback__ object creates a cycle\u001B[39;00m\n\u001B[1;32m    213\u001B[0m     \u001B[38;5;28;01mdel\u001B[39;00m exception, replace_context, from_, with_traceback\n",
      "File \u001B[0;32m~/anaconda3/lib/python3.11/site-packages/sqlalchemy/engine/base.py:1819\u001B[0m, in \u001B[0;36mConnection._execute_context\u001B[0;34m(self, dialect, constructor, statement, parameters, execution_options, *args, **kw)\u001B[0m\n\u001B[1;32m   1817\u001B[0m                 \u001B[38;5;28;01mbreak\u001B[39;00m\n\u001B[1;32m   1818\u001B[0m     \u001B[38;5;28;01mif\u001B[39;00m \u001B[38;5;129;01mnot\u001B[39;00m evt_handled:\n\u001B[0;32m-> 1819\u001B[0m         \u001B[38;5;28mself\u001B[39m\u001B[38;5;241m.\u001B[39mdialect\u001B[38;5;241m.\u001B[39mdo_execute(\n\u001B[1;32m   1820\u001B[0m             cursor, statement, parameters, context\n\u001B[1;32m   1821\u001B[0m         )\n\u001B[1;32m   1823\u001B[0m \u001B[38;5;28;01mif\u001B[39;00m \u001B[38;5;28mself\u001B[39m\u001B[38;5;241m.\u001B[39m_has_events \u001B[38;5;129;01mor\u001B[39;00m \u001B[38;5;28mself\u001B[39m\u001B[38;5;241m.\u001B[39mengine\u001B[38;5;241m.\u001B[39m_has_events:\n\u001B[1;32m   1824\u001B[0m     \u001B[38;5;28mself\u001B[39m\u001B[38;5;241m.\u001B[39mdispatch\u001B[38;5;241m.\u001B[39mafter_cursor_execute(\n\u001B[1;32m   1825\u001B[0m         \u001B[38;5;28mself\u001B[39m,\n\u001B[1;32m   1826\u001B[0m         cursor,\n\u001B[0;32m   (...)\u001B[0m\n\u001B[1;32m   1830\u001B[0m         context\u001B[38;5;241m.\u001B[39mexecutemany,\n\u001B[1;32m   1831\u001B[0m     )\n",
      "File \u001B[0;32m~/anaconda3/lib/python3.11/site-packages/sqlalchemy/engine/default.py:732\u001B[0m, in \u001B[0;36mDefaultDialect.do_execute\u001B[0;34m(self, cursor, statement, parameters, context)\u001B[0m\n\u001B[1;32m    731\u001B[0m \u001B[38;5;28;01mdef\u001B[39;00m \u001B[38;5;21mdo_execute\u001B[39m(\u001B[38;5;28mself\u001B[39m, cursor, statement, parameters, context\u001B[38;5;241m=\u001B[39m\u001B[38;5;28;01mNone\u001B[39;00m):\n\u001B[0;32m--> 732\u001B[0m     cursor\u001B[38;5;241m.\u001B[39mexecute(statement, parameters)\n",
      "\u001B[0;31mProgrammingError\u001B[0m: (psycopg2.errors.UndefinedTable) relation \"msfanly.msfaamer\" does not exist\nLINE 1: SELECT * FROM msfanly.msfaamer  OFFSET 0;\n                      ^\n\n[SQL: SELECT * FROM msfanly.msfaamer  OFFSET 0;]\n(Background on this error at: https://sqlalche.me/e/14/f405)"
     ]
    }
   ],
   "source": [
    "# Markit Securities Finance Analytics - American Equities available since 2002\n",
    "\n",
    "db.get_table(library='msfanly', table='msfaamer')"
   ],
   "metadata": {
    "collapsed": false,
    "ExecuteTime": {
     "end_time": "2024-02-20T22:58:44.406548Z",
     "start_time": "2024-02-20T22:58:43.855960Z"
    }
   },
   "id": "cb5fe4b85b39fddb",
   "execution_count": 6
  },
  {
   "cell_type": "code",
   "outputs": [
    {
     "ename": "ProgrammingError",
     "evalue": "(psycopg2.errors.UndefinedTable) relation \"markit_msf_analytics_eqty_amer.msfaamer\" does not exist\nLINE 1: SELECT * FROM markit_msf_analytics_eqty_amer.msfaamer  OFFSE...\n                      ^\n\n[SQL: SELECT * FROM markit_msf_analytics_eqty_amer.msfaamer  OFFSET 0;]\n(Background on this error at: https://sqlalche.me/e/14/f405)",
     "output_type": "error",
     "traceback": [
      "\u001B[0;31m---------------------------------------------------------------------------\u001B[0m",
      "\u001B[0;31mUndefinedTable\u001B[0m                            Traceback (most recent call last)",
      "File \u001B[0;32m~/anaconda3/lib/python3.11/site-packages/sqlalchemy/engine/base.py:1819\u001B[0m, in \u001B[0;36mConnection._execute_context\u001B[0;34m(self, dialect, constructor, statement, parameters, execution_options, *args, **kw)\u001B[0m\n\u001B[1;32m   1818\u001B[0m     \u001B[38;5;28;01mif\u001B[39;00m \u001B[38;5;129;01mnot\u001B[39;00m evt_handled:\n\u001B[0;32m-> 1819\u001B[0m         \u001B[38;5;28mself\u001B[39m\u001B[38;5;241m.\u001B[39mdialect\u001B[38;5;241m.\u001B[39mdo_execute(\n\u001B[1;32m   1820\u001B[0m             cursor, statement, parameters, context\n\u001B[1;32m   1821\u001B[0m         )\n\u001B[1;32m   1823\u001B[0m \u001B[38;5;28;01mif\u001B[39;00m \u001B[38;5;28mself\u001B[39m\u001B[38;5;241m.\u001B[39m_has_events \u001B[38;5;129;01mor\u001B[39;00m \u001B[38;5;28mself\u001B[39m\u001B[38;5;241m.\u001B[39mengine\u001B[38;5;241m.\u001B[39m_has_events:\n",
      "File \u001B[0;32m~/anaconda3/lib/python3.11/site-packages/sqlalchemy/engine/default.py:732\u001B[0m, in \u001B[0;36mDefaultDialect.do_execute\u001B[0;34m(self, cursor, statement, parameters, context)\u001B[0m\n\u001B[1;32m    731\u001B[0m \u001B[38;5;28;01mdef\u001B[39;00m \u001B[38;5;21mdo_execute\u001B[39m(\u001B[38;5;28mself\u001B[39m, cursor, statement, parameters, context\u001B[38;5;241m=\u001B[39m\u001B[38;5;28;01mNone\u001B[39;00m):\n\u001B[0;32m--> 732\u001B[0m     cursor\u001B[38;5;241m.\u001B[39mexecute(statement, parameters)\n",
      "\u001B[0;31mUndefinedTable\u001B[0m: relation \"markit_msf_analytics_eqty_amer.msfaamer\" does not exist\nLINE 1: SELECT * FROM markit_msf_analytics_eqty_amer.msfaamer  OFFSE...\n                      ^\n",
      "\nThe above exception was the direct cause of the following exception:\n",
      "\u001B[0;31mProgrammingError\u001B[0m                          Traceback (most recent call last)",
      "Cell \u001B[0;32mIn[7], line 1\u001B[0m\n\u001B[0;32m----> 1\u001B[0m db\u001B[38;5;241m.\u001B[39mget_table(library\u001B[38;5;241m=\u001B[39m\u001B[38;5;124m'\u001B[39m\u001B[38;5;124mmarkit_msf_analytics_eqty_amer\u001B[39m\u001B[38;5;124m'\u001B[39m, table\u001B[38;5;241m=\u001B[39m\u001B[38;5;124m'\u001B[39m\u001B[38;5;124mmsfaamer\u001B[39m\u001B[38;5;124m'\u001B[39m)\n",
      "File \u001B[0;32m~/anaconda3/lib/python3.11/site-packages/wrds/sql.py:649\u001B[0m, in \u001B[0;36mConnection.get_table\u001B[0;34m(self, library, table, obs, offset, columns, coerce_float, index_col, date_cols)\u001B[0m\n\u001B[1;32m    639\u001B[0m \u001B[38;5;28;01mif\u001B[39;00m \u001B[38;5;28mself\u001B[39m\u001B[38;5;241m.\u001B[39m__check_schema_perms(library):\n\u001B[1;32m    640\u001B[0m     sqlstmt \u001B[38;5;241m=\u001B[39m (\n\u001B[1;32m    641\u001B[0m         \u001B[38;5;124m\"\u001B[39m\u001B[38;5;124mSELECT \u001B[39m\u001B[38;5;132;01m{cols}\u001B[39;00m\u001B[38;5;124m FROM \u001B[39m\u001B[38;5;132;01m{schema}\u001B[39;00m\u001B[38;5;124m.\u001B[39m\u001B[38;5;132;01m{table}\u001B[39;00m\u001B[38;5;124m \u001B[39m\u001B[38;5;132;01m{obsstmt}\u001B[39;00m\u001B[38;5;124m OFFSET \u001B[39m\u001B[38;5;132;01m{offset}\u001B[39;00m\u001B[38;5;124m;\u001B[39m\u001B[38;5;124m\"\u001B[39m\u001B[38;5;241m.\u001B[39mformat(\n\u001B[1;32m    642\u001B[0m             cols\u001B[38;5;241m=\u001B[39mcols,\n\u001B[0;32m   (...)\u001B[0m\n\u001B[1;32m    647\u001B[0m         )\n\u001B[1;32m    648\u001B[0m     )\n\u001B[0;32m--> 649\u001B[0m     \u001B[38;5;28;01mreturn\u001B[39;00m \u001B[38;5;28mself\u001B[39m\u001B[38;5;241m.\u001B[39mraw_sql(\n\u001B[1;32m    650\u001B[0m         sqlstmt,\n\u001B[1;32m    651\u001B[0m         coerce_float\u001B[38;5;241m=\u001B[39mcoerce_float,\n\u001B[1;32m    652\u001B[0m         index_col\u001B[38;5;241m=\u001B[39mindex_col,\n\u001B[1;32m    653\u001B[0m         date_cols\u001B[38;5;241m=\u001B[39mdate_cols,\n\u001B[1;32m    654\u001B[0m     )\n",
      "File \u001B[0;32m~/anaconda3/lib/python3.11/site-packages/wrds/sql.py:573\u001B[0m, in \u001B[0;36mConnection.raw_sql\u001B[0;34m(self, sql, coerce_float, date_cols, index_col, params, chunksize, return_iter)\u001B[0m\n\u001B[1;32m    571\u001B[0m         \u001B[38;5;28;01mreturn\u001B[39;00m full_df\n\u001B[1;32m    572\u001B[0m \u001B[38;5;28;01mexcept\u001B[39;00m sa\u001B[38;5;241m.\u001B[39mexc\u001B[38;5;241m.\u001B[39mProgrammingError \u001B[38;5;28;01mas\u001B[39;00m e:\n\u001B[0;32m--> 573\u001B[0m     \u001B[38;5;28;01mraise\u001B[39;00m e\n",
      "File \u001B[0;32m~/anaconda3/lib/python3.11/site-packages/wrds/sql.py:556\u001B[0m, in \u001B[0;36mConnection.raw_sql\u001B[0;34m(self, sql, coerce_float, date_cols, index_col, params, chunksize, return_iter)\u001B[0m\n\u001B[1;32m    499\u001B[0m \u001B[38;5;250m\u001B[39m\u001B[38;5;124;03m\"\"\"\u001B[39;00m\n\u001B[1;32m    500\u001B[0m \u001B[38;5;124;03mQueries the database using a raw SQL string.\u001B[39;00m\n\u001B[1;32m    501\u001B[0m \n\u001B[0;32m   (...)\u001B[0m\n\u001B[1;32m    552\u001B[0m \u001B[38;5;124;03m    2003-09-10  09:35:20.709000  N       AA       None     None  108100.0  28.200          N      00  1.929947e+15         C  None\u001B[39;00m\n\u001B[1;32m    553\u001B[0m \u001B[38;5;124;03m\"\"\"\u001B[39;00m  \u001B[38;5;66;03m# noqa\u001B[39;00m\n\u001B[1;32m    555\u001B[0m \u001B[38;5;28;01mtry\u001B[39;00m:\n\u001B[0;32m--> 556\u001B[0m     df \u001B[38;5;241m=\u001B[39m pd\u001B[38;5;241m.\u001B[39mread_sql_query(\n\u001B[1;32m    557\u001B[0m         sql,\n\u001B[1;32m    558\u001B[0m         \u001B[38;5;28mself\u001B[39m\u001B[38;5;241m.\u001B[39mconnection,\n\u001B[1;32m    559\u001B[0m         coerce_float\u001B[38;5;241m=\u001B[39mcoerce_float,\n\u001B[1;32m    560\u001B[0m         parse_dates\u001B[38;5;241m=\u001B[39mdate_cols,\n\u001B[1;32m    561\u001B[0m         index_col\u001B[38;5;241m=\u001B[39mindex_col,\n\u001B[1;32m    562\u001B[0m         chunksize\u001B[38;5;241m=\u001B[39mchunksize,\n\u001B[1;32m    563\u001B[0m         params\u001B[38;5;241m=\u001B[39mparams,\n\u001B[1;32m    564\u001B[0m     )\n\u001B[1;32m    565\u001B[0m     \u001B[38;5;28;01mif\u001B[39;00m return_iter \u001B[38;5;129;01mor\u001B[39;00m chunksize \u001B[38;5;129;01mis\u001B[39;00m \u001B[38;5;28;01mNone\u001B[39;00m:\n\u001B[1;32m    566\u001B[0m         \u001B[38;5;28;01mreturn\u001B[39;00m df\n",
      "File \u001B[0;32m~/anaconda3/lib/python3.11/site-packages/pandas/io/sql.py:486\u001B[0m, in \u001B[0;36mread_sql_query\u001B[0;34m(sql, con, index_col, coerce_float, params, parse_dates, chunksize, dtype, dtype_backend)\u001B[0m\n\u001B[1;32m    483\u001B[0m \u001B[38;5;28;01massert\u001B[39;00m dtype_backend \u001B[38;5;129;01mis\u001B[39;00m \u001B[38;5;129;01mnot\u001B[39;00m lib\u001B[38;5;241m.\u001B[39mno_default\n\u001B[1;32m    485\u001B[0m \u001B[38;5;28;01mwith\u001B[39;00m pandasSQL_builder(con) \u001B[38;5;28;01mas\u001B[39;00m pandas_sql:\n\u001B[0;32m--> 486\u001B[0m     \u001B[38;5;28;01mreturn\u001B[39;00m pandas_sql\u001B[38;5;241m.\u001B[39mread_query(\n\u001B[1;32m    487\u001B[0m         sql,\n\u001B[1;32m    488\u001B[0m         index_col\u001B[38;5;241m=\u001B[39mindex_col,\n\u001B[1;32m    489\u001B[0m         params\u001B[38;5;241m=\u001B[39mparams,\n\u001B[1;32m    490\u001B[0m         coerce_float\u001B[38;5;241m=\u001B[39mcoerce_float,\n\u001B[1;32m    491\u001B[0m         parse_dates\u001B[38;5;241m=\u001B[39mparse_dates,\n\u001B[1;32m    492\u001B[0m         chunksize\u001B[38;5;241m=\u001B[39mchunksize,\n\u001B[1;32m    493\u001B[0m         dtype\u001B[38;5;241m=\u001B[39mdtype,\n\u001B[1;32m    494\u001B[0m         dtype_backend\u001B[38;5;241m=\u001B[39mdtype_backend,\n\u001B[1;32m    495\u001B[0m     )\n",
      "File \u001B[0;32m~/anaconda3/lib/python3.11/site-packages/pandas/io/sql.py:1776\u001B[0m, in \u001B[0;36mSQLDatabase.read_query\u001B[0;34m(self, sql, index_col, coerce_float, parse_dates, params, chunksize, dtype, dtype_backend)\u001B[0m\n\u001B[1;32m   1719\u001B[0m \u001B[38;5;28;01mdef\u001B[39;00m \u001B[38;5;21mread_query\u001B[39m(\n\u001B[1;32m   1720\u001B[0m     \u001B[38;5;28mself\u001B[39m,\n\u001B[1;32m   1721\u001B[0m     sql: \u001B[38;5;28mstr\u001B[39m,\n\u001B[0;32m   (...)\u001B[0m\n\u001B[1;32m   1728\u001B[0m     dtype_backend: DtypeBackend \u001B[38;5;241m|\u001B[39m Literal[\u001B[38;5;124m\"\u001B[39m\u001B[38;5;124mnumpy\u001B[39m\u001B[38;5;124m\"\u001B[39m] \u001B[38;5;241m=\u001B[39m \u001B[38;5;124m\"\u001B[39m\u001B[38;5;124mnumpy\u001B[39m\u001B[38;5;124m\"\u001B[39m,\n\u001B[1;32m   1729\u001B[0m ) \u001B[38;5;241m-\u001B[39m\u001B[38;5;241m>\u001B[39m DataFrame \u001B[38;5;241m|\u001B[39m Iterator[DataFrame]:\n\u001B[1;32m   1730\u001B[0m \u001B[38;5;250m    \u001B[39m\u001B[38;5;124;03m\"\"\"\u001B[39;00m\n\u001B[1;32m   1731\u001B[0m \u001B[38;5;124;03m    Read SQL query into a DataFrame.\u001B[39;00m\n\u001B[1;32m   1732\u001B[0m \n\u001B[0;32m   (...)\u001B[0m\n\u001B[1;32m   1774\u001B[0m \n\u001B[1;32m   1775\u001B[0m \u001B[38;5;124;03m    \"\"\"\u001B[39;00m\n\u001B[0;32m-> 1776\u001B[0m     result \u001B[38;5;241m=\u001B[39m \u001B[38;5;28mself\u001B[39m\u001B[38;5;241m.\u001B[39mexecute(sql, params)\n\u001B[1;32m   1777\u001B[0m     columns \u001B[38;5;241m=\u001B[39m result\u001B[38;5;241m.\u001B[39mkeys()\n\u001B[1;32m   1779\u001B[0m     \u001B[38;5;28;01mif\u001B[39;00m chunksize \u001B[38;5;129;01mis\u001B[39;00m \u001B[38;5;129;01mnot\u001B[39;00m \u001B[38;5;28;01mNone\u001B[39;00m:\n",
      "File \u001B[0;32m~/anaconda3/lib/python3.11/site-packages/pandas/io/sql.py:1599\u001B[0m, in \u001B[0;36mSQLDatabase.execute\u001B[0;34m(self, sql, params)\u001B[0m\n\u001B[1;32m   1597\u001B[0m args \u001B[38;5;241m=\u001B[39m [] \u001B[38;5;28;01mif\u001B[39;00m params \u001B[38;5;129;01mis\u001B[39;00m \u001B[38;5;28;01mNone\u001B[39;00m \u001B[38;5;28;01melse\u001B[39;00m [params]\n\u001B[1;32m   1598\u001B[0m \u001B[38;5;28;01mif\u001B[39;00m \u001B[38;5;28misinstance\u001B[39m(sql, \u001B[38;5;28mstr\u001B[39m):\n\u001B[0;32m-> 1599\u001B[0m     \u001B[38;5;28;01mreturn\u001B[39;00m \u001B[38;5;28mself\u001B[39m\u001B[38;5;241m.\u001B[39mcon\u001B[38;5;241m.\u001B[39mexec_driver_sql(sql, \u001B[38;5;241m*\u001B[39margs)\n\u001B[1;32m   1600\u001B[0m \u001B[38;5;28;01mreturn\u001B[39;00m \u001B[38;5;28mself\u001B[39m\u001B[38;5;241m.\u001B[39mcon\u001B[38;5;241m.\u001B[39mexecute(sql, \u001B[38;5;241m*\u001B[39margs)\n",
      "File \u001B[0;32m~/anaconda3/lib/python3.11/site-packages/sqlalchemy/engine/base.py:1686\u001B[0m, in \u001B[0;36mConnection.exec_driver_sql\u001B[0;34m(self, statement, parameters, execution_options)\u001B[0m\n\u001B[1;32m   1636\u001B[0m \u001B[38;5;250m\u001B[39m\u001B[38;5;124mr\u001B[39m\u001B[38;5;124;03m\"\"\"Executes a SQL statement construct and returns a\u001B[39;00m\n\u001B[1;32m   1637\u001B[0m \u001B[38;5;124;03m:class:`_engine.CursorResult`.\u001B[39;00m\n\u001B[1;32m   1638\u001B[0m \n\u001B[0;32m   (...)\u001B[0m\n\u001B[1;32m   1681\u001B[0m \n\u001B[1;32m   1682\u001B[0m \u001B[38;5;124;03m\"\"\"\u001B[39;00m\n\u001B[1;32m   1684\u001B[0m args_10style, kwargs_10style \u001B[38;5;241m=\u001B[39m _distill_params_20(parameters)\n\u001B[0;32m-> 1686\u001B[0m \u001B[38;5;28;01mreturn\u001B[39;00m \u001B[38;5;28mself\u001B[39m\u001B[38;5;241m.\u001B[39m_exec_driver_sql(\n\u001B[1;32m   1687\u001B[0m     statement,\n\u001B[1;32m   1688\u001B[0m     args_10style,\n\u001B[1;32m   1689\u001B[0m     kwargs_10style,\n\u001B[1;32m   1690\u001B[0m     execution_options,\n\u001B[1;32m   1691\u001B[0m     future\u001B[38;5;241m=\u001B[39m\u001B[38;5;28;01mTrue\u001B[39;00m,\n\u001B[1;32m   1692\u001B[0m )\n",
      "File \u001B[0;32m~/anaconda3/lib/python3.11/site-packages/sqlalchemy/engine/base.py:1595\u001B[0m, in \u001B[0;36mConnection._exec_driver_sql\u001B[0;34m(self, statement, multiparams, params, execution_options, future)\u001B[0m\n\u001B[1;32m   1585\u001B[0m         (\n\u001B[1;32m   1586\u001B[0m             statement,\n\u001B[1;32m   1587\u001B[0m             distilled_params,\n\u001B[0;32m   (...)\u001B[0m\n\u001B[1;32m   1591\u001B[0m             statement, distilled_parameters, execution_options\n\u001B[1;32m   1592\u001B[0m         )\n\u001B[1;32m   1594\u001B[0m dialect \u001B[38;5;241m=\u001B[39m \u001B[38;5;28mself\u001B[39m\u001B[38;5;241m.\u001B[39mdialect\n\u001B[0;32m-> 1595\u001B[0m ret \u001B[38;5;241m=\u001B[39m \u001B[38;5;28mself\u001B[39m\u001B[38;5;241m.\u001B[39m_execute_context(\n\u001B[1;32m   1596\u001B[0m     dialect,\n\u001B[1;32m   1597\u001B[0m     dialect\u001B[38;5;241m.\u001B[39mexecution_ctx_cls\u001B[38;5;241m.\u001B[39m_init_statement,\n\u001B[1;32m   1598\u001B[0m     statement,\n\u001B[1;32m   1599\u001B[0m     distilled_parameters,\n\u001B[1;32m   1600\u001B[0m     execution_options,\n\u001B[1;32m   1601\u001B[0m     statement,\n\u001B[1;32m   1602\u001B[0m     distilled_parameters,\n\u001B[1;32m   1603\u001B[0m )\n\u001B[1;32m   1605\u001B[0m \u001B[38;5;28;01mif\u001B[39;00m \u001B[38;5;129;01mnot\u001B[39;00m future:\n\u001B[1;32m   1606\u001B[0m     \u001B[38;5;28;01mif\u001B[39;00m \u001B[38;5;28mself\u001B[39m\u001B[38;5;241m.\u001B[39m_has_events \u001B[38;5;129;01mor\u001B[39;00m \u001B[38;5;28mself\u001B[39m\u001B[38;5;241m.\u001B[39mengine\u001B[38;5;241m.\u001B[39m_has_events:\n",
      "File \u001B[0;32m~/anaconda3/lib/python3.11/site-packages/sqlalchemy/engine/base.py:1862\u001B[0m, in \u001B[0;36mConnection._execute_context\u001B[0;34m(self, dialect, constructor, statement, parameters, execution_options, *args, **kw)\u001B[0m\n\u001B[1;32m   1859\u001B[0m             branched\u001B[38;5;241m.\u001B[39mclose()\n\u001B[1;32m   1861\u001B[0m \u001B[38;5;28;01mexcept\u001B[39;00m \u001B[38;5;167;01mBaseException\u001B[39;00m \u001B[38;5;28;01mas\u001B[39;00m e:\n\u001B[0;32m-> 1862\u001B[0m     \u001B[38;5;28mself\u001B[39m\u001B[38;5;241m.\u001B[39m_handle_dbapi_exception(\n\u001B[1;32m   1863\u001B[0m         e, statement, parameters, cursor, context\n\u001B[1;32m   1864\u001B[0m     )\n\u001B[1;32m   1866\u001B[0m \u001B[38;5;28;01mreturn\u001B[39;00m result\n",
      "File \u001B[0;32m~/anaconda3/lib/python3.11/site-packages/sqlalchemy/engine/base.py:2043\u001B[0m, in \u001B[0;36mConnection._handle_dbapi_exception\u001B[0;34m(self, e, statement, parameters, cursor, context)\u001B[0m\n\u001B[1;32m   2041\u001B[0m     util\u001B[38;5;241m.\u001B[39mraise_(newraise, with_traceback\u001B[38;5;241m=\u001B[39mexc_info[\u001B[38;5;241m2\u001B[39m], from_\u001B[38;5;241m=\u001B[39me)\n\u001B[1;32m   2042\u001B[0m \u001B[38;5;28;01melif\u001B[39;00m should_wrap:\n\u001B[0;32m-> 2043\u001B[0m     util\u001B[38;5;241m.\u001B[39mraise_(\n\u001B[1;32m   2044\u001B[0m         sqlalchemy_exception, with_traceback\u001B[38;5;241m=\u001B[39mexc_info[\u001B[38;5;241m2\u001B[39m], from_\u001B[38;5;241m=\u001B[39me\n\u001B[1;32m   2045\u001B[0m     )\n\u001B[1;32m   2046\u001B[0m \u001B[38;5;28;01melse\u001B[39;00m:\n\u001B[1;32m   2047\u001B[0m     util\u001B[38;5;241m.\u001B[39mraise_(exc_info[\u001B[38;5;241m1\u001B[39m], with_traceback\u001B[38;5;241m=\u001B[39mexc_info[\u001B[38;5;241m2\u001B[39m])\n",
      "File \u001B[0;32m~/anaconda3/lib/python3.11/site-packages/sqlalchemy/util/compat.py:208\u001B[0m, in \u001B[0;36mraise_\u001B[0;34m(***failed resolving arguments***)\u001B[0m\n\u001B[1;32m    205\u001B[0m     exception\u001B[38;5;241m.\u001B[39m__cause__ \u001B[38;5;241m=\u001B[39m replace_context\n\u001B[1;32m    207\u001B[0m \u001B[38;5;28;01mtry\u001B[39;00m:\n\u001B[0;32m--> 208\u001B[0m     \u001B[38;5;28;01mraise\u001B[39;00m exception\n\u001B[1;32m    209\u001B[0m \u001B[38;5;28;01mfinally\u001B[39;00m:\n\u001B[1;32m    210\u001B[0m     \u001B[38;5;66;03m# credit to\u001B[39;00m\n\u001B[1;32m    211\u001B[0m     \u001B[38;5;66;03m# https://cosmicpercolator.com/2016/01/13/exception-leaks-in-python-2-and-3/\u001B[39;00m\n\u001B[1;32m    212\u001B[0m     \u001B[38;5;66;03m# as the __traceback__ object creates a cycle\u001B[39;00m\n\u001B[1;32m    213\u001B[0m     \u001B[38;5;28;01mdel\u001B[39;00m exception, replace_context, from_, with_traceback\n",
      "File \u001B[0;32m~/anaconda3/lib/python3.11/site-packages/sqlalchemy/engine/base.py:1819\u001B[0m, in \u001B[0;36mConnection._execute_context\u001B[0;34m(self, dialect, constructor, statement, parameters, execution_options, *args, **kw)\u001B[0m\n\u001B[1;32m   1817\u001B[0m                 \u001B[38;5;28;01mbreak\u001B[39;00m\n\u001B[1;32m   1818\u001B[0m     \u001B[38;5;28;01mif\u001B[39;00m \u001B[38;5;129;01mnot\u001B[39;00m evt_handled:\n\u001B[0;32m-> 1819\u001B[0m         \u001B[38;5;28mself\u001B[39m\u001B[38;5;241m.\u001B[39mdialect\u001B[38;5;241m.\u001B[39mdo_execute(\n\u001B[1;32m   1820\u001B[0m             cursor, statement, parameters, context\n\u001B[1;32m   1821\u001B[0m         )\n\u001B[1;32m   1823\u001B[0m \u001B[38;5;28;01mif\u001B[39;00m \u001B[38;5;28mself\u001B[39m\u001B[38;5;241m.\u001B[39m_has_events \u001B[38;5;129;01mor\u001B[39;00m \u001B[38;5;28mself\u001B[39m\u001B[38;5;241m.\u001B[39mengine\u001B[38;5;241m.\u001B[39m_has_events:\n\u001B[1;32m   1824\u001B[0m     \u001B[38;5;28mself\u001B[39m\u001B[38;5;241m.\u001B[39mdispatch\u001B[38;5;241m.\u001B[39mafter_cursor_execute(\n\u001B[1;32m   1825\u001B[0m         \u001B[38;5;28mself\u001B[39m,\n\u001B[1;32m   1826\u001B[0m         cursor,\n\u001B[0;32m   (...)\u001B[0m\n\u001B[1;32m   1830\u001B[0m         context\u001B[38;5;241m.\u001B[39mexecutemany,\n\u001B[1;32m   1831\u001B[0m     )\n",
      "File \u001B[0;32m~/anaconda3/lib/python3.11/site-packages/sqlalchemy/engine/default.py:732\u001B[0m, in \u001B[0;36mDefaultDialect.do_execute\u001B[0;34m(self, cursor, statement, parameters, context)\u001B[0m\n\u001B[1;32m    731\u001B[0m \u001B[38;5;28;01mdef\u001B[39;00m \u001B[38;5;21mdo_execute\u001B[39m(\u001B[38;5;28mself\u001B[39m, cursor, statement, parameters, context\u001B[38;5;241m=\u001B[39m\u001B[38;5;28;01mNone\u001B[39;00m):\n\u001B[0;32m--> 732\u001B[0m     cursor\u001B[38;5;241m.\u001B[39mexecute(statement, parameters)\n",
      "\u001B[0;31mProgrammingError\u001B[0m: (psycopg2.errors.UndefinedTable) relation \"markit_msf_analytics_eqty_amer.msfaamer\" does not exist\nLINE 1: SELECT * FROM markit_msf_analytics_eqty_amer.msfaamer  OFFSE...\n                      ^\n\n[SQL: SELECT * FROM markit_msf_analytics_eqty_amer.msfaamer  OFFSET 0;]\n(Background on this error at: https://sqlalche.me/e/14/f405)"
     ]
    }
   ],
   "source": [
    "db.get_table(library='markit_msf_analytics_eqty_amer', table='msfaamer')"
   ],
   "metadata": {
    "collapsed": false,
    "ExecuteTime": {
     "end_time": "2024-02-20T22:58:45.868493Z",
     "start_time": "2024-02-20T22:58:45.782268Z"
    }
   },
   "id": "3086265cdc0fbe68",
   "execution_count": 7
  },
  {
   "cell_type": "code",
   "outputs": [
    {
     "data": {
      "text/plain": "['amereqty2002',\n 'amereqty2003',\n 'amereqty2004',\n 'amereqty2005',\n 'amereqty2006',\n 'amereqty2007',\n 'amereqty2008',\n 'amereqty2009',\n 'amereqty2010',\n 'amereqty2011',\n 'amereqty2012',\n 'amereqty2013',\n 'amereqty2014',\n 'amereqty2015',\n 'amereqty2016',\n 'amereqty2017',\n 'amereqty2018',\n 'amereqty2019',\n 'amereqty2020',\n 'amereqty2021',\n 'amereqty2022',\n 'amereqty2023',\n 'amereqty2024',\n 'asiaexjapauseqty2002',\n 'asiaexjapauseqty2003',\n 'asiaexjapauseqty2004',\n 'asiaexjapauseqty2005',\n 'asiaexjapauseqty2006',\n 'asiaexjapauseqty2007',\n 'asiaexjapauseqty2008',\n 'asiaexjapauseqty2009',\n 'asiaexjapauseqty2010',\n 'asiaexjapauseqty2011',\n 'asiaexjapauseqty2012',\n 'asiaexjapauseqty2013',\n 'asiaexjapauseqty2014',\n 'asiaexjapauseqty2015',\n 'asiaexjapauseqty2016',\n 'asiaexjapauseqty2017',\n 'asiaexjapauseqty2018',\n 'asiaexjapauseqty2019',\n 'asiaexjapauseqty2020',\n 'asiaexjapauseqty2021',\n 'asiaexjapauseqty2022',\n 'asiaexjapauseqty2023',\n 'asiaexjapauseqty2024',\n 'auseqty2002',\n 'auseqty2003',\n 'auseqty2004',\n 'auseqty2005',\n 'auseqty2006',\n 'auseqty2007',\n 'auseqty2008',\n 'auseqty2009',\n 'auseqty2010',\n 'auseqty2011',\n 'auseqty2012',\n 'auseqty2013',\n 'auseqty2014',\n 'auseqty2015',\n 'auseqty2016',\n 'auseqty2017',\n 'auseqty2018',\n 'auseqty2019',\n 'auseqty2020',\n 'auseqty2021',\n 'auseqty2022',\n 'auseqty2023',\n 'auseqty2024',\n 'corporatebonds2002',\n 'corporatebonds2003',\n 'corporatebonds2004',\n 'corporatebonds2005',\n 'corporatebonds2006',\n 'corporatebonds2007',\n 'corporatebonds2008',\n 'corporatebonds2009',\n 'corporatebonds2010',\n 'corporatebonds2011',\n 'corporatebonds2012',\n 'corporatebonds2013',\n 'corporatebonds2014',\n 'corporatebonds2015',\n 'corporatebonds2016',\n 'corporatebonds2017',\n 'corporatebonds2018',\n 'corporatebonds2019',\n 'corporatebonds2020',\n 'corporatebonds2021',\n 'corporatebonds2022',\n 'corporatebonds2023',\n 'corporatebonds2024',\n 'euroeqty2002',\n 'euroeqty2003',\n 'euroeqty2004',\n 'euroeqty2005',\n 'euroeqty2006',\n 'euroeqty2007',\n 'euroeqty2008',\n 'euroeqty2009',\n 'euroeqty2010',\n 'euroeqty2011',\n 'euroeqty2012',\n 'euroeqty2013',\n 'euroeqty2014',\n 'euroeqty2015',\n 'euroeqty2016',\n 'euroeqty2017',\n 'euroeqty2018',\n 'euroeqty2019',\n 'euroeqty2020',\n 'euroeqty2021',\n 'euroeqty2022',\n 'euroeqty2023',\n 'euroeqty2024',\n 'govbonds2002',\n 'govbonds2003',\n 'govbonds2004',\n 'govbonds2005',\n 'govbonds2006',\n 'govbonds2007',\n 'govbonds2008',\n 'govbonds2009',\n 'govbonds2010',\n 'govbonds2011',\n 'govbonds2012',\n 'govbonds2013',\n 'govbonds2014',\n 'govbonds2015',\n 'govbonds2016',\n 'govbonds2017',\n 'govbonds2018',\n 'govbonds2019',\n 'govbonds2020',\n 'govbonds2021',\n 'govbonds2022',\n 'govbonds2023',\n 'govbonds2024',\n 'japeqty2002',\n 'japeqty2003',\n 'japeqty2004',\n 'japeqty2005',\n 'japeqty2006',\n 'japeqty2007',\n 'japeqty2008',\n 'japeqty2009',\n 'japeqty2010',\n 'japeqty2011',\n 'japeqty2012',\n 'japeqty2013',\n 'japeqty2014',\n 'japeqty2015',\n 'japeqty2016',\n 'japeqty2017',\n 'japeqty2018',\n 'japeqty2019',\n 'japeqty2020',\n 'japeqty2021',\n 'japeqty2022',\n 'japeqty2023',\n 'japeqty2024',\n 'msfa_amer_chars',\n 'msfa_asia_chars',\n 'msfa_bond_chars',\n 'msfa_chars',\n 'msfa_euro_chars',\n 'msfa_othr_chars',\n 'othereqty2002',\n 'othereqty2003',\n 'othereqty2004',\n 'othereqty2005',\n 'othereqty2006',\n 'othereqty2007',\n 'othereqty2008',\n 'othereqty2009',\n 'othereqty2010',\n 'othereqty2011',\n 'othereqty2012',\n 'othereqty2013',\n 'othereqty2014',\n 'othereqty2015',\n 'othereqty2016',\n 'othereqty2017',\n 'othereqty2018',\n 'othereqty2019',\n 'othereqty2020',\n 'othereqty2021',\n 'othereqty2022',\n 'othereqty2023',\n 'othereqty2024']"
     },
     "execution_count": 8,
     "metadata": {},
     "output_type": "execute_result"
    }
   ],
   "source": [
    "db.list_tables(library=\"msfanly\")"
   ],
   "metadata": {
    "collapsed": false,
    "ExecuteTime": {
     "end_time": "2024-02-20T22:58:50.318887Z",
     "start_time": "2024-02-20T22:58:50.243960Z"
    }
   },
   "id": "179021f0d921feca",
   "execution_count": 8
  },
  {
   "cell_type": "code",
   "outputs": [
    {
     "data": {
      "text/plain": "['amereqty2002',\n 'amereqty2003',\n 'amereqty2004',\n 'amereqty2005',\n 'amereqty2006',\n 'amereqty2007',\n 'amereqty2008',\n 'amereqty2009',\n 'amereqty2010',\n 'amereqty2011',\n 'amereqty2012',\n 'amereqty2013',\n 'amereqty2014',\n 'amereqty2015',\n 'amereqty2016',\n 'amereqty2017',\n 'amereqty2018',\n 'amereqty2019',\n 'amereqty2020',\n 'amereqty2021',\n 'amereqty2022',\n 'amereqty2023',\n 'amereqty2024',\n 'msfa_amer_chars']"
     },
     "execution_count": 9,
     "metadata": {},
     "output_type": "execute_result"
    }
   ],
   "source": [
    "db.list_tables(library=\"markit_msf_analytics_eqty_amer\")"
   ],
   "metadata": {
    "collapsed": false,
    "ExecuteTime": {
     "end_time": "2024-02-20T22:58:52.673113Z",
     "start_time": "2024-02-20T22:58:52.589444Z"
    }
   },
   "id": "7e1431d5f1c35630",
   "execution_count": 9
  },
  {
   "cell_type": "markdown",
   "source": [
    "It appears that the full table for Markit Securities Finance Analytics - American Equities know as `msfaamer` is no longer available in the `msfanly` library, neither in the `markit_msf_analytics_eqty_amer` library. We can get the tables year by year instead."
   ],
   "metadata": {
    "collapsed": false
   },
   "id": "62437d8e5703ac4b"
  },
  {
   "cell_type": "code",
   "outputs": [
    {
     "data": {
      "text/plain": "     datadate       dxlid          isin    sedol      cusip quick  \\\n0  2024-01-01  DX00000021  US98956P1021  2783815  98956P102  None   \n1  2024-01-01  DX00000023  US7901481009  2768663  790148100  None   \n2  2024-01-01  DX00000026  US6934751057  2692665  693475105  None   \n3  2024-01-01  DX00000029  US6516391066  2636607  651639106  None   \n4  2024-01-01  DX00000030  US5951121038  2588184  595112103  None   \n\n                     instrumentname                marketarea  valueonloan  \\\n0        Zimmer Biomet Holdings Inc        US Equity (S&P500)  227014800.0   \n1                         St Joe Co  US Equity (RUSSELL 2000)   13916060.0   \n2  Pnc Financial Services Group Inc        US Equity (S&P500)  978845200.0   \n3               Newmont Corporation        US Equity (S&P500)  352309900.0   \n4             Micron Technology Inc        US Equity (S&P500)  232887600.0   \n\n   quantityonloan  ...  lendablequantitystability  lendablevaluestability  \\\n0       1855436.0  ...                   74.12062                74.08830   \n1        229522.0  ...                   83.24494                83.28563   \n2       6262167.0  ...                   77.79643                77.79671   \n3       8448317.0  ...                   87.88121                87.88775   \n4       2693965.0  ...                   74.48444                74.49966   \n\n   lenderquantityonloanstability  lendervalueonloanstability  \\\n0                       52.82086                    52.82014   \n1                       71.45999                    71.46178   \n2                       78.85870                    78.82349   \n3                       94.43805                    94.39819   \n4                       71.63672                    71.67267   \n\n   indicativefee1day  indicativefee7day  indicativerebate1day  \\\n0               None           0.002162                  None   \n1               None           0.002615                  None   \n2               None           0.002810                  None   \n3               None           0.002624                  None   \n4               None           0.002648                  None   \n\n   indicativerebate7day      saf       sar  \n0              0.051038  56.3462  475.6539  \n1              0.050585  77.8825  454.1175  \n2              0.050390  52.4547  479.5453  \n3              0.050576  38.5648  493.4352  \n4              0.050552  53.7643  478.2357  \n\n[5 rows x 57 columns]",
      "text/html": "<div>\n<style scoped>\n    .dataframe tbody tr th:only-of-type {\n        vertical-align: middle;\n    }\n\n    .dataframe tbody tr th {\n        vertical-align: top;\n    }\n\n    .dataframe thead th {\n        text-align: right;\n    }\n</style>\n<table border=\"1\" class=\"dataframe\">\n  <thead>\n    <tr style=\"text-align: right;\">\n      <th></th>\n      <th>datadate</th>\n      <th>dxlid</th>\n      <th>isin</th>\n      <th>sedol</th>\n      <th>cusip</th>\n      <th>quick</th>\n      <th>instrumentname</th>\n      <th>marketarea</th>\n      <th>valueonloan</th>\n      <th>quantityonloan</th>\n      <th>...</th>\n      <th>lendablequantitystability</th>\n      <th>lendablevaluestability</th>\n      <th>lenderquantityonloanstability</th>\n      <th>lendervalueonloanstability</th>\n      <th>indicativefee1day</th>\n      <th>indicativefee7day</th>\n      <th>indicativerebate1day</th>\n      <th>indicativerebate7day</th>\n      <th>saf</th>\n      <th>sar</th>\n    </tr>\n  </thead>\n  <tbody>\n    <tr>\n      <th>0</th>\n      <td>2024-01-01</td>\n      <td>DX00000021</td>\n      <td>US98956P1021</td>\n      <td>2783815</td>\n      <td>98956P102</td>\n      <td>None</td>\n      <td>Zimmer Biomet Holdings Inc</td>\n      <td>US Equity (S&amp;P500)</td>\n      <td>227014800.0</td>\n      <td>1855436.0</td>\n      <td>...</td>\n      <td>74.12062</td>\n      <td>74.08830</td>\n      <td>52.82086</td>\n      <td>52.82014</td>\n      <td>None</td>\n      <td>0.002162</td>\n      <td>None</td>\n      <td>0.051038</td>\n      <td>56.3462</td>\n      <td>475.6539</td>\n    </tr>\n    <tr>\n      <th>1</th>\n      <td>2024-01-01</td>\n      <td>DX00000023</td>\n      <td>US7901481009</td>\n      <td>2768663</td>\n      <td>790148100</td>\n      <td>None</td>\n      <td>St Joe Co</td>\n      <td>US Equity (RUSSELL 2000)</td>\n      <td>13916060.0</td>\n      <td>229522.0</td>\n      <td>...</td>\n      <td>83.24494</td>\n      <td>83.28563</td>\n      <td>71.45999</td>\n      <td>71.46178</td>\n      <td>None</td>\n      <td>0.002615</td>\n      <td>None</td>\n      <td>0.050585</td>\n      <td>77.8825</td>\n      <td>454.1175</td>\n    </tr>\n    <tr>\n      <th>2</th>\n      <td>2024-01-01</td>\n      <td>DX00000026</td>\n      <td>US6934751057</td>\n      <td>2692665</td>\n      <td>693475105</td>\n      <td>None</td>\n      <td>Pnc Financial Services Group Inc</td>\n      <td>US Equity (S&amp;P500)</td>\n      <td>978845200.0</td>\n      <td>6262167.0</td>\n      <td>...</td>\n      <td>77.79643</td>\n      <td>77.79671</td>\n      <td>78.85870</td>\n      <td>78.82349</td>\n      <td>None</td>\n      <td>0.002810</td>\n      <td>None</td>\n      <td>0.050390</td>\n      <td>52.4547</td>\n      <td>479.5453</td>\n    </tr>\n    <tr>\n      <th>3</th>\n      <td>2024-01-01</td>\n      <td>DX00000029</td>\n      <td>US6516391066</td>\n      <td>2636607</td>\n      <td>651639106</td>\n      <td>None</td>\n      <td>Newmont Corporation</td>\n      <td>US Equity (S&amp;P500)</td>\n      <td>352309900.0</td>\n      <td>8448317.0</td>\n      <td>...</td>\n      <td>87.88121</td>\n      <td>87.88775</td>\n      <td>94.43805</td>\n      <td>94.39819</td>\n      <td>None</td>\n      <td>0.002624</td>\n      <td>None</td>\n      <td>0.050576</td>\n      <td>38.5648</td>\n      <td>493.4352</td>\n    </tr>\n    <tr>\n      <th>4</th>\n      <td>2024-01-01</td>\n      <td>DX00000030</td>\n      <td>US5951121038</td>\n      <td>2588184</td>\n      <td>595112103</td>\n      <td>None</td>\n      <td>Micron Technology Inc</td>\n      <td>US Equity (S&amp;P500)</td>\n      <td>232887600.0</td>\n      <td>2693965.0</td>\n      <td>...</td>\n      <td>74.48444</td>\n      <td>74.49966</td>\n      <td>71.63672</td>\n      <td>71.67267</td>\n      <td>None</td>\n      <td>0.002648</td>\n      <td>None</td>\n      <td>0.050552</td>\n      <td>53.7643</td>\n      <td>478.2357</td>\n    </tr>\n  </tbody>\n</table>\n<p>5 rows × 57 columns</p>\n</div>"
     },
     "execution_count": 10,
     "metadata": {},
     "output_type": "execute_result"
    }
   ],
   "source": [
    "# Markit Securities Finance Analytics - American Equities 2024\n",
    "\n",
    "MarkitSecurities_american_equities_2024 = db.get_table(library='msfanly', table='amereqty2024', obs=10)\n",
    "MarkitSecurities_american_equities_2024.head()"
   ],
   "metadata": {
    "collapsed": false,
    "ExecuteTime": {
     "end_time": "2024-02-20T22:59:04.276367Z",
     "start_time": "2024-02-20T22:59:04.217303Z"
    }
   },
   "id": "8cf8186514cb79cf",
   "execution_count": 10
  },
  {
   "cell_type": "markdown",
   "source": [
    "Short interest ratio (shares on loan / shares outstanding) = ShortLoanQuantity/SHROUT or QuantityOnLoan/SHROUT\n",
    "Loan supply ratio (shares available to be lent / shares outstanding) = LendableQuantity/SHROUT\n",
    "Loan utilization ratio (shares demanded / shares supplied) = Utilisation\n",
    "Loan fee = IndicativeFee\n",
    "\n",
    "A few other variables in Markit that would be interesting to explore are LenderConcentration, BorrowerConcentration, and InventoryConcentration."
   ],
   "metadata": {
    "collapsed": false
   },
   "id": "65b2c74b250dfa03"
  },
  {
   "cell_type": "markdown",
   "source": [
    "We can join RepRisk and Markit Securities Finance Analytics - American Equities tables on `primary_isin` or `isins` but this column needs to be reformatted before. We also need to check what percentage of stocks in Markit and in RepRisk have a populated ISIN. If ISIN is not well-populated, then we may need to merge on names.\n",
    "\n",
    "The RepRisk tables can be joined on `reprisk_id`."
   ],
   "metadata": {
    "collapsed": false
   },
   "id": "7b472e68893f76a7"
  },
  {
   "cell_type": "markdown",
   "source": [
    "For shares outstanding we need to get the variable in CRSP Daily Stock. Then the table has to be joined to the Markit Table. A documentation is available [here](https://wrds-www.wharton.upenn.edu/pages/wrds-research/database-linking-matrix/linking-markit-with-crsp-2/)."
   ],
   "metadata": {
    "collapsed": false
   },
   "id": "a0a9ba8952877958"
  },
  {
   "cell_type": "code",
   "outputs": [
    {
     "data": {
      "text/plain": "      cusip        date  permco  permno  shrout\n0  68391610  1986-01-07    7952   10000  3680.0\n1  68391610  1986-01-08    7952   10000  3680.0\n2  68391610  1986-01-09    7952   10000  3680.0\n3  68391610  1986-01-10    7952   10000  3680.0\n4  68391610  1986-01-13    7952   10000  3680.0",
      "text/html": "<div>\n<style scoped>\n    .dataframe tbody tr th:only-of-type {\n        vertical-align: middle;\n    }\n\n    .dataframe tbody tr th {\n        vertical-align: top;\n    }\n\n    .dataframe thead th {\n        text-align: right;\n    }\n</style>\n<table border=\"1\" class=\"dataframe\">\n  <thead>\n    <tr style=\"text-align: right;\">\n      <th></th>\n      <th>cusip</th>\n      <th>date</th>\n      <th>permco</th>\n      <th>permno</th>\n      <th>shrout</th>\n    </tr>\n  </thead>\n  <tbody>\n    <tr>\n      <th>0</th>\n      <td>68391610</td>\n      <td>1986-01-07</td>\n      <td>7952</td>\n      <td>10000</td>\n      <td>3680.0</td>\n    </tr>\n    <tr>\n      <th>1</th>\n      <td>68391610</td>\n      <td>1986-01-08</td>\n      <td>7952</td>\n      <td>10000</td>\n      <td>3680.0</td>\n    </tr>\n    <tr>\n      <th>2</th>\n      <td>68391610</td>\n      <td>1986-01-09</td>\n      <td>7952</td>\n      <td>10000</td>\n      <td>3680.0</td>\n    </tr>\n    <tr>\n      <th>3</th>\n      <td>68391610</td>\n      <td>1986-01-10</td>\n      <td>7952</td>\n      <td>10000</td>\n      <td>3680.0</td>\n    </tr>\n    <tr>\n      <th>4</th>\n      <td>68391610</td>\n      <td>1986-01-13</td>\n      <td>7952</td>\n      <td>10000</td>\n      <td>3680.0</td>\n    </tr>\n  </tbody>\n</table>\n</div>"
     },
     "execution_count": 20,
     "metadata": {},
     "output_type": "execute_result"
    }
   ],
   "source": [
    "# CRSP Daily Stock available since 1925\n",
    "\n",
    "CRSP_daily_stock = db.get_table(library='crspq', table='dsf', columns=['cusip', 'date', 'permco', 'permno', 'shrout'], obs=10)\n",
    "CRSP_daily_stock.head()"
   ],
   "metadata": {
    "collapsed": false,
    "ExecuteTime": {
     "end_time": "2024-02-20T23:19:02.409655Z",
     "start_time": "2024-02-20T23:19:02.391270Z"
    }
   },
   "id": "a2249ffdc872245e",
   "execution_count": 20
  },
  {
   "cell_type": "code",
   "outputs": [],
   "source": [],
   "metadata": {
    "collapsed": false
   },
   "id": "cf7386166efd78"
  }
 ],
 "metadata": {
  "kernelspec": {
   "display_name": "Python 3",
   "language": "python",
   "name": "python3"
  },
  "language_info": {
   "codemirror_mode": {
    "name": "ipython",
    "version": 2
   },
   "file_extension": ".py",
   "mimetype": "text/x-python",
   "name": "python",
   "nbconvert_exporter": "python",
   "pygments_lexer": "ipython2",
   "version": "2.7.6"
  }
 },
 "nbformat": 4,
 "nbformat_minor": 5
}
