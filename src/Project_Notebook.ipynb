{
 "cells": [
  {
   "cell_type": "markdown",
   "id": "1396a630",
   "metadata": {},
   "source": [
    "# Do short sellers respond to ESG ratings?\n",
    "\n",
    "This notebook has been design as a reference guide of the cleaning and comparison process conducted in the project as well as some of the analysis performed."
   ]
  },
  {
   "cell_type": "markdown",
   "id": "9f5c7c40",
   "metadata": {},
   "source": [
    "Before starting the project, we will need to install the `wrds package`. We can do this by running `pip install wrds` in our terminal. For more information, refer to: https://pypi.org/project/wrds/. This package will be used for examining datasets on the Wharton Research Data Services (WRDS) platform, and extracting data to Pandas dataframes. A WRDS account is required, however since we are UChicago students we have access to this dataset already. The package is included in the requirements.txt for the project. "
   ]
  },
  {
   "cell_type": "code",
   "execution_count": null,
   "id": "db18338837998550",
   "metadata": {},
   "outputs": [],
   "source": [
    "import wrds\n",
    "import config"
   ]
  },
  {
   "cell_type": "markdown",
   "id": "ed2d9477",
   "metadata": {},
   "source": [
    "Then, we generate the connection using our API information"
   ]
  },
  {
   "cell_type": "code",
   "execution_count": null,
   "id": "7aa5758341ff56fc",
   "metadata": {},
   "outputs": [],
   "source": [
    "WRDS_USERNAME = config.WRDS_USERNAME\n",
    "db = wrds.Connection(wrds_username=WRDS_USERNAME)"
   ]
  },
  {
   "cell_type": "markdown",
   "id": "bcd2e083",
   "metadata": {},
   "source": [
    "## 1. Introduction\n",
    "\n",
    "This project amis to investigative the intricate relationship between Environmental, Social, and Governance (ESG) events and securities lending activities. Our goal is to provide a nuanced understanding of the interplay between ESG considerations and market activities, offering valuable insights into the considerations of short sellers in the context of ESG events. At the heart of our inquiry lies the pivotal question: \n",
    "\n",
    "$$\\textbf{Is there a relationship between ESG events and securities lending activity?}$$ \n",
    "$$\\textbf{Do short sellers incorporate ESG events in their investment decisions?}$$\n",
    "\n",
    "The relationship between Environmental, Social, and Governance (ESG) events and securities lending activities is a complex and multifaceted area of study within the financial market. The ESG events range from environmental disasters, social injustices, to governance failures—impact the behavior of short sellers and the broader securities lending market. \n",
    "\n",
    "#### Environmental Events\n",
    "\n",
    "Environmental events can include incidents such as oil spills, deforestation, or emissions scandals. These events often lead to public backlash, regulatory scrutiny, and potentially significant financial impacts on the involved companies. Short sellers, anticipating a drop in stock prices due to these negative outcomes, may increase their activities. Consequently, the demand for borrowing shares of such companies may rise, affecting the securities lending market by increasing loan fees and utilization rates.\n",
    "\n",
    "#### Social Events\n",
    "\n",
    "Social events encompass issues like labor disputes, violations of human rights, and poor working conditions. These incidents can harm a company's reputation, leading to consumer boycotts or loss of investor confidence. Short sellers might view companies embroiled in social controversies as more likely to experience stock price declines, prompting an uptick in short selling activity. This dynamic can alter the supply-demand equilibrium in the securities lending market for the shares of the affected companies.\n",
    "\n",
    "#### Governance Events\n",
    "\n",
    "Governance events involve instances of poor management practices, corruption, executive misconduct, or lack of accountability. Such governance failures can erode investor trust and lead to financial penalties, impacting a company's stock performance. Short sellers often monitor these governance indicators as predictors of potential stock depreciation, influencing their investment strategies and, by extension, the securities lending market through variations in borrowing demand."
   ]
  },
  {
   "cell_type": "markdown",
   "id": "b7ac892f",
   "metadata": {},
   "source": [
    "#### Securities Lending Market Dynamics\n",
    "\n",
    "The Securities Lending Market is a crucial component of the financial markets, providing liquidity and facilitating the smooth functioning of securities trading. In this market, securities are temporarily transferred from one party to another. The lender of the securities, typically institutional investors like pension funds or mutual funds, loans out securities to borrowers, often for the purpose of short selling. The borrower, in return, provides collateral to the lender, which can be cash, other securities, or a letter of credit, and pays a fee based on an agreed-upon percentage of the loaned securities' value.\n",
    "\n",
    "Market dynamics in securities lending are influenced by supply and demand for specific securities. High demand for borrowing certain securities can lead to higher lending fees, making it more profitable for lenders."
   ]
  },
  {
   "cell_type": "markdown",
   "id": "b2a36135",
   "metadata": {},
   "source": [
    "## 2. Financial Data Pulling \n",
    "\n",
    "To study this puzzling fact, we will refer to WRDS database. Wharton Research Data Services (WRDS) is a comprehensive repository of financial, economic, and insurance data. Renowned for its high-quality, reliable information, WRDS is indispensable for conducting precise financial analysis and research. Utilizing the WRDS platform, specifically through the wrds package, enables the swift and efficient extraction of large datasets. This efficiency in data collection affords researchers more time for in-depth analysis.\n",
    "\n",
    "For this project, we have chosen to utilize multiple datasets, including:\n",
    "\n",
    "* The **RepRisk Library**, which evaluates environmental, social, and governance (ESG) risks, as well as business conduct, using an extensive array of public sources. The incident-based data encompasses a variety of issues such as environmental impacts, labor practices, human rights, supply chain management, corruption, legal disputes, and regulatory violations.\n",
    "\n",
    "    Additionally, this dataset features the RepRisk Index (RRI), which dynamically captures and quantifies reputational risk exposure related to ESG issues. The RepRisk Rating (RRR), ranging from AAA to D, allows for the benchmarking and integration of ESG and business conduct risks.\n",
    "\n",
    "* The **IHS Markit library** is a leading, global financial information services company with over 15,000 employees. The company provides independent data, valuations and trade processing across all asset classes in order to enhance transparency, reduce risk and improve operational efficiency.\n",
    "\n",
    "After thorough data cleaning, analysis, and comparison of the datasets mentioned above, the project will elucidate whether a relationship exists between ESG events and securities lending activities, offering insights into the considerations of short sellers regarding ESG events in their investment strategies."
   ]
  },
  {
   "cell_type": "markdown",
   "id": "6aded0ff",
   "metadata": {},
   "source": [
    "### 2.1. Download and Read the data from RepRisk\n",
    "\n",
    "As previously stated, we will start by importing the information from the `company_identifiers` table from the RepRisk library using a database connection object. This table contains identifiers for companies analyzed, providing essential data for researching company-specific environmental, social, and governance (ESG) risks."
   ]
  },
  {
   "cell_type": "code",
   "execution_count": null,
   "id": "dd7009cc00d660e4",
   "metadata": {},
   "outputs": [],
   "source": [
    "# RepRisk - Company Identifiers\n",
    "RepRisk_company_identifiers = db.get_table(library='reprisk', table='v2_company_identifiers')\n",
    "RepRisk_company_identifiers.head()"
   ]
  },
  {
   "cell_type": "markdown",
   "id": "9d0e24ca",
   "metadata": {},
   "source": [
    "From the `company_identifiers` table the following variables will be extracted:\n",
    "\n",
    "1. reprisk_id (COMAPNY ID)\n",
    "2. company_name\t(COMPANY Name)\n",
    "3. headquarters_country\t(Headquarters Country)\n",
    "4. headquarters_country_isocode\t(Headquarters Country ISO Code)\n",
    "5. sectors (Sector(s))\n",
    "6. url (URL)\n",
    "7. isins (Isin(s))\n",
    "8. primary_isin\t(Primary ISIN)\n",
    "9. no_reported_risk_exposure (No reported risk exposure) "
   ]
  },
  {
   "cell_type": "markdown",
   "id": "f0f90044",
   "metadata": {},
   "source": [
    "From the Reprisk database, we will also import the `risk_incidents` table which has compiling information on various risk incidents since 2007. This dataset is notably large, encompassing an array of metrics that exceed the requirements of this project. To streamline the dataset and enhance its efficiency, we will refine our focus to a select group of columns. Specifically, we will retain only the following columns: *reprisk_id, story_id, incident_date, unsharp_incident, related_countries, related_countries_codes, severity, reach, novelty, environment, social, and governance*."
   ]
  },
  {
   "cell_type": "code",
   "execution_count": null,
   "id": "b3aeaac3c7d85b6",
   "metadata": {},
   "outputs": [],
   "source": [
    "# RepRisk - Risk Incidents available since 2007\n",
    "RepRisk_risk_incidents = db.get_table(library='reprisk', table='v2_risk_incidents')\n",
    "RepRisk_risk_incidents.head()"
   ]
  },
  {
   "cell_type": "markdown",
   "id": "ff92e580",
   "metadata": {},
   "source": [
    "From the `risk_incidents` table the following variables will be extracted:\n",
    "\n",
    "1. company_name\t(COMPANY Name)\n",
    "2. headquarters_country_isocode\t(Headquarters Country ISO Code)\n",
    "3. primary_isin\t(Primary ISIN)\n",
    "4. reprisk_id (Reprisk Company ID)\n",
    "5. story_id\t(Story ID)\n",
    "6. incident_date (Incident Date)\n",
    "7. unsharp_incident\t(Unsharp Incident)\n",
    "8. related_countries (Related Countries)\n",
    "9. related_countries_codes (Related Countries Codes)\n",
    "10. severity (Severity)\n",
    "11. reach (Reach)\n",
    "12. novelty\t(Novelty)\n",
    "13. environment\t(ENVIRONMENT)\n",
    "14. social (SOCIAL)\n",
    "15. governance (GOVERNANCE)"
   ]
  },
  {
   "cell_type": "markdown",
   "id": "f8f9e45c",
   "metadata": {},
   "source": [
    "Finally, we will import the `metrics` table from the Reprisk library. Out of all the metrics available, we will only focus on :\n",
    "\n",
    "* The *Current RRI* denotes the current level of media and stakeholder attention of a company related to ESG issues.\n",
    "* The *Trend RRI* states the difference in the RepRisk Index (RRI) between current date and the date 30 days ago.\n",
    "* The *RepRisk Rating RRR* facilitates corporate benchmarking against a peer group and the sector, as well as integration of ESG and business conduct risks into business processes. It combines the company-specific ESG risk exposure (provided by the Peak RRI) and the Country-Sector ESG risk exposure (provided by the Country-Sector Average value of a company)."
   ]
  },
  {
   "cell_type": "code",
   "execution_count": null,
   "id": "4d6f5635f10c46c3",
   "metadata": {},
   "outputs": [],
   "source": [
    "# RepRisk - Metrics available since 2007\n",
    "RepRisk_metrics = db.get_table(library='reprisk', table='v2_metrics', obs=10)\n",
    "RepRisk_metrics.head()"
   ]
  },
  {
   "cell_type": "markdown",
   "id": "1d187d85",
   "metadata": {},
   "source": [
    "From the `metrics` table the following variables will be extracted:\n",
    "\n",
    "1. company_name\t(COMPANY Name)\n",
    "2. headquarters_country_isocode\t(Headquarters Country ISO Code)\n",
    "3. primary_isin\t(Primary ISIN)\n",
    "4. reprisk_id (RepRisk COMPANY ID)\n",
    "5. date\t(Date)\n",
    "6. current_rri (Current RRI)\n",
    "7. trend_rri (Trend RRI)\n",
    "8. peak_rri\t(Peak RRI)\n",
    "9. peak_rri_date (Peak RRI Date)\n",
    "10. reprisk_rating (RepRisk Rating)"
   ]
  },
  {
   "cell_type": "markdown",
   "id": "72f482790855b930",
   "metadata": {
    "collapsed": false
   },
   "source": [
    "The three previous Reprisk tables will be extracted under the same SQL query since they belong to the same library. Furthermore, they will be joined using the `reprisk_id`, a unique identifier available in each table. \n",
    "\n",
    "The extraction and loading process is managed by `load_reprisk.py` a Python script designed for efficient data retrieval. "
   ]
  },
  {
   "cell_type": "markdown",
   "id": "baae2c28",
   "metadata": {},
   "source": [
    "### 2.2. Download and Read the data from Markit\n",
    "\n",
    "The next step is to download the data from the Markit Securities database. Initially, the data was going to get extracted from the American Equities table know as `msfaamer`, however, after checking the available tables under the `msfanly` library, we discovered is not longer available, and neither is in the `markit_msf_analytics_eqty_amer` library. So the only feasible workaround is extract the Markit data year by year instead from the `amereqty` table. \n",
    "\n",
    "You will find the code that extracts the data for the multiple years and load it into the system in the file called `load_markit.py`."
   ]
  },
  {
   "cell_type": "code",
   "execution_count": null,
   "id": "8cf8186514cb79cf",
   "metadata": {},
   "outputs": [],
   "source": [
    "MarkitSecurities_american_equities_2024 = db.get_table(library='msfanly', table='amereqty2024', obs=10)\n",
    "MarkitSecurities_american_equities_2024.head()"
   ]
  },
  {
   "cell_type": "markdown",
   "id": "a74bba35",
   "metadata": {},
   "source": [
    "From the `amereqty` table the following variables will be extracted:\n",
    "\n",
    "1. datadate\t(Date)\n",
    "2. dxliD (DataExplorer ID)\n",
    "3. isin\t(Primary ISIN)\n",
    "4. sedol (Stock Exchange Daily Official List number)\n",
    "5. cusip (Committee on Uniform Securities Identification Procedures number)\n",
    "6. instrumentname (Financial Instrument Name)\n",
    "7. indicativefee (Indicative Fee)\n",
    "8. utilisation\t(Utilisation)\n",
    "9. shortloanquantity (Short On Loan Quantity)\n",
    "10. quantityonloan (Quantity On Loan)\n",
    "11. lendablequantity (Lendable Quantity)\n",
    "12. lenderconcentration (Lender Concentration)\n",
    "13. borrowerconcentration (Borrower Concentration)\n",
    "14. inventoryconcentration (Inventory Concentration)"
   ]
  },
  {
   "cell_type": "markdown",
   "id": "438e31cc",
   "metadata": {},
   "source": [
    "### 2.3. Download and Read the data from CRSP"
   ]
  },
  {
   "cell_type": "markdown",
   "id": "3d5fe74d",
   "metadata": {},
   "source": [
    "Unfortunatelly, not all the required data to compute the ratios can be extracted from the two previous libraries, specially the data regarding outstanding shares, hence we will need to download data from CRSP (Center for Research in Security Prices) database for a specified date range. \n",
    "\n",
    "To ensure compatibility with the other imported datasets, we will need to compute the CUSIP id. This number is very useful for linking purposes and can be computed combining the CRSP identifiers permno, permco, cusip (columns that will be imported). Then, we will join this crspid table with the MSF identifiers through the common historical CUSIP link. For more information, refer to https://wrds-www.wharton.upenn.edu/pages/wrds-research/database-linking-matrix/linking-markit-with-crsp-2/#connecting-with-crsp\n",
    "\n",
    "The extraction will be done through wrd pacakge, using the `crspq.stksecurityinfohist` library. You will find the code that extracts this data and loads in the file called `load_crps.py`."
   ]
  },
  {
   "cell_type": "code",
   "execution_count": null,
   "id": "a2249ffdc872245e",
   "metadata": {},
   "outputs": [],
   "source": [
    "# CRSP Daily Stock available since 1925\n",
    "\n",
    "CRSP_daily_stock = db.get_table(library='crspq', table='dsf', columns=['cusip', 'date', 'permco', 'permno', 'shrout'], obs=10)\n",
    "CRSP_daily_stock.head()"
   ]
  },
  {
   "cell_type": "markdown",
   "id": "bc1d10a5",
   "metadata": {},
   "source": [
    "From the `dsf` table the following variables will be extracted:\n",
    "\n",
    "1. date (Date)\n",
    "2. permno\n",
    "3. permco\n",
    "4. cusip\n",
    "5. shrout (Shares Outstanding)"
   ]
  },
  {
   "cell_type": "markdown",
   "id": "bff64564",
   "metadata": {},
   "source": [
    "### 2.4. Download and Read the data from FRED"
   ]
  },
  {
   "cell_type": "markdown",
   "id": "df51f59c",
   "metadata": {},
   "source": [
    "Lastly, we will download the data from FRED (Federal Reserve Economic Data) which is a comprehensive database maintained by the Research division of the Federal Reserve Bank of St. Louis. It offers access to a vast of economic data time series from more than 80 national, international, public, and private sources. FRED aggregates a wide array of data, including employment, GDP, inflation rates, and hundreds of other economic indicators that are essential for economic research, forecasting, and policy analysis.\n",
    "\n",
    "This database will be useful to extract the information regarding the CPI (Consumer Price Index), Nominal GDP (Gross Domestic Product) and real GDP. You will find the code that extracts this data from the `mkdir` table and loads in the file called `load_fred.py`."
   ]
  },
  {
   "cell_type": "code",
   "execution_count": null,
   "id": "729bda47",
   "metadata": {},
   "outputs": [],
   "source": [
    "# Code to show data from FRED"
   ]
  },
  {
   "cell_type": "markdown",
   "id": "ed5a781c",
   "metadata": {},
   "source": [
    "From the `mkdir` table the following variables will be extracted:\n",
    "\n",
    "1. CPI (Consumer Price Index)\n",
    "2. Noinal GDP\n",
    "3. Real GDP"
   ]
  },
  {
   "cell_type": "markdown",
   "id": "3aaf7252",
   "metadata": {},
   "source": [
    "# 3. Data Manipulation\n",
    "\n",
    "# 3.1. Data Merging\n",
    "\n",
    "The data merging operation was structured in two distinct phases to bolster the accuracy and reliability of the data integration process, ensuring that data correlations consistent. Initially, the process focused on the integration of Markit data with the CRSP (Center for Research in Security Prices) database and after its successful amalgamation, the second phase introduced the integration of Reprisk data, a strategic move designed to enrich the dataset with environmental, social, and governance (ESG) risk assessments. \n",
    "\n",
    "Each step in the process is executed with precision, leveraging custom-designed functions to guarantee that the integration not only maintains data integrity but also optimizes the dataset for nuanced analysis, avoiding data repetition or missing values. \n",
    "\n",
    "\n",
    "## 3.1.1. Merging Markit - CRSP  \n",
    "\n",
    "The `merge_markit_crsp.py` module facilitates the merging of Markit and CRSP datasets by aligning them on dates and CUSIP8 identifiers. This merging process results in a unified table that inherently includes all the necessary details to calculate key financial ratios, so instead of creating another function that returns the required ratios, the function itself enriches the dataset by appending four additional columns, which represent the short interest, loan supply, loan utilisation, and loan fees ratios.\n",
    "\n",
    "For the incorporation of RepRisk data alongside these datasets, WRDS suggests prioritizing the ISIN number for matching purposes with CUSIP. Nonetheless, given the notable occurrence of missing ISIN numbers within the RepRisk dataset, a fallback strategy involves matching based on company names. \n",
    "\n",
    "\n",
    "# 3.1.2. Merging Markit - CRSP - RepRisk\n",
    "\n",
    "The `merge_markit_crsp_reprisk.py` module contain the function designed to integrate a pre-merged Markit and CRSP dataframe with a Reprisk dataframe, based on shared 'cusip' and 'date' fields.\n",
    "\n",
    "+++"
   ]
  },
  {
   "cell_type": "markdown",
   "id": "a3423efa",
   "metadata": {},
   "source": [
    "# 3.1. Recode the missing data\n",
    "\n",
    "* Drop na\n",
    "* forwards fill\n",
    "\n",
    "Still TBD\n",
    "\n",
    "# 3.2. Select the desired subsample of the data\n",
    "\n",
    "* 2022 to 2024 - test it and later try a wider date range\n",
    "\n",
    "# 3.3. Drop data that we no longer need\n",
    "\n",
    "TBD"
   ]
  },
  {
   "cell_type": "markdown",
   "id": "01dc9a6c",
   "metadata": {},
   "source": [
    "# 4. Construct new metrics"
   ]
  },
  {
   "cell_type": "markdown",
   "id": "413e70db",
   "metadata": {},
   "source": [
    "## 4.1. Ratios\n",
    "\n",
    "This project aims to empirically examine whether there is a quantifiable relationship between ESG events and changes in securities lending activity, such as variations in short interest ratios, loan supply ratios, and loan fees. By analyzing data on ESG incidents and securities lending metrics, the study seeks to determine if and how short sellers incorporate ESG considerations into their investment decisions, potentially using ESG events as indicators to guide their short-selling strategies. \n",
    "\n",
    "In the realm of securities lending, several key metrics are pivotal for assessing market dynamics and investor sentiment. Below, we delve into the critical ratios and explore additional variables of interest within the Markit dataset.\n",
    "\n",
    "### Key Ratios\n",
    "\n",
    "1. **Short Interest Ratio**: This ratio indicates the proportion of shares that are currently borrowed for short selling compared to the total shares outstanding. A higher ratio suggests a more significant interest in short selling the stock, potentially indicating bearish market sentiment towards the company.\n",
    "\n",
    "   $$\\text{Short Interest Ratio} = \\frac{\\text{Shares on Loan}}{\\text{Shares Outstanding}} \\quad \\text{or} \\quad \\frac{\\text{QuantityOnLoan}}{\\text{SHROUT}}$$\n",
    "\n",
    "2. **Loan Supply Ratio**: This metric measures the availability of shares for lending against the total shares outstanding. It reflects the willingness of shareholders to lend their shares for short selling, indicating the liquidity and accessibility of shares for short sellers.\n",
    "\n",
    "   $$\\text{Loan Supply Ratio} = \\frac{\\text{Shares Available to be Lent}}{\\text{Shares Outstanding}} \\quad \\text{or} \\quad \\frac{\\text{LendableQuantity}}{\\text{SHROUT}}$$\n",
    "\n",
    "3. **Loan Utilization Ratio**: This ratio compares the demand to the supply of loanable shares. A higher utilization rate suggests a strong demand for borrowing shares, often associated with an increased short selling activity.\n",
    "\n",
    "   $$\\text{Loan Utilization Ratio} = \\text{Utilisation}$$\n",
    "\n",
    "4. **Loan Fee**: The indicative fee associated with borrowing shares. This fee can vary based on the demand and supply dynamics of the loanable shares, acting as a cost indicator for short sellers.\n",
    "\n",
    "   $$\\text{Loan Fee} = \\text{IndicativeFee}$$\n",
    "\n",
    "### Additional Variables of Interest in Markit\n",
    "\n",
    "- **LenderConcentration**: Measures the concentration of shares being lent by a small number of lenders. A higher concentration could indicate a less competitive lending market, potentially affecting loan fees and availability.\n",
    "\n",
    "- **BorrowerConcentration**: Reflects the concentration of shares borrowed by a small number of borrowers. This can highlight the dependency on certain borrowers and potential risks associated with borrower default.\n",
    "\n",
    "- **InventoryConcentration**: Indicates the concentration of shares available for lending held by a few entities. High concentration may suggest potential manipulation or control over the lending market by a limited number of participants.\n",
    "\n",
    "Exploring these ratios and variables provides a comprehensive view of the securities lending market, offering insights into short selling trends, market sentiment, and the operational dynamics of the lending ecosystem."
   ]
  },
  {
   "cell_type": "markdown",
   "id": "aef4630d",
   "metadata": {},
   "source": [
    "## 4.2. Summary statistics"
   ]
  },
  {
   "cell_type": "markdown",
   "id": "e09d2f76",
   "metadata": {},
   "source": [
    "<font color = 'blue'>\n",
    "\n",
    "**REMOVE**\n",
    "\n",
    "3.\tSummary statistics (p10, p25, p50 / median, p75, p90, mean, SD, N):\n",
    "\n",
    "    a.\tFor each level of ESG incident / severity / novelty / news reach / disentangled E, S, and G risks, produce summary statistics on:\n",
    "        \n",
    "    * i.\tContemporaneous short interest, loan supply, loan utilization, and loan fees.\n",
    "    * ii.\tChanges in short interest, loan supply, loan utilization, and loan fees from time of ESG incident to 1-week / 1-month ahead\n",
    "\n",
    "    b.\tFeel free to include summary statistics on any additional variables which may be of interest!\n"
   ]
  },
  {
   "cell_type": "markdown",
   "id": "7460de82",
   "metadata": {},
   "source": [
    "For the summary statistics part we have computed the following metrics:\n",
    "\n",
    "Some of the chosen metrics have been `quantiles` which are cut points dividing the range of a probability distribution into continuous intervals with equal probabilities\n",
    "\n",
    "* 10% quantile  \n",
    "* 25% quantile\n",
    "* 50% quantile (or median)  \n",
    "* 75% quantile  \n",
    "* 90% quantile  \n",
    "\n",
    "We have also computed the `mean`, so the average of a data set, the `standard deviation`, to measure of how dispersed the data is in relation to the mean and finally the `count`, so the amount of data points analyzed."
   ]
  },
  {
   "cell_type": "markdown",
   "id": "96db02fa",
   "metadata": {},
   "source": [
    "<font color = 'red'>\n",
    "\n",
    "**Add to which columns we have computed the statistics metrics**"
   ]
  },
  {
   "cell_type": "markdown",
   "id": "e5b28f37",
   "metadata": {},
   "source": []
  }
 ],
 "metadata": {
  "language_info": {
   "name": "python"
  }
 },
 "nbformat": 4,
 "nbformat_minor": 5
}
