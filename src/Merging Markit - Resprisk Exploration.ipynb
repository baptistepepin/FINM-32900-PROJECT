{
 "cells": [
  {
   "cell_type": "markdown",
   "source": [
    "# Merging RepRisk and Markit\n",
    "\n",
    "In order to compute the ratios we need but also to be able to compare the two datasets, we need to merge them.\n",
    "\n",
    "A first idea was to use the `isin` columns available in both dataframe but it appears that it is not well populated in the RepRisk dataset. That means we might need to match companies on their name. Doing so would require to clean the names in both datasets.\n",
    "\n",
    "Let's first explore the idea of merging on ISIN."
   ],
   "metadata": {
    "collapsed": false
   },
   "id": "98cad44a3953ceb3"
  },
  {
   "cell_type": "code",
   "execution_count": 1,
   "id": "initial_id",
   "metadata": {
    "collapsed": true,
    "ExecuteTime": {
     "end_time": "2024-02-24T17:46:21.240313Z",
     "start_time": "2024-02-24T17:46:20.711224Z"
    }
   },
   "outputs": [],
   "source": [
    "from pathlib import Path\n",
    "\n",
    "import pandas as pd\n",
    "\n",
    "import config\n",
    "\n",
    "DATA_DIR = Path(config.DATA_DIR)\n",
    "file_path = Path(DATA_DIR) / \"pulled\""
   ]
  },
  {
   "cell_type": "markdown",
   "source": [
    "Let's have a look at RepRisk first."
   ],
   "metadata": {
    "collapsed": false
   },
   "id": "627f1526945d0d42"
  },
  {
   "cell_type": "code",
   "outputs": [
    {
     "data": {
      "text/plain": "  reprisk_id         company_name  primary_isin  \\\n0         10             Acer Inc  TW0002353000   \n1        100        Rio Tinto PLC  GB0007188757   \n2       1000  Terrane Metals Corp  CA88103A1084   \n3      10000  RAK Properties PJSC  AER000601016   \n4     100000       BLUECOM Co Ltd  KR7033560004   \n\n                                               isins  \n0         US0044341065 | US0044342055 | TW0002353000  \n1  GB0007406639 | BRRIOTBDR007 | ARDEUT112638 | G...  \n2  CA88103A1167 | US88103A3068 | CA88103A1084 | C...  \n3                                       AER000601016  \n4                                       KR7033560004  ",
      "text/html": "<div>\n<style scoped>\n    .dataframe tbody tr th:only-of-type {\n        vertical-align: middle;\n    }\n\n    .dataframe tbody tr th {\n        vertical-align: top;\n    }\n\n    .dataframe thead th {\n        text-align: right;\n    }\n</style>\n<table border=\"1\" class=\"dataframe\">\n  <thead>\n    <tr style=\"text-align: right;\">\n      <th></th>\n      <th>reprisk_id</th>\n      <th>company_name</th>\n      <th>primary_isin</th>\n      <th>isins</th>\n    </tr>\n  </thead>\n  <tbody>\n    <tr>\n      <th>0</th>\n      <td>10</td>\n      <td>Acer Inc</td>\n      <td>TW0002353000</td>\n      <td>US0044341065 | US0044342055 | TW0002353000</td>\n    </tr>\n    <tr>\n      <th>1</th>\n      <td>100</td>\n      <td>Rio Tinto PLC</td>\n      <td>GB0007188757</td>\n      <td>GB0007406639 | BRRIOTBDR007 | ARDEUT112638 | G...</td>\n    </tr>\n    <tr>\n      <th>2</th>\n      <td>1000</td>\n      <td>Terrane Metals Corp</td>\n      <td>CA88103A1084</td>\n      <td>CA88103A1167 | US88103A3068 | CA88103A1084 | C...</td>\n    </tr>\n    <tr>\n      <th>3</th>\n      <td>10000</td>\n      <td>RAK Properties PJSC</td>\n      <td>AER000601016</td>\n      <td>AER000601016</td>\n    </tr>\n    <tr>\n      <th>4</th>\n      <td>100000</td>\n      <td>BLUECOM Co Ltd</td>\n      <td>KR7033560004</td>\n      <td>KR7033560004</td>\n    </tr>\n  </tbody>\n</table>\n</div>"
     },
     "execution_count": 2,
     "metadata": {},
     "output_type": "execute_result"
    }
   ],
   "source": [
    "RepRisk_company = pd.read_parquet(file_path  / \"reprisk_company.parquet\")\n",
    "RepRisk_company.head()"
   ],
   "metadata": {
    "collapsed": false,
    "ExecuteTime": {
     "end_time": "2024-02-24T17:46:21.524683Z",
     "start_time": "2024-02-24T17:46:21.238475Z"
    }
   },
   "id": "2be6af2ec471361",
   "execution_count": 2
  },
  {
   "cell_type": "code",
   "outputs": [
    {
     "data": {
      "text/plain": "<pandas.io.formats.style.Styler at 0x17c3ee850>",
      "text/html": "<style type=\"text/css\">\n</style>\n<table id=\"T_4add8\">\n  <thead>\n    <tr>\n      <th class=\"blank level0\" >&nbsp;</th>\n      <th id=\"T_4add8_level0_col0\" class=\"col_heading level0 col0\" >percentage_missing_isin</th>\n    </tr>\n  </thead>\n  <tbody>\n    <tr>\n      <th id=\"T_4add8_level0_row0\" class=\"row_heading level0 row0\" >primary_isin</th>\n      <td id=\"T_4add8_row0_col0\" class=\"data row0 col0\" >85.03%</td>\n    </tr>\n  </tbody>\n</table>\n"
     },
     "execution_count": 3,
     "metadata": {},
     "output_type": "execute_result"
    }
   ],
   "source": [
    "(RepRisk_company[['primary_isin']].isna().sum() / len(RepRisk_company)).to_frame(\"percentage_missing_isin\").style.format(\"{:.2%}\")"
   ],
   "metadata": {
    "collapsed": false,
    "ExecuteTime": {
     "end_time": "2024-02-24T17:46:21.796738Z",
     "start_time": "2024-02-24T17:46:21.526168Z"
    }
   },
   "id": "fa8ae629d917510f",
   "execution_count": 3
  },
  {
   "cell_type": "markdown",
   "source": [
    "Out of more than 600k referenced companies, 85% of them have a missing ISIN in RepRisk.\n",
    "\n",
    "Let's have a look at Markit now."
   ],
   "metadata": {
    "collapsed": false
   },
   "id": "cf8d8d6ee5d4b83c"
  },
  {
   "cell_type": "code",
   "outputs": [
    {
     "data": {
      "text/plain": "           isin       instrumentname\n0  DE0005552004     Deutsche Post Ag\n1  US98956P1021  Zimmer Holdings Inc\n2  US86764P1093           Sunoco Inc\n3  US7901481009           St. Joe Co\n4  US8265521018   Sigma-aldrich Corp",
      "text/html": "<div>\n<style scoped>\n    .dataframe tbody tr th:only-of-type {\n        vertical-align: middle;\n    }\n\n    .dataframe tbody tr th {\n        vertical-align: top;\n    }\n\n    .dataframe thead th {\n        text-align: right;\n    }\n</style>\n<table border=\"1\" class=\"dataframe\">\n  <thead>\n    <tr style=\"text-align: right;\">\n      <th></th>\n      <th>isin</th>\n      <th>instrumentname</th>\n    </tr>\n  </thead>\n  <tbody>\n    <tr>\n      <th>0</th>\n      <td>DE0005552004</td>\n      <td>Deutsche Post Ag</td>\n    </tr>\n    <tr>\n      <th>1</th>\n      <td>US98956P1021</td>\n      <td>Zimmer Holdings Inc</td>\n    </tr>\n    <tr>\n      <th>2</th>\n      <td>US86764P1093</td>\n      <td>Sunoco Inc</td>\n    </tr>\n    <tr>\n      <th>3</th>\n      <td>US7901481009</td>\n      <td>St. Joe Co</td>\n    </tr>\n    <tr>\n      <th>4</th>\n      <td>US8265521018</td>\n      <td>Sigma-aldrich Corp</td>\n    </tr>\n  </tbody>\n</table>\n</div>"
     },
     "execution_count": 4,
     "metadata": {},
     "output_type": "execute_result"
    }
   ],
   "source": [
    "Markit = pd.read_parquet(file_path  / \"markit.parquet\")\n",
    "Markit_company = Markit[[\"isin\", \"instrumentname\"]].drop_duplicates()\n",
    "Markit_company.head()"
   ],
   "metadata": {
    "collapsed": false,
    "ExecuteTime": {
     "end_time": "2024-02-24T17:46:36.515620Z",
     "start_time": "2024-02-24T17:46:21.994952Z"
    }
   },
   "id": "60227c16b666f370",
   "execution_count": 4
  },
  {
   "cell_type": "code",
   "outputs": [
    {
     "data": {
      "text/plain": "<pandas.io.formats.style.Styler at 0x12171b3d0>",
      "text/html": "<style type=\"text/css\">\n</style>\n<table id=\"T_8c596\">\n  <thead>\n    <tr>\n      <th class=\"blank level0\" >&nbsp;</th>\n      <th id=\"T_8c596_level0_col0\" class=\"col_heading level0 col0\" >percentage_missing_isin</th>\n    </tr>\n  </thead>\n  <tbody>\n    <tr>\n      <th id=\"T_8c596_level0_row0\" class=\"row_heading level0 row0\" >isin</th>\n      <td id=\"T_8c596_row0_col0\" class=\"data row0 col0\" >5.33%</td>\n    </tr>\n  </tbody>\n</table>\n"
     },
     "execution_count": 5,
     "metadata": {},
     "output_type": "execute_result"
    }
   ],
   "source": [
    "(Markit_company[['isin']].isna().sum() / len(Markit_company)).to_frame(\"percentage_missing_isin\").style.format(\"{:.2%}\")"
   ],
   "metadata": {
    "collapsed": false,
    "ExecuteTime": {
     "end_time": "2024-02-24T17:46:36.519925Z",
     "start_time": "2024-02-24T17:46:36.516006Z"
    }
   },
   "id": "b16b539b917234fc",
   "execution_count": 5
  },
  {
   "cell_type": "markdown",
   "source": [
    "For Markit, only 5% of the companies have a missing ISIN.\n",
    "\n",
    "We are now going to see if we can match all the available ISIN in Markit with the ones in RepRisk."
   ],
   "metadata": {
    "collapsed": false
   },
   "id": "1de2dbb897e61c46"
  },
  {
   "cell_type": "code",
   "outputs": [],
   "source": [
    "isin_intersection = Markit_company['isin'].dropna().isin(RepRisk_company['primary_isin'].dropna())"
   ],
   "metadata": {
    "collapsed": false,
    "ExecuteTime": {
     "end_time": "2024-02-24T17:46:36.554168Z",
     "start_time": "2024-02-24T17:46:36.521836Z"
    }
   },
   "id": "398d07f68cee3265",
   "execution_count": 6
  },
  {
   "cell_type": "code",
   "outputs": [
    {
     "data": {
      "text/plain": "'47.27%'"
     },
     "execution_count": 7,
     "metadata": {},
     "output_type": "execute_result"
    }
   ],
   "source": [
    "(isin_intersection.sum() / len(Markit_company['isin'].dropna())).__format__(\"0.2%\")"
   ],
   "metadata": {
    "collapsed": false,
    "ExecuteTime": {
     "end_time": "2024-02-24T17:46:39.047008Z",
     "start_time": "2024-02-24T17:46:39.034048Z"
    }
   },
   "id": "914aa9d8c1a9f17b",
   "execution_count": 7
  },
  {
   "cell_type": "markdown",
   "source": [
    "Only 47% of the ISIN in Markit are available in RepRisk so this is not going to work for us. We cannot merge the two datasets on ISIN only. We will have to merge on company name also."
   ],
   "metadata": {
    "collapsed": false
   },
   "id": "974505353d838bfc"
  },
  {
   "cell_type": "code",
   "outputs": [
    {
     "data": {
      "text/plain": "           isin       instrumentname reprisk_id  primary_isin\n0  DE0005552004     Deutsche Post Ag       3794  DE0005552004\n1  US98956P1021  Zimmer Holdings Inc     182884  US98956P1021\n2  US86764P1093           Sunoco Inc        978  US86764P1093\n3  US7901481009           St. Joe Co       7502  US7901481009\n4  US8265521018   Sigma-aldrich Corp       7620  US8265521018",
      "text/html": "<div>\n<style scoped>\n    .dataframe tbody tr th:only-of-type {\n        vertical-align: middle;\n    }\n\n    .dataframe tbody tr th {\n        vertical-align: top;\n    }\n\n    .dataframe thead th {\n        text-align: right;\n    }\n</style>\n<table border=\"1\" class=\"dataframe\">\n  <thead>\n    <tr style=\"text-align: right;\">\n      <th></th>\n      <th>isin</th>\n      <th>instrumentname</th>\n      <th>reprisk_id</th>\n      <th>primary_isin</th>\n    </tr>\n  </thead>\n  <tbody>\n    <tr>\n      <th>0</th>\n      <td>DE0005552004</td>\n      <td>Deutsche Post Ag</td>\n      <td>3794</td>\n      <td>DE0005552004</td>\n    </tr>\n    <tr>\n      <th>1</th>\n      <td>US98956P1021</td>\n      <td>Zimmer Holdings Inc</td>\n      <td>182884</td>\n      <td>US98956P1021</td>\n    </tr>\n    <tr>\n      <th>2</th>\n      <td>US86764P1093</td>\n      <td>Sunoco Inc</td>\n      <td>978</td>\n      <td>US86764P1093</td>\n    </tr>\n    <tr>\n      <th>3</th>\n      <td>US7901481009</td>\n      <td>St. Joe Co</td>\n      <td>7502</td>\n      <td>US7901481009</td>\n    </tr>\n    <tr>\n      <th>4</th>\n      <td>US8265521018</td>\n      <td>Sigma-aldrich Corp</td>\n      <td>7620</td>\n      <td>US8265521018</td>\n    </tr>\n  </tbody>\n</table>\n</div>"
     },
     "execution_count": 8,
     "metadata": {},
     "output_type": "execute_result"
    }
   ],
   "source": [
    "RepRisk_id_on_isin = Markit_company.merge(RepRisk_company[['reprisk_id', 'primary_isin']].dropna(), left_on=\"isin\", right_on=\"primary_isin\", how=\"left\")\n",
    "RepRisk_id_on_isin.head()"
   ],
   "metadata": {
    "collapsed": false,
    "ExecuteTime": {
     "end_time": "2024-02-24T17:46:41.301335Z",
     "start_time": "2024-02-24T17:46:41.237167Z"
    }
   },
   "id": "8fb4a4b3aabed6cd",
   "execution_count": 8
  },
  {
   "cell_type": "code",
   "outputs": [
    {
     "data": {
      "text/plain": "<pandas.io.formats.style.Styler at 0x17c588190>",
      "text/html": "<style type=\"text/css\">\n</style>\n<table id=\"T_a0729\">\n  <thead>\n    <tr>\n      <th class=\"blank level0\" >&nbsp;</th>\n      <th id=\"T_a0729_level0_col0\" class=\"col_heading level0 col0\" >percentage_missing_reprisk_id</th>\n    </tr>\n  </thead>\n  <tbody>\n    <tr>\n      <th id=\"T_a0729_level0_row0\" class=\"row_heading level0 row0\" >reprisk_id</th>\n      <td id=\"T_a0729_row0_col0\" class=\"data row0 col0\" >55.24%</td>\n    </tr>\n  </tbody>\n</table>\n"
     },
     "execution_count": 9,
     "metadata": {},
     "output_type": "execute_result"
    }
   ],
   "source": [
    "(RepRisk_id_on_isin[['reprisk_id']].isna().sum() / len(RepRisk_id_on_isin)).to_frame(\"percentage_missing_reprisk_id\").style.format(\"{:.2%}\")"
   ],
   "metadata": {
    "collapsed": false,
    "ExecuteTime": {
     "end_time": "2024-02-24T17:46:41.934194Z",
     "start_time": "2024-02-24T17:46:41.926450Z"
    }
   },
   "id": "83d01fb0781af",
   "execution_count": 9
  },
  {
   "cell_type": "markdown",
   "source": [
    "Matching on ISIN only, we cannot match 55% of the companies in Markit with their reprisk_id in Reprisk. We will now have to look at matching companies missing isin on their name."
   ],
   "metadata": {
    "collapsed": false
   },
   "id": "24950f9a9ae27e10"
  },
  {
   "cell_type": "code",
   "outputs": [
    {
     "data": {
      "text/plain": "            isin               instrumentname\n14  US3371621018  First Horizon National Corp\n15  US3199631041              First Data Corp\n16  US2473611083          Delta Air Lines Inc\n19  US0442041051                  Ashland Inc\n20  US1251291068     CDW COMPUTER CENTERS INC",
      "text/html": "<div>\n<style scoped>\n    .dataframe tbody tr th:only-of-type {\n        vertical-align: middle;\n    }\n\n    .dataframe tbody tr th {\n        vertical-align: top;\n    }\n\n    .dataframe thead th {\n        text-align: right;\n    }\n</style>\n<table border=\"1\" class=\"dataframe\">\n  <thead>\n    <tr style=\"text-align: right;\">\n      <th></th>\n      <th>isin</th>\n      <th>instrumentname</th>\n    </tr>\n  </thead>\n  <tbody>\n    <tr>\n      <th>14</th>\n      <td>US3371621018</td>\n      <td>First Horizon National Corp</td>\n    </tr>\n    <tr>\n      <th>15</th>\n      <td>US3199631041</td>\n      <td>First Data Corp</td>\n    </tr>\n    <tr>\n      <th>16</th>\n      <td>US2473611083</td>\n      <td>Delta Air Lines Inc</td>\n    </tr>\n    <tr>\n      <th>19</th>\n      <td>US0442041051</td>\n      <td>Ashland Inc</td>\n    </tr>\n    <tr>\n      <th>20</th>\n      <td>US1251291068</td>\n      <td>CDW COMPUTER CENTERS INC</td>\n    </tr>\n  </tbody>\n</table>\n</div>"
     },
     "execution_count": 10,
     "metadata": {},
     "output_type": "execute_result"
    }
   ],
   "source": [
    "companies_missing_isin = RepRisk_id_on_isin[RepRisk_id_on_isin['reprisk_id'].isna()][['isin', 'instrumentname']]\n",
    "companies_missing_isin.head()"
   ],
   "metadata": {
    "collapsed": false,
    "ExecuteTime": {
     "end_time": "2024-02-24T17:46:42.791645Z",
     "start_time": "2024-02-24T17:46:42.784611Z"
    }
   },
   "id": "964c466720b2d36a",
   "execution_count": 10
  },
  {
   "cell_type": "code",
   "outputs": [
    {
     "data": {
      "text/plain": "           isin               instrumentname reprisk_id     company_name  \\\n0  US3371621018  First Horizon National Corp        NaN              NaN   \n1  US3199631041              First Data Corp    1524305  First Data Corp   \n2  US2473611083          Delta Air Lines Inc        NaN              NaN   \n3  US0442041051                  Ashland Inc        NaN              NaN   \n4  US1251291068     CDW COMPUTER CENTERS INC        NaN              NaN   \n\n   primary_isin         isins  \n0           NaN           NaN  \n1  US32008D1063  US32008D1063  \n2           NaN           NaN  \n3           NaN           NaN  \n4           NaN           NaN  ",
      "text/html": "<div>\n<style scoped>\n    .dataframe tbody tr th:only-of-type {\n        vertical-align: middle;\n    }\n\n    .dataframe tbody tr th {\n        vertical-align: top;\n    }\n\n    .dataframe thead th {\n        text-align: right;\n    }\n</style>\n<table border=\"1\" class=\"dataframe\">\n  <thead>\n    <tr style=\"text-align: right;\">\n      <th></th>\n      <th>isin</th>\n      <th>instrumentname</th>\n      <th>reprisk_id</th>\n      <th>company_name</th>\n      <th>primary_isin</th>\n      <th>isins</th>\n    </tr>\n  </thead>\n  <tbody>\n    <tr>\n      <th>0</th>\n      <td>US3371621018</td>\n      <td>First Horizon National Corp</td>\n      <td>NaN</td>\n      <td>NaN</td>\n      <td>NaN</td>\n      <td>NaN</td>\n    </tr>\n    <tr>\n      <th>1</th>\n      <td>US3199631041</td>\n      <td>First Data Corp</td>\n      <td>1524305</td>\n      <td>First Data Corp</td>\n      <td>US32008D1063</td>\n      <td>US32008D1063</td>\n    </tr>\n    <tr>\n      <th>2</th>\n      <td>US2473611083</td>\n      <td>Delta Air Lines Inc</td>\n      <td>NaN</td>\n      <td>NaN</td>\n      <td>NaN</td>\n      <td>NaN</td>\n    </tr>\n    <tr>\n      <th>3</th>\n      <td>US0442041051</td>\n      <td>Ashland Inc</td>\n      <td>NaN</td>\n      <td>NaN</td>\n      <td>NaN</td>\n      <td>NaN</td>\n    </tr>\n    <tr>\n      <th>4</th>\n      <td>US1251291068</td>\n      <td>CDW COMPUTER CENTERS INC</td>\n      <td>NaN</td>\n      <td>NaN</td>\n      <td>NaN</td>\n      <td>NaN</td>\n    </tr>\n  </tbody>\n</table>\n</div>"
     },
     "execution_count": 11,
     "metadata": {},
     "output_type": "execute_result"
    }
   ],
   "source": [
    "RepRisk_id_on_company_name = companies_missing_isin.merge(RepRisk_company, left_on=\"instrumentname\", right_on=\"company_name\", how=\"left\")\n",
    "RepRisk_id_on_company_name.head()"
   ],
   "metadata": {
    "collapsed": false,
    "ExecuteTime": {
     "end_time": "2024-02-24T17:46:43.523212Z",
     "start_time": "2024-02-24T17:46:43.488450Z"
    }
   },
   "id": "1292c99c4835f17e",
   "execution_count": 11
  },
  {
   "cell_type": "code",
   "outputs": [
    {
     "data": {
      "text/plain": "<pandas.io.formats.style.Styler at 0x17dbad710>",
      "text/html": "<style type=\"text/css\">\n</style>\n<table id=\"T_08463\">\n  <thead>\n    <tr>\n      <th class=\"blank level0\" >&nbsp;</th>\n      <th id=\"T_08463_level0_col0\" class=\"col_heading level0 col0\" >percentage_still_missing_reprisk_id</th>\n    </tr>\n  </thead>\n  <tbody>\n    <tr>\n      <th id=\"T_08463_level0_row0\" class=\"row_heading level0 row0\" >reprisk_id</th>\n      <td id=\"T_08463_row0_col0\" class=\"data row0 col0\" >85.13%</td>\n    </tr>\n  </tbody>\n</table>\n"
     },
     "execution_count": 12,
     "metadata": {},
     "output_type": "execute_result"
    }
   ],
   "source": [
    "(RepRisk_id_on_company_name[['reprisk_id']].isna().sum() / len(RepRisk_id_on_company_name)).to_frame(\"percentage_still_missing_reprisk_id\").style.format(\"{:.2%}\")"
   ],
   "metadata": {
    "collapsed": false,
    "ExecuteTime": {
     "end_time": "2024-02-24T17:46:44.301469Z",
     "start_time": "2024-02-24T17:46:44.297751Z"
    }
   },
   "id": "ccaf4b76b328dd6e",
   "execution_count": 12
  },
  {
   "cell_type": "markdown",
   "source": [
    "Merging on company name without cleaning it only allows us to match 15% of the companies without matching ISIN. We will have to clean the company names in both datasets to be able to merge them."
   ],
   "metadata": {
    "collapsed": false
   },
   "id": "b1203ed5bb790bb9"
  },
  {
   "cell_type": "code",
   "outputs": [
    {
     "data": {
      "text/plain": "           isin               instrumentname\n0  US3371621018  First Horizon National Corp\n2  US2473611083          Delta Air Lines Inc\n3  US0442041051                  Ashland Inc\n4  US1251291068     CDW COMPUTER CENTERS INC\n5  CA4532584022                     Inco Ltd",
      "text/html": "<div>\n<style scoped>\n    .dataframe tbody tr th:only-of-type {\n        vertical-align: middle;\n    }\n\n    .dataframe tbody tr th {\n        vertical-align: top;\n    }\n\n    .dataframe thead th {\n        text-align: right;\n    }\n</style>\n<table border=\"1\" class=\"dataframe\">\n  <thead>\n    <tr style=\"text-align: right;\">\n      <th></th>\n      <th>isin</th>\n      <th>instrumentname</th>\n    </tr>\n  </thead>\n  <tbody>\n    <tr>\n      <th>0</th>\n      <td>US3371621018</td>\n      <td>First Horizon National Corp</td>\n    </tr>\n    <tr>\n      <th>2</th>\n      <td>US2473611083</td>\n      <td>Delta Air Lines Inc</td>\n    </tr>\n    <tr>\n      <th>3</th>\n      <td>US0442041051</td>\n      <td>Ashland Inc</td>\n    </tr>\n    <tr>\n      <th>4</th>\n      <td>US1251291068</td>\n      <td>CDW COMPUTER CENTERS INC</td>\n    </tr>\n    <tr>\n      <th>5</th>\n      <td>CA4532584022</td>\n      <td>Inco Ltd</td>\n    </tr>\n  </tbody>\n</table>\n</div>"
     },
     "execution_count": 13,
     "metadata": {},
     "output_type": "execute_result"
    }
   ],
   "source": [
    "companies_still_missing_reprisk_id = RepRisk_id_on_company_name[RepRisk_id_on_company_name['reprisk_id'].isna()][['isin', 'instrumentname']]\n",
    "companies_still_missing_reprisk_id.head()"
   ],
   "metadata": {
    "collapsed": false,
    "ExecuteTime": {
     "end_time": "2024-02-24T17:46:49.933260Z",
     "start_time": "2024-02-24T17:46:49.927636Z"
    }
   },
   "id": "69e633f0767a159c",
   "execution_count": 13
  },
  {
   "cell_type": "markdown",
   "source": [
    "Let's summarize what we did into a single SQL request."
   ],
   "metadata": {
    "collapsed": false
   },
   "id": "e3af1b22804da0cc"
  },
  {
   "cell_type": "code",
   "outputs": [],
   "source": [
    "from pandasql import sqldf"
   ],
   "metadata": {
    "collapsed": false,
    "ExecuteTime": {
     "end_time": "2024-02-24T17:46:50.670598Z",
     "start_time": "2024-02-24T17:46:50.565265Z"
    }
   },
   "id": "2830c4e91485a526",
   "execution_count": 14
  },
  {
   "cell_type": "code",
   "outputs": [],
   "source": [
    "RepRisk_company_isin = RepRisk_company[['reprisk_id', 'primary_isin']].dropna()"
   ],
   "metadata": {
    "collapsed": false,
    "ExecuteTime": {
     "end_time": "2024-02-24T17:46:50.876770Z",
     "start_time": "2024-02-24T17:46:50.842662Z"
    }
   },
   "id": "51b94f28fa8191e8",
   "execution_count": 15
  },
  {
   "cell_type": "code",
   "outputs": [],
   "source": [
    "RepRisk_company_name = RepRisk_company[['reprisk_id', 'company_name']].dropna()"
   ],
   "metadata": {
    "collapsed": false,
    "ExecuteTime": {
     "end_time": "2024-02-24T17:46:51.365328Z",
     "start_time": "2024-02-24T17:46:51.330328Z"
    }
   },
   "id": "19028b909d42ec5",
   "execution_count": 16
  },
  {
   "cell_type": "code",
   "outputs": [],
   "source": [
    "match_reprisk_for_company = sqldf(\"\"\n",
    "      \"SELECT mkc.isin, mkc.instrumentname, rrn.reprisk_id AS reprisk_id_name, rri.reprisk_id AS reprisk_id_isin \"\n",
    "        \"FROM Markit_company AS mkc \"\n",
    "        \"LEFT JOIN RepRisk_company_name AS rrn \"\n",
    "            \"ON mkc.instrumentname = rrn.company_name \"\n",
    "        \"LEFT JOIN RepRisk_company_isin AS rri \"\n",
    "            \"ON mkc.isin = rri.primary_isin \"\n",
    "        )"
   ],
   "metadata": {
    "collapsed": false,
    "ExecuteTime": {
     "end_time": "2024-02-24T17:46:55.136985Z",
     "start_time": "2024-02-24T17:46:51.847792Z"
    }
   },
   "id": "d92849be4a3c6d38",
   "execution_count": 17
  },
  {
   "cell_type": "code",
   "outputs": [],
   "source": [
    "# merge the 2 reprisk_id columns\n",
    "match_reprisk_for_company['reprisk_id_merge'] = match_reprisk_for_company['reprisk_id_isin'].fillna(match_reprisk_for_company['reprisk_id_name'])"
   ],
   "metadata": {
    "collapsed": false,
    "ExecuteTime": {
     "end_time": "2024-02-24T17:46:59.813424Z",
     "start_time": "2024-02-24T17:46:59.804003Z"
    }
   },
   "id": "25286252ff228abc",
   "execution_count": 18
  },
  {
   "cell_type": "code",
   "outputs": [
    {
     "data": {
      "text/plain": "'52.99%'"
     },
     "execution_count": 19,
     "metadata": {},
     "output_type": "execute_result"
    }
   ],
   "source": [
    "(1 - match_reprisk_for_company['reprisk_id_merge'].isna().sum() / len(match_reprisk_for_company)).__format__(\"0.2%\")"
   ],
   "metadata": {
    "collapsed": false,
    "ExecuteTime": {
     "end_time": "2024-02-24T17:47:00.478450Z",
     "start_time": "2024-02-24T17:47:00.473012Z"
    }
   },
   "id": "9da44a96ca1bb310",
   "execution_count": 19
  },
  {
   "cell_type": "markdown",
   "source": [
    "We are able to match 53% of the companies in Markit with their reprisk_id in Reprisk."
   ],
   "metadata": {
    "collapsed": false
   },
   "id": "26f90e701299cbe4"
  },
  {
   "cell_type": "code",
   "outputs": [],
   "source": [
    "still_missing = match_reprisk_for_company[match_reprisk_for_company['reprisk_id_merge'].isna()][['isin', 'instrumentname']]"
   ],
   "metadata": {
    "collapsed": false,
    "ExecuteTime": {
     "end_time": "2024-02-24T17:47:24.314764Z",
     "start_time": "2024-02-24T17:47:24.303541Z"
    }
   },
   "id": "7641043a1aa0be8d",
   "execution_count": 20
  },
  {
   "cell_type": "code",
   "outputs": [
    {
     "data": {
      "text/plain": "               isin               instrumentname                 cleaned_name  \\\n0      US3371621018  First Horizon National Corp  first horizon national corp   \n1      US2473611083          Delta Air Lines Inc          delta air lines inc   \n2      US0442041051                  Ashland Inc                  ashland inc   \n3      US1251291068     CDW COMPUTER CENTERS INC     cdw computer centers inc   \n4      CA4532584022                     Inco Ltd                     inco ltd   \n...             ...                          ...                          ...   \n34991  US8200141088         Sharplink Gaming Ltd         sharplink gaming ltd   \n34992  US74019P2074    Precision Biosciences Inc    precision biosciences inc   \n34993  CA00792K1075              Aero Energy Ltd              aero energy ltd   \n34994  US87975F1049  Telomir Pharmaceuticals Inc  telomir pharmaceuticals inc   \n34995  CA45675L1022              Infinico Metals              infinico metals   \n\n      reprisk_id               company_name  \n0            NaN                        NaN  \n1            NaN                        NaN  \n2            NaN                        NaN  \n3            NaN                        NaN  \n4            NaN                        NaN  \n...          ...                        ...  \n34991        NaN                        NaN  \n34992     562341  Precision BioSciences Inc  \n34993        NaN                        NaN  \n34994        NaN                        NaN  \n34995        NaN                        NaN  \n\n[34996 rows x 5 columns]",
      "text/html": "<div>\n<style scoped>\n    .dataframe tbody tr th:only-of-type {\n        vertical-align: middle;\n    }\n\n    .dataframe tbody tr th {\n        vertical-align: top;\n    }\n\n    .dataframe thead th {\n        text-align: right;\n    }\n</style>\n<table border=\"1\" class=\"dataframe\">\n  <thead>\n    <tr style=\"text-align: right;\">\n      <th></th>\n      <th>isin</th>\n      <th>instrumentname</th>\n      <th>cleaned_name</th>\n      <th>reprisk_id</th>\n      <th>company_name</th>\n    </tr>\n  </thead>\n  <tbody>\n    <tr>\n      <th>0</th>\n      <td>US3371621018</td>\n      <td>First Horizon National Corp</td>\n      <td>first horizon national corp</td>\n      <td>NaN</td>\n      <td>NaN</td>\n    </tr>\n    <tr>\n      <th>1</th>\n      <td>US2473611083</td>\n      <td>Delta Air Lines Inc</td>\n      <td>delta air lines inc</td>\n      <td>NaN</td>\n      <td>NaN</td>\n    </tr>\n    <tr>\n      <th>2</th>\n      <td>US0442041051</td>\n      <td>Ashland Inc</td>\n      <td>ashland inc</td>\n      <td>NaN</td>\n      <td>NaN</td>\n    </tr>\n    <tr>\n      <th>3</th>\n      <td>US1251291068</td>\n      <td>CDW COMPUTER CENTERS INC</td>\n      <td>cdw computer centers inc</td>\n      <td>NaN</td>\n      <td>NaN</td>\n    </tr>\n    <tr>\n      <th>4</th>\n      <td>CA4532584022</td>\n      <td>Inco Ltd</td>\n      <td>inco ltd</td>\n      <td>NaN</td>\n      <td>NaN</td>\n    </tr>\n    <tr>\n      <th>...</th>\n      <td>...</td>\n      <td>...</td>\n      <td>...</td>\n      <td>...</td>\n      <td>...</td>\n    </tr>\n    <tr>\n      <th>34991</th>\n      <td>US8200141088</td>\n      <td>Sharplink Gaming Ltd</td>\n      <td>sharplink gaming ltd</td>\n      <td>NaN</td>\n      <td>NaN</td>\n    </tr>\n    <tr>\n      <th>34992</th>\n      <td>US74019P2074</td>\n      <td>Precision Biosciences Inc</td>\n      <td>precision biosciences inc</td>\n      <td>562341</td>\n      <td>Precision BioSciences Inc</td>\n    </tr>\n    <tr>\n      <th>34993</th>\n      <td>CA00792K1075</td>\n      <td>Aero Energy Ltd</td>\n      <td>aero energy ltd</td>\n      <td>NaN</td>\n      <td>NaN</td>\n    </tr>\n    <tr>\n      <th>34994</th>\n      <td>US87975F1049</td>\n      <td>Telomir Pharmaceuticals Inc</td>\n      <td>telomir pharmaceuticals inc</td>\n      <td>NaN</td>\n      <td>NaN</td>\n    </tr>\n    <tr>\n      <th>34995</th>\n      <td>CA45675L1022</td>\n      <td>Infinico Metals</td>\n      <td>infinico metals</td>\n      <td>NaN</td>\n      <td>NaN</td>\n    </tr>\n  </tbody>\n</table>\n<p>34996 rows × 5 columns</p>\n</div>"
     },
     "execution_count": 21,
     "metadata": {},
     "output_type": "execute_result"
    }
   ],
   "source": [
    "import re\n",
    "\n",
    "def clean_company_name(name):\n",
    "    \"\"\"\n",
    "    Clean the company name by applying the following transformations:\n",
    "    - Handle non-string inputs.\n",
    "    - Convert to lowercase.\n",
    "    - Remove punctuation and special characters.\n",
    "    - Replace common corporate abbreviations.\n",
    "    - Remove legal entity identifiers.\n",
    "    - Trim whitespace.\n",
    "    \"\"\"\n",
    "    if pd.isnull(name) or not isinstance(name, str):\n",
    "        return None\n",
    "    \n",
    "    # Convert to lowercase\n",
    "    name = name.lower()\n",
    "    # Remove punctuation and special characters (keep alphanumeric and spaces)\n",
    "    name = re.sub(r'[^\\w\\s]', '', name)\n",
    "    # Replace common corporate abbreviations and legal entity identifiers\n",
    "    abbreviations = {\n",
    "        ' corporation': ' corp',\n",
    "        ' incorporated': ' inc',\n",
    "        ' company': ' co',\n",
    "        ' limited': ' ltd',\n",
    "        ' plc': '',\n",
    "        ' llc': '',\n",
    "        ' l p': ' lp',\n",
    "        ' lp': ' lp'\n",
    "    }\n",
    "    for key, value in abbreviations.items():\n",
    "        name = name.replace(key, value)\n",
    "    # Trim whitespace\n",
    "    name = re.sub(r'\\s+', ' ', name).strip()\n",
    "    return name\n",
    "\n",
    "still_missing['cleaned_name'] = still_missing['instrumentname'].apply(clean_company_name)\n",
    "RepRisk_company_name['cleaned_name'] = RepRisk_company_name['company_name'].apply(clean_company_name)\n",
    "\n",
    "merged_df = still_missing.merge(RepRisk_company_name, left_on='cleaned_name', right_on='cleaned_name', how='left')\n",
    "\n",
    "merged_df"
   ],
   "metadata": {
    "collapsed": false,
    "ExecuteTime": {
     "end_time": "2024-02-24T17:47:34.983478Z",
     "start_time": "2024-02-24T17:47:33.436019Z"
    }
   },
   "id": "111e20ce70f14e29",
   "execution_count": 21
  },
  {
   "cell_type": "code",
   "outputs": [],
   "source": [
    "still_missing2 = merged_df[merged_df['reprisk_id'].isna()][['isin', 'instrumentname', 'cleaned_name']]"
   ],
   "metadata": {
    "collapsed": false,
    "ExecuteTime": {
     "end_time": "2024-02-24T17:49:02.694209Z",
     "start_time": "2024-02-24T17:49:02.685904Z"
    }
   },
   "id": "bae7434a2f98e239",
   "execution_count": 23
  },
  {
   "cell_type": "code",
   "outputs": [],
   "source": [
    "from fuzzywuzzy import fuzz\n",
    "from collections import defaultdict\n",
    "\n",
    "reprisk_df = RepRisk_company_name.copy()\n",
    "\n",
    "# Create a set of unique cleaned names from the reprisk_df for faster lookup\n",
    "unique_cleaned_names = set(reprisk_df['cleaned_name'].dropna())\n",
    "\n",
    "# Create a dictionary to cache the results of fuzzy matching\n",
    "fuzzy_match_cache = defaultdict(lambda: None)\n",
    "\n",
    "def get_reprisk_id_optimized(still_missing_name, threshold=90):\n",
    "    \"\"\"\n",
    "    Optimized function to use fuzzy matching to find the closest match in the reprisk dataframe\n",
    "    for a given company name. It uses caching to speed up the process.\n",
    "    \"\"\"\n",
    "    # Check if the name is already in the cache\n",
    "    if still_missing_name in fuzzy_match_cache:\n",
    "        return fuzzy_match_cache[still_missing_name]\n",
    "    \n",
    "    if still_missing_name is None:\n",
    "        return None\n",
    "    \n",
    "    # Find the best match for the company name in the set of unique cleaned names\n",
    "    best_match = None\n",
    "    best_score = 0\n",
    "    for candidate in unique_cleaned_names:\n",
    "        score = fuzz.partial_ratio(still_missing_name, candidate)\n",
    "        if score > best_score:\n",
    "            best_score = score\n",
    "            best_match = candidate\n",
    "        # If we reach a score that's good enough, we can stop searching\n",
    "        if score >= threshold:\n",
    "            break\n",
    "\n",
    "    # If the best score is above the threshold, find the reprisk_id from the dataframe\n",
    "    if best_score >= threshold:\n",
    "        reprisk_id = reprisk_df[reprisk_df['cleaned_name'] == best_match]['reprisk_id'].values[0]\n",
    "    else:\n",
    "        reprisk_id = None\n",
    "\n",
    "    # Cache the result\n",
    "    fuzzy_match_cache[still_missing_name] = reprisk_id\n",
    "    return reprisk_id"
   ],
   "metadata": {
    "collapsed": false,
    "ExecuteTime": {
     "end_time": "2024-02-24T17:52:35.629480Z",
     "start_time": "2024-02-24T17:52:35.502046Z"
    }
   },
   "id": "6a42b87d2418efb3",
   "execution_count": 32
  },
  {
   "cell_type": "code",
   "outputs": [
    {
     "name": "stderr",
     "output_type": "stream",
     "text": [
      "/Users/baptistepepin/anaconda3/lib/python3.11/site-packages/numpy/core/fromnumeric.py:57: FutureWarning: 'Series.swapaxes' is deprecated and will be removed in a future version. Please use 'Series.transpose' instead.\n",
      "  return bound(*args, **kwds)\n"
     ]
    }
   ],
   "source": [
    "import numpy as np\n",
    "from concurrent.futures import ThreadPoolExecutor\n",
    "\n",
    "def parallelize_dataframe(df, func, n_cores=4):\n",
    "    df_split = np.array_split(df, n_cores)\n",
    "    with ThreadPoolExecutor(max_workers=n_cores) as executor:\n",
    "        df = pd.concat(executor.map(func, df_split))\n",
    "    return df\n",
    "\n",
    "def apply_func_to_series(data_series):\n",
    "    return data_series.apply(get_reprisk_id_optimized)\n",
    "\n",
    "subset_still_missing_df = still_missing2.copy()\n",
    "subset_still_missing_df = parallelize_dataframe(subset_still_missing_df['cleaned_name'], apply_func_to_series, n_cores=4)\n",
    "subset_still_missing_df"
   ],
   "metadata": {
    "collapsed": false,
    "is_executing": true,
    "ExecuteTime": {
     "start_time": "2024-02-24T18:00:40.277409Z"
    }
   },
   "id": "9b14ca46fad0919f",
   "execution_count": null
  },
  {
   "cell_type": "code",
   "outputs": [],
   "source": [],
   "metadata": {
    "collapsed": false
   },
   "id": "faaeef5775230e4d"
  }
 ],
 "metadata": {
  "kernelspec": {
   "display_name": "Python 3",
   "language": "python",
   "name": "python3"
  },
  "language_info": {
   "codemirror_mode": {
    "name": "ipython",
    "version": 2
   },
   "file_extension": ".py",
   "mimetype": "text/x-python",
   "name": "python",
   "nbconvert_exporter": "python",
   "pygments_lexer": "ipython2",
   "version": "2.7.6"
  }
 },
 "nbformat": 4,
 "nbformat_minor": 5
}
