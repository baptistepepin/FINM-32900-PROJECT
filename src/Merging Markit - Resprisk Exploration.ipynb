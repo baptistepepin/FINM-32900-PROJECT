{
 "cells": [
  {
   "cell_type": "markdown",
   "source": [
    "# Merging RepRisk and Markit\n",
    "\n",
    "In order to compute the ratios we need but also to be able to compare the two datasets, we need to merge them.\n",
    "\n",
    "A first idea was to use the `isin` columns available in both dataframe but it appears that it is not well populated in the RepRisk dataset. That means we might need to match companies on their name. Doing so would require to clean the names in both datasets.\n",
    "\n",
    "Let's first explore the idea of merging on ISIN."
   ],
   "metadata": {
    "collapsed": false
   },
   "id": "98cad44a3953ceb3"
  },
  {
   "cell_type": "code",
   "execution_count": 1,
   "id": "initial_id",
   "metadata": {
    "collapsed": true,
    "ExecuteTime": {
     "end_time": "2024-02-26T19:02:02.421752Z",
     "start_time": "2024-02-26T19:02:01.072564Z"
    }
   },
   "outputs": [],
   "source": [
    "import re\n",
    "from collections import defaultdict\n",
    "from concurrent.futures import ThreadPoolExecutor\n",
    "from pathlib import Path\n",
    "\n",
    "import numpy as np\n",
    "import pandas as pd\n",
    "import ray\n",
    "from cleanco import basename\n",
    "from fuzzywuzzy import fuzz\n",
    "from name_matching.name_matcher import NameMatcher\n",
    "from pandasql import sqldf\n",
    "\n",
    "import config\n",
    "\n",
    "DATA_DIR = Path(config.DATA_DIR)\n",
    "file_path = Path(DATA_DIR) / \"pulled\""
   ]
  },
  {
   "cell_type": "markdown",
   "source": [
    "Let's have a look at RepRisk first."
   ],
   "metadata": {
    "collapsed": false
   },
   "id": "627f1526945d0d42"
  },
  {
   "cell_type": "code",
   "outputs": [
    {
     "data": {
      "text/plain": "  reprisk_id         company_name  primary_isin  \\\n0         10             Acer Inc  TW0002353000   \n1        100        Rio Tinto PLC  GB0007188757   \n2       1000  Terrane Metals Corp  CA88103A1084   \n3      10000  RAK Properties PJSC  AER000601016   \n4     100000       BLUECOM Co Ltd  KR7033560004   \n\n                                               isins  \n0         US0044341065 | US0044342055 | TW0002353000  \n1  GB0007406639 | BRRIOTBDR007 | ARDEUT112638 | G...  \n2  CA88103A1167 | US88103A3068 | CA88103A1084 | C...  \n3                                       AER000601016  \n4                                       KR7033560004  ",
      "text/html": "<div>\n<style scoped>\n    .dataframe tbody tr th:only-of-type {\n        vertical-align: middle;\n    }\n\n    .dataframe tbody tr th {\n        vertical-align: top;\n    }\n\n    .dataframe thead th {\n        text-align: right;\n    }\n</style>\n<table border=\"1\" class=\"dataframe\">\n  <thead>\n    <tr style=\"text-align: right;\">\n      <th></th>\n      <th>reprisk_id</th>\n      <th>company_name</th>\n      <th>primary_isin</th>\n      <th>isins</th>\n    </tr>\n  </thead>\n  <tbody>\n    <tr>\n      <th>0</th>\n      <td>10</td>\n      <td>Acer Inc</td>\n      <td>TW0002353000</td>\n      <td>US0044341065 | US0044342055 | TW0002353000</td>\n    </tr>\n    <tr>\n      <th>1</th>\n      <td>100</td>\n      <td>Rio Tinto PLC</td>\n      <td>GB0007188757</td>\n      <td>GB0007406639 | BRRIOTBDR007 | ARDEUT112638 | G...</td>\n    </tr>\n    <tr>\n      <th>2</th>\n      <td>1000</td>\n      <td>Terrane Metals Corp</td>\n      <td>CA88103A1084</td>\n      <td>CA88103A1167 | US88103A3068 | CA88103A1084 | C...</td>\n    </tr>\n    <tr>\n      <th>3</th>\n      <td>10000</td>\n      <td>RAK Properties PJSC</td>\n      <td>AER000601016</td>\n      <td>AER000601016</td>\n    </tr>\n    <tr>\n      <th>4</th>\n      <td>100000</td>\n      <td>BLUECOM Co Ltd</td>\n      <td>KR7033560004</td>\n      <td>KR7033560004</td>\n    </tr>\n  </tbody>\n</table>\n</div>"
     },
     "execution_count": 3,
     "metadata": {},
     "output_type": "execute_result"
    }
   ],
   "source": [
    "RepRisk_company = pd.read_parquet(file_path / \"reprisk_company.parquet\")\n",
    "RepRisk_company.head()"
   ],
   "metadata": {
    "collapsed": false,
    "ExecuteTime": {
     "end_time": "2024-02-25T20:10:28.269559Z",
     "start_time": "2024-02-25T20:10:27.972786Z"
    }
   },
   "id": "2be6af2ec471361",
   "execution_count": 3
  },
  {
   "cell_type": "code",
   "outputs": [
    {
     "data": {
      "text/plain": "<pandas.io.formats.style.Styler at 0x1615ba610>",
      "text/html": "<style type=\"text/css\">\n</style>\n<table id=\"T_daf8b\">\n  <thead>\n    <tr>\n      <th class=\"blank level0\" >&nbsp;</th>\n      <th id=\"T_daf8b_level0_col0\" class=\"col_heading level0 col0\" >percentage_missing_isin</th>\n    </tr>\n  </thead>\n  <tbody>\n    <tr>\n      <th id=\"T_daf8b_level0_row0\" class=\"row_heading level0 row0\" >primary_isin</th>\n      <td id=\"T_daf8b_row0_col0\" class=\"data row0 col0\" >85.03%</td>\n    </tr>\n  </tbody>\n</table>\n"
     },
     "execution_count": 4,
     "metadata": {},
     "output_type": "execute_result"
    }
   ],
   "source": [
    "(RepRisk_company[['primary_isin']].isna().sum() / len(RepRisk_company)).to_frame(\n",
    "    \"percentage_missing_isin\").style.format(\"{:.2%}\")"
   ],
   "metadata": {
    "collapsed": false,
    "ExecuteTime": {
     "end_time": "2024-02-25T20:10:28.566362Z",
     "start_time": "2024-02-25T20:10:28.263862Z"
    }
   },
   "id": "fa8ae629d917510f",
   "execution_count": 4
  },
  {
   "cell_type": "markdown",
   "source": [
    "Out of more than 600k referenced companies, 85% of them have a missing ISIN in RepRisk.\n",
    "\n",
    "Let's have a look at Markit now."
   ],
   "metadata": {
    "collapsed": false
   },
   "id": "cf8d8d6ee5d4b83c"
  },
  {
   "cell_type": "code",
   "outputs": [
    {
     "data": {
      "text/plain": "           isin       instrumentname\n0  DE0005552004     Deutsche Post Ag\n1  US98956P1021  Zimmer Holdings Inc\n2  US86764P1093           Sunoco Inc\n3  US7901481009           St. Joe Co\n4  US8265521018   Sigma-aldrich Corp",
      "text/html": "<div>\n<style scoped>\n    .dataframe tbody tr th:only-of-type {\n        vertical-align: middle;\n    }\n\n    .dataframe tbody tr th {\n        vertical-align: top;\n    }\n\n    .dataframe thead th {\n        text-align: right;\n    }\n</style>\n<table border=\"1\" class=\"dataframe\">\n  <thead>\n    <tr style=\"text-align: right;\">\n      <th></th>\n      <th>isin</th>\n      <th>instrumentname</th>\n    </tr>\n  </thead>\n  <tbody>\n    <tr>\n      <th>0</th>\n      <td>DE0005552004</td>\n      <td>Deutsche Post Ag</td>\n    </tr>\n    <tr>\n      <th>1</th>\n      <td>US98956P1021</td>\n      <td>Zimmer Holdings Inc</td>\n    </tr>\n    <tr>\n      <th>2</th>\n      <td>US86764P1093</td>\n      <td>Sunoco Inc</td>\n    </tr>\n    <tr>\n      <th>3</th>\n      <td>US7901481009</td>\n      <td>St. Joe Co</td>\n    </tr>\n    <tr>\n      <th>4</th>\n      <td>US8265521018</td>\n      <td>Sigma-aldrich Corp</td>\n    </tr>\n  </tbody>\n</table>\n</div>"
     },
     "execution_count": 5,
     "metadata": {},
     "output_type": "execute_result"
    }
   ],
   "source": [
    "Markit = pd.read_parquet(file_path / \"markit.parquet\")\n",
    "Markit_company = Markit[[\"isin\", \"instrumentname\"]].drop_duplicates()\n",
    "Markit_company.head()"
   ],
   "metadata": {
    "collapsed": false,
    "ExecuteTime": {
     "end_time": "2024-02-25T20:11:01.257998Z",
     "start_time": "2024-02-25T20:10:28.566890Z"
    }
   },
   "id": "60227c16b666f370",
   "execution_count": 5
  },
  {
   "cell_type": "code",
   "outputs": [
    {
     "data": {
      "text/plain": "<pandas.io.formats.style.Styler at 0x1628c2510>",
      "text/html": "<style type=\"text/css\">\n</style>\n<table id=\"T_28f2f\">\n  <thead>\n    <tr>\n      <th class=\"blank level0\" >&nbsp;</th>\n      <th id=\"T_28f2f_level0_col0\" class=\"col_heading level0 col0\" >percentage_missing_isin</th>\n    </tr>\n  </thead>\n  <tbody>\n    <tr>\n      <th id=\"T_28f2f_level0_row0\" class=\"row_heading level0 row0\" >isin</th>\n      <td id=\"T_28f2f_row0_col0\" class=\"data row0 col0\" >5.33%</td>\n    </tr>\n  </tbody>\n</table>\n"
     },
     "execution_count": 6,
     "metadata": {},
     "output_type": "execute_result"
    }
   ],
   "source": [
    "(Markit_company[['isin']].isna().sum() / len(Markit_company)).to_frame(\"percentage_missing_isin\").style.format(\"{:.2%}\")"
   ],
   "metadata": {
    "collapsed": false,
    "ExecuteTime": {
     "end_time": "2024-02-25T20:11:01.282400Z",
     "start_time": "2024-02-25T20:11:01.235561Z"
    }
   },
   "id": "b16b539b917234fc",
   "execution_count": 6
  },
  {
   "cell_type": "markdown",
   "source": [
    "For Markit, only 5% of the companies have a missing ISIN.\n",
    "\n",
    "We are now going to see if we can match all the available ISIN in Markit with the ones in RepRisk."
   ],
   "metadata": {
    "collapsed": false
   },
   "id": "1de2dbb897e61c46"
  },
  {
   "cell_type": "code",
   "outputs": [],
   "source": [
    "isin_intersection = Markit_company['isin'].dropna().isin(RepRisk_company['primary_isin'].dropna())"
   ],
   "metadata": {
    "collapsed": false,
    "ExecuteTime": {
     "end_time": "2024-02-25T20:11:01.368842Z",
     "start_time": "2024-02-25T20:11:01.244318Z"
    }
   },
   "id": "398d07f68cee3265",
   "execution_count": 7
  },
  {
   "cell_type": "code",
   "outputs": [
    {
     "data": {
      "text/plain": "'47.27%'"
     },
     "execution_count": 8,
     "metadata": {},
     "output_type": "execute_result"
    }
   ],
   "source": [
    "(isin_intersection.sum() / len(Markit_company['isin'].dropna())).__format__(\"0.2%\")"
   ],
   "metadata": {
    "collapsed": false,
    "ExecuteTime": {
     "end_time": "2024-02-25T20:11:01.387301Z",
     "start_time": "2024-02-25T20:11:01.281276Z"
    }
   },
   "id": "914aa9d8c1a9f17b",
   "execution_count": 8
  },
  {
   "cell_type": "markdown",
   "source": [
    "Only 47% of the ISIN in Markit are available in RepRisk so this is not going to work for us. We cannot merge the two datasets on ISIN only. We will have to merge on company name also."
   ],
   "metadata": {
    "collapsed": false
   },
   "id": "974505353d838bfc"
  },
  {
   "cell_type": "code",
   "outputs": [
    {
     "data": {
      "text/plain": "           isin       instrumentname reprisk_id  primary_isin\n0  DE0005552004     Deutsche Post Ag       3794  DE0005552004\n1  US98956P1021  Zimmer Holdings Inc     182884  US98956P1021\n2  US86764P1093           Sunoco Inc        978  US86764P1093\n3  US7901481009           St. Joe Co       7502  US7901481009\n4  US8265521018   Sigma-aldrich Corp       7620  US8265521018",
      "text/html": "<div>\n<style scoped>\n    .dataframe tbody tr th:only-of-type {\n        vertical-align: middle;\n    }\n\n    .dataframe tbody tr th {\n        vertical-align: top;\n    }\n\n    .dataframe thead th {\n        text-align: right;\n    }\n</style>\n<table border=\"1\" class=\"dataframe\">\n  <thead>\n    <tr style=\"text-align: right;\">\n      <th></th>\n      <th>isin</th>\n      <th>instrumentname</th>\n      <th>reprisk_id</th>\n      <th>primary_isin</th>\n    </tr>\n  </thead>\n  <tbody>\n    <tr>\n      <th>0</th>\n      <td>DE0005552004</td>\n      <td>Deutsche Post Ag</td>\n      <td>3794</td>\n      <td>DE0005552004</td>\n    </tr>\n    <tr>\n      <th>1</th>\n      <td>US98956P1021</td>\n      <td>Zimmer Holdings Inc</td>\n      <td>182884</td>\n      <td>US98956P1021</td>\n    </tr>\n    <tr>\n      <th>2</th>\n      <td>US86764P1093</td>\n      <td>Sunoco Inc</td>\n      <td>978</td>\n      <td>US86764P1093</td>\n    </tr>\n    <tr>\n      <th>3</th>\n      <td>US7901481009</td>\n      <td>St. Joe Co</td>\n      <td>7502</td>\n      <td>US7901481009</td>\n    </tr>\n    <tr>\n      <th>4</th>\n      <td>US8265521018</td>\n      <td>Sigma-aldrich Corp</td>\n      <td>7620</td>\n      <td>US8265521018</td>\n    </tr>\n  </tbody>\n</table>\n</div>"
     },
     "execution_count": 9,
     "metadata": {},
     "output_type": "execute_result"
    }
   ],
   "source": [
    "RepRisk_id_on_isin = Markit_company.merge(RepRisk_company[['reprisk_id', 'primary_isin']].dropna(), left_on=\"isin\",\n",
    "                                          right_on=\"primary_isin\", how=\"left\")\n",
    "RepRisk_id_on_isin.head()"
   ],
   "metadata": {
    "collapsed": false,
    "ExecuteTime": {
     "end_time": "2024-02-25T20:11:01.825643Z",
     "start_time": "2024-02-25T20:11:01.285473Z"
    }
   },
   "id": "8fb4a4b3aabed6cd",
   "execution_count": 9
  },
  {
   "cell_type": "code",
   "outputs": [
    {
     "data": {
      "text/plain": "<pandas.io.formats.style.Styler at 0x1759a4550>",
      "text/html": "<style type=\"text/css\">\n</style>\n<table id=\"T_5dc5c\">\n  <thead>\n    <tr>\n      <th class=\"blank level0\" >&nbsp;</th>\n      <th id=\"T_5dc5c_level0_col0\" class=\"col_heading level0 col0\" >percentage_missing_reprisk_id</th>\n    </tr>\n  </thead>\n  <tbody>\n    <tr>\n      <th id=\"T_5dc5c_level0_row0\" class=\"row_heading level0 row0\" >reprisk_id</th>\n      <td id=\"T_5dc5c_row0_col0\" class=\"data row0 col0\" >55.25%</td>\n    </tr>\n  </tbody>\n</table>\n"
     },
     "execution_count": 10,
     "metadata": {},
     "output_type": "execute_result"
    }
   ],
   "source": [
    "(RepRisk_id_on_isin[['reprisk_id']].isna().sum() / len(RepRisk_id_on_isin)).to_frame(\n",
    "    \"percentage_missing_reprisk_id\").style.format(\"{:.2%}\")"
   ],
   "metadata": {
    "collapsed": false,
    "ExecuteTime": {
     "end_time": "2024-02-25T20:11:01.826534Z",
     "start_time": "2024-02-25T20:11:01.408687Z"
    }
   },
   "id": "83d01fb0781af",
   "execution_count": 10
  },
  {
   "cell_type": "markdown",
   "source": [
    "Matching on ISIN only, we cannot match 55% of the companies in Markit with their reprisk_id in Reprisk. We will now have to look at matching companies missing isin on their name."
   ],
   "metadata": {
    "collapsed": false
   },
   "id": "24950f9a9ae27e10"
  },
  {
   "cell_type": "code",
   "outputs": [
    {
     "data": {
      "text/plain": "            isin               instrumentname\n14  US3371621018  First Horizon National Corp\n15  US3199631041              First Data Corp\n16  US2473611083          Delta Air Lines Inc\n19  US0442041051                  Ashland Inc\n20  US1251291068     CDW COMPUTER CENTERS INC",
      "text/html": "<div>\n<style scoped>\n    .dataframe tbody tr th:only-of-type {\n        vertical-align: middle;\n    }\n\n    .dataframe tbody tr th {\n        vertical-align: top;\n    }\n\n    .dataframe thead th {\n        text-align: right;\n    }\n</style>\n<table border=\"1\" class=\"dataframe\">\n  <thead>\n    <tr style=\"text-align: right;\">\n      <th></th>\n      <th>isin</th>\n      <th>instrumentname</th>\n    </tr>\n  </thead>\n  <tbody>\n    <tr>\n      <th>14</th>\n      <td>US3371621018</td>\n      <td>First Horizon National Corp</td>\n    </tr>\n    <tr>\n      <th>15</th>\n      <td>US3199631041</td>\n      <td>First Data Corp</td>\n    </tr>\n    <tr>\n      <th>16</th>\n      <td>US2473611083</td>\n      <td>Delta Air Lines Inc</td>\n    </tr>\n    <tr>\n      <th>19</th>\n      <td>US0442041051</td>\n      <td>Ashland Inc</td>\n    </tr>\n    <tr>\n      <th>20</th>\n      <td>US1251291068</td>\n      <td>CDW COMPUTER CENTERS INC</td>\n    </tr>\n  </tbody>\n</table>\n</div>"
     },
     "execution_count": 11,
     "metadata": {},
     "output_type": "execute_result"
    }
   ],
   "source": [
    "companies_missing_isin = RepRisk_id_on_isin[RepRisk_id_on_isin['reprisk_id'].isna()][['isin', 'instrumentname']]\n",
    "companies_missing_isin.head()"
   ],
   "metadata": {
    "collapsed": false,
    "ExecuteTime": {
     "end_time": "2024-02-25T20:11:01.827401Z",
     "start_time": "2024-02-25T20:11:01.421725Z"
    }
   },
   "id": "964c466720b2d36a",
   "execution_count": 11
  },
  {
   "cell_type": "code",
   "outputs": [
    {
     "data": {
      "text/plain": "           isin               instrumentname reprisk_id     company_name  \\\n0  US3371621018  First Horizon National Corp        NaN              NaN   \n1  US3199631041              First Data Corp    1524305  First Data Corp   \n2  US2473611083          Delta Air Lines Inc        NaN              NaN   \n3  US0442041051                  Ashland Inc        NaN              NaN   \n4  US1251291068     CDW COMPUTER CENTERS INC        NaN              NaN   \n\n   primary_isin         isins  \n0           NaN           NaN  \n1  US32008D1063  US32008D1063  \n2           NaN           NaN  \n3           NaN           NaN  \n4           NaN           NaN  ",
      "text/html": "<div>\n<style scoped>\n    .dataframe tbody tr th:only-of-type {\n        vertical-align: middle;\n    }\n\n    .dataframe tbody tr th {\n        vertical-align: top;\n    }\n\n    .dataframe thead th {\n        text-align: right;\n    }\n</style>\n<table border=\"1\" class=\"dataframe\">\n  <thead>\n    <tr style=\"text-align: right;\">\n      <th></th>\n      <th>isin</th>\n      <th>instrumentname</th>\n      <th>reprisk_id</th>\n      <th>company_name</th>\n      <th>primary_isin</th>\n      <th>isins</th>\n    </tr>\n  </thead>\n  <tbody>\n    <tr>\n      <th>0</th>\n      <td>US3371621018</td>\n      <td>First Horizon National Corp</td>\n      <td>NaN</td>\n      <td>NaN</td>\n      <td>NaN</td>\n      <td>NaN</td>\n    </tr>\n    <tr>\n      <th>1</th>\n      <td>US3199631041</td>\n      <td>First Data Corp</td>\n      <td>1524305</td>\n      <td>First Data Corp</td>\n      <td>US32008D1063</td>\n      <td>US32008D1063</td>\n    </tr>\n    <tr>\n      <th>2</th>\n      <td>US2473611083</td>\n      <td>Delta Air Lines Inc</td>\n      <td>NaN</td>\n      <td>NaN</td>\n      <td>NaN</td>\n      <td>NaN</td>\n    </tr>\n    <tr>\n      <th>3</th>\n      <td>US0442041051</td>\n      <td>Ashland Inc</td>\n      <td>NaN</td>\n      <td>NaN</td>\n      <td>NaN</td>\n      <td>NaN</td>\n    </tr>\n    <tr>\n      <th>4</th>\n      <td>US1251291068</td>\n      <td>CDW COMPUTER CENTERS INC</td>\n      <td>NaN</td>\n      <td>NaN</td>\n      <td>NaN</td>\n      <td>NaN</td>\n    </tr>\n  </tbody>\n</table>\n</div>"
     },
     "execution_count": 12,
     "metadata": {},
     "output_type": "execute_result"
    }
   ],
   "source": [
    "RepRisk_id_on_company_name = companies_missing_isin.merge(RepRisk_company, left_on=\"instrumentname\",\n",
    "                                                          right_on=\"company_name\", how=\"left\")\n",
    "RepRisk_id_on_company_name.head()"
   ],
   "metadata": {
    "collapsed": false,
    "ExecuteTime": {
     "end_time": "2024-02-25T20:11:01.847228Z",
     "start_time": "2024-02-25T20:11:01.605956Z"
    }
   },
   "id": "1292c99c4835f17e",
   "execution_count": 12
  },
  {
   "cell_type": "code",
   "outputs": [
    {
     "data": {
      "text/plain": "<pandas.io.formats.style.Styler at 0x175972990>",
      "text/html": "<style type=\"text/css\">\n</style>\n<table id=\"T_d0b9e\">\n  <thead>\n    <tr>\n      <th class=\"blank level0\" >&nbsp;</th>\n      <th id=\"T_d0b9e_level0_col0\" class=\"col_heading level0 col0\" >percentage_still_missing_reprisk_id</th>\n    </tr>\n  </thead>\n  <tbody>\n    <tr>\n      <th id=\"T_d0b9e_level0_row0\" class=\"row_heading level0 row0\" >reprisk_id</th>\n      <td id=\"T_d0b9e_row0_col0\" class=\"data row0 col0\" >85.13%</td>\n    </tr>\n  </tbody>\n</table>\n"
     },
     "execution_count": 13,
     "metadata": {},
     "output_type": "execute_result"
    }
   ],
   "source": [
    "(RepRisk_id_on_company_name[['reprisk_id']].isna().sum() / len(RepRisk_id_on_company_name)).to_frame(\n",
    "    \"percentage_still_missing_reprisk_id\").style.format(\"{:.2%}\")"
   ],
   "metadata": {
    "collapsed": false,
    "ExecuteTime": {
     "end_time": "2024-02-25T20:11:01.848468Z",
     "start_time": "2024-02-25T20:11:01.653638Z"
    }
   },
   "id": "ccaf4b76b328dd6e",
   "execution_count": 13
  },
  {
   "cell_type": "markdown",
   "source": [
    "Merging on company name without cleaning it only allows us to match 15% of the companies without matching ISIN. We will have to clean the company names in both datasets to be able to merge them."
   ],
   "metadata": {
    "collapsed": false
   },
   "id": "b1203ed5bb790bb9"
  },
  {
   "cell_type": "code",
   "outputs": [
    {
     "data": {
      "text/plain": "           isin               instrumentname\n0  US3371621018  First Horizon National Corp\n2  US2473611083          Delta Air Lines Inc\n3  US0442041051                  Ashland Inc\n4  US1251291068     CDW COMPUTER CENTERS INC\n5  CA4532584022                     Inco Ltd",
      "text/html": "<div>\n<style scoped>\n    .dataframe tbody tr th:only-of-type {\n        vertical-align: middle;\n    }\n\n    .dataframe tbody tr th {\n        vertical-align: top;\n    }\n\n    .dataframe thead th {\n        text-align: right;\n    }\n</style>\n<table border=\"1\" class=\"dataframe\">\n  <thead>\n    <tr style=\"text-align: right;\">\n      <th></th>\n      <th>isin</th>\n      <th>instrumentname</th>\n    </tr>\n  </thead>\n  <tbody>\n    <tr>\n      <th>0</th>\n      <td>US3371621018</td>\n      <td>First Horizon National Corp</td>\n    </tr>\n    <tr>\n      <th>2</th>\n      <td>US2473611083</td>\n      <td>Delta Air Lines Inc</td>\n    </tr>\n    <tr>\n      <th>3</th>\n      <td>US0442041051</td>\n      <td>Ashland Inc</td>\n    </tr>\n    <tr>\n      <th>4</th>\n      <td>US1251291068</td>\n      <td>CDW COMPUTER CENTERS INC</td>\n    </tr>\n    <tr>\n      <th>5</th>\n      <td>CA4532584022</td>\n      <td>Inco Ltd</td>\n    </tr>\n  </tbody>\n</table>\n</div>"
     },
     "execution_count": 14,
     "metadata": {},
     "output_type": "execute_result"
    }
   ],
   "source": [
    "companies_still_missing_reprisk_id = RepRisk_id_on_company_name[RepRisk_id_on_company_name['reprisk_id'].isna()][\n",
    "    ['isin', 'instrumentname']]\n",
    "companies_still_missing_reprisk_id.head()"
   ],
   "metadata": {
    "collapsed": false,
    "ExecuteTime": {
     "end_time": "2024-02-25T20:11:01.849524Z",
     "start_time": "2024-02-25T20:11:01.671698Z"
    }
   },
   "id": "69e633f0767a159c",
   "execution_count": 14
  },
  {
   "cell_type": "markdown",
   "source": [
    "Let's summarize what we did into a single SQL request."
   ],
   "metadata": {
    "collapsed": false
   },
   "id": "e3af1b22804da0cc"
  },
  {
   "cell_type": "code",
   "outputs": [],
   "source": [
    "RepRisk_company_isin = RepRisk_company[['reprisk_id', 'primary_isin']].dropna()\n",
    "RepRisk_company_name = RepRisk_company[['reprisk_id', 'company_name']].dropna()\n",
    "\n",
    "match_reprisk_for_company = sqldf(\"\"\n",
    "                                  \"SELECT mkc.isin, mkc.instrumentname, rrn.reprisk_id AS reprisk_id_name, rri.reprisk_id AS reprisk_id_isin \"\n",
    "                                  \"FROM Markit_company AS mkc \"\n",
    "                                  \"LEFT JOIN RepRisk_company_name AS rrn \"\n",
    "                                  \"ON mkc.instrumentname = rrn.company_name \"\n",
    "                                  \"LEFT JOIN RepRisk_company_isin AS rri \"\n",
    "                                  \"ON mkc.isin = rri.primary_isin \"\n",
    "                                  )"
   ],
   "metadata": {
    "collapsed": false,
    "ExecuteTime": {
     "end_time": "2024-02-25T20:11:05.234179Z",
     "start_time": "2024-02-25T20:11:01.679105Z"
    }
   },
   "id": "d92849be4a3c6d38",
   "execution_count": 15
  },
  {
   "cell_type": "code",
   "outputs": [],
   "source": [
    "match_reprisk_for_company['reprisk_id_merge'] = match_reprisk_for_company['reprisk_id_isin'].fillna(\n",
    "    match_reprisk_for_company['reprisk_id_name'])"
   ],
   "metadata": {
    "collapsed": false,
    "ExecuteTime": {
     "end_time": "2024-02-25T20:11:05.240618Z",
     "start_time": "2024-02-25T20:11:05.236428Z"
    }
   },
   "id": "25286252ff228abc",
   "execution_count": 16
  },
  {
   "cell_type": "code",
   "outputs": [
    {
     "data": {
      "text/plain": "'52.98%'"
     },
     "execution_count": 17,
     "metadata": {},
     "output_type": "execute_result"
    }
   ],
   "source": [
    "(1 - match_reprisk_for_company['reprisk_id_merge'].isna().sum() / len(match_reprisk_for_company)).__format__(\"0.2%\")"
   ],
   "metadata": {
    "collapsed": false,
    "ExecuteTime": {
     "end_time": "2024-02-25T20:11:05.246648Z",
     "start_time": "2024-02-25T20:11:05.242424Z"
    }
   },
   "id": "9da44a96ca1bb310",
   "execution_count": 17
  },
  {
   "cell_type": "markdown",
   "source": [
    "We are able to match 53% of the companies in Markit with their reprisk_id in Reprisk."
   ],
   "metadata": {
    "collapsed": false
   },
   "id": "26f90e701299cbe4"
  },
  {
   "cell_type": "code",
   "outputs": [],
   "source": [
    "def clean_company_name(name):\n",
    "    \"\"\"\n",
    "    Clean the company name by applying the following transformations:\n",
    "    - Handle non-string inputs.\n",
    "    - Convert to lowercase.\n",
    "    - Remove punctuation and special characters.\n",
    "    - Replace common corporate abbreviations.\n",
    "    - Remove legal entity identifiers.\n",
    "    - Trim whitespace.\n",
    "    \"\"\"\n",
    "    if pd.isnull(name) or not isinstance(name, str):\n",
    "        return None\n",
    "\n",
    "    name = basename(name)\n",
    "    # Convert to lowercase\n",
    "    name = name.lower()\n",
    "    # Remove punctuation and special characters (keep alphanumeric and spaces)\n",
    "    name = re.sub(r'[^\\w\\s]', '', name)\n",
    "    # Replace common corporate abbreviations and legal entity identifiers\n",
    "    # abbreviations = {\n",
    "    #     ' corporation': ' corp',\n",
    "    #     ' incorporated': ' inc',\n",
    "    #     ' company': ' co',\n",
    "    #     ' limited': ' ltd',\n",
    "    #     ' plc': '',\n",
    "    #     ' llc': '',\n",
    "    #     ' l p': ' lp',\n",
    "    #     ' lp': ' lp'\n",
    "    # }\n",
    "    # for key, value in abbreviations.items():\n",
    "    #     name = name.replace(key, value)\n",
    "    # Trim whitespace\n",
    "    name = re.sub(r'\\s+', ' ', name).strip()\n",
    "    return name"
   ],
   "metadata": {
    "collapsed": false,
    "ExecuteTime": {
     "end_time": "2024-02-25T20:11:05.247450Z",
     "start_time": "2024-02-25T20:11:05.245358Z"
    }
   },
   "id": "111e20ce70f14e29",
   "execution_count": 18
  },
  {
   "cell_type": "markdown",
   "source": [
    "Again, we can update our previous sql request to match the companies on their clean names."
   ],
   "metadata": {
    "collapsed": false
   },
   "id": "74a94dd3e58f079e"
  },
  {
   "cell_type": "code",
   "outputs": [],
   "source": [
    "RepRisk_company_isin = RepRisk_company[['reprisk_id', 'primary_isin']].dropna()\n",
    "RepRisk_company_name = RepRisk_company[['reprisk_id', 'company_name']].dropna()\n",
    "Markit_company_clean = Markit_company.copy()\n",
    "\n",
    "Markit_company_clean['cleaned_name'] = Markit_company_clean['instrumentname'].apply(clean_company_name)\n",
    "RepRisk_company_name['clean_company_name'] = RepRisk_company_name['company_name'].apply(clean_company_name)\n",
    "\n",
    "match_reprisk_for_company_clean = sqldf(\"\"\n",
    "                                        \"SELECT mkc.isin, mkc.instrumentname, rrn.reprisk_id AS reprisk_id_name, rri.reprisk_id AS reprisk_id_isin, mkc.cleaned_name \"\n",
    "                                        \"FROM Markit_company_clean AS mkc \"\n",
    "                                        \"LEFT JOIN RepRisk_company_name AS rrn \"\n",
    "                                        \"ON mkc.cleaned_name = rrn.clean_company_name \"\n",
    "                                        \"LEFT JOIN RepRisk_company_isin AS rri \"\n",
    "                                        \"ON mkc.isin = rri.primary_isin \"\n",
    "                                        )"
   ],
   "metadata": {
    "collapsed": false,
    "ExecuteTime": {
     "end_time": "2024-02-25T20:11:25.997366Z",
     "start_time": "2024-02-25T20:11:05.253768Z"
    }
   },
   "id": "2bc6b768b56ea8b3",
   "execution_count": 19
  },
  {
   "cell_type": "code",
   "outputs": [],
   "source": [
    "match_reprisk_for_company_clean['reprisk_id_merge'] = match_reprisk_for_company_clean['reprisk_id_isin'].fillna(\n",
    "    match_reprisk_for_company_clean['reprisk_id_name'])"
   ],
   "metadata": {
    "collapsed": false,
    "ExecuteTime": {
     "end_time": "2024-02-25T20:11:25.999598Z",
     "start_time": "2024-02-25T20:11:25.310913Z"
    }
   },
   "id": "7eee7f0d6524e508",
   "execution_count": 20
  },
  {
   "cell_type": "code",
   "outputs": [
    {
     "data": {
      "text/plain": "'59.56%'"
     },
     "execution_count": 21,
     "metadata": {},
     "output_type": "execute_result"
    }
   ],
   "source": [
    "(1 - match_reprisk_for_company_clean['reprisk_id_merge'].isna().sum() / len(\n",
    "    match_reprisk_for_company_clean)).__format__(\"0.2%\")"
   ],
   "metadata": {
    "collapsed": false,
    "ExecuteTime": {
     "end_time": "2024-02-25T20:11:26.011727Z",
     "start_time": "2024-02-25T20:11:25.316774Z"
    }
   },
   "id": "6e7b8e93085475c9",
   "execution_count": 21
  },
  {
   "cell_type": "code",
   "outputs": [],
   "source": [
    "still_missing2 = match_reprisk_for_company_clean[match_reprisk_for_company_clean['reprisk_id_merge'].isna()][\n",
    "    ['isin', 'instrumentname', 'cleaned_name']]"
   ],
   "metadata": {
    "collapsed": false,
    "ExecuteTime": {
     "end_time": "2024-02-25T20:11:26.012569Z",
     "start_time": "2024-02-25T20:11:25.321021Z"
    }
   },
   "id": "bae7434a2f98e239",
   "execution_count": 22
  },
  {
   "cell_type": "code",
   "outputs": [],
   "source": [
    "RepRisk_company_name_unique_index = RepRisk_company_name.reset_index(drop=True, inplace=False)"
   ],
   "metadata": {
    "collapsed": false,
    "ExecuteTime": {
     "end_time": "2024-02-25T20:11:26.022658Z",
     "start_time": "2024-02-25T20:11:25.325763Z"
    }
   },
   "id": "43783dba9c57184e",
   "execution_count": 23
  },
  {
   "cell_type": "code",
   "outputs": [
    {
     "name": "stderr",
     "output_type": "stream",
     "text": [
      "2024-02-25 14:26:55,056\tINFO worker.py:1724 -- Started a local Ray instance.\n",
      "\u001B[36m(raylet)\u001B[0m Spilled 2595 MiB, 4 objects, write throughput 765 MiB/s. Set RAY_verbose_spill_logs=0 to disable this message.\n",
      "\u001B[36m(raylet)\u001B[0m Spilled 4542 MiB, 7 objects, write throughput 855 MiB/s.\n",
      "\u001B[36m(raylet)\u001B[0m Spilled 9085 MiB, 14 objects, write throughput 1065 MiB/s.\n",
      "\u001B[36m(raylet)\u001B[0m Spilled 16872 MiB, 26 objects, write throughput 1107 MiB/s.\n",
      "\u001B[36m(raylet)\u001B[0m Spilled 33096 MiB, 51 objects, write throughput 1194 MiB/s.\n",
      "\u001B[36m(raylet)\u001B[0m Spilled 65543 MiB, 101 objects, write throughput 1164 MiB/s.\n"
     ]
    }
   ],
   "source": [
    "ray.shutdown()\n",
    "ray.init()\n",
    "\n",
    "matcher = NameMatcher(ngrams=(2, 5),\n",
    "                      top_n=10,\n",
    "                      number_of_rows=500,\n",
    "                      number_of_matches=3,\n",
    "                      lowercase=True,\n",
    "                      punctuations=True,\n",
    "                      remove_ascii=True,\n",
    "                      legal_suffixes=False,\n",
    "                      common_words=False,\n",
    "                      preprocess_split=False,\n",
    "                      verbose=False)\n",
    "\n",
    "matcher.set_distance_metrics(['iterative_sub_string', 'pearson_ii', 'bag', 'fuzzy_wuzzy_partial_string', 'editex'])\n",
    "\n",
    "matcher.load_and_process_master_data(column='clean_company_name',\n",
    "                                     df_matching_data=RepRisk_company_name_unique_index,\n",
    "                                     transform=True)\n",
    "\n",
    "@ray.remote\n",
    "def match_name_parallel(adjusted_names, matcher):\n",
    "    results = matcher.match_names(to_be_matched=adjusted_names, column_matching='cleaned_name')\n",
    "    return results\n",
    "\n",
    "results = []\n",
    "for i in range(0, len(still_missing2), 100):\n",
    "    results.append(match_name_parallel.remote(still_missing2[i:i + 100], matcher))\n",
    "\n",
    "matches = pd.concat(ray.get(results))"
   ],
   "metadata": {
    "collapsed": false,
    "ExecuteTime": {
     "end_time": "2024-02-25T20:33:28.808158Z",
     "start_time": "2024-02-25T20:26:49.913684Z"
    }
   },
   "id": "7e5596bbe60b1f26",
   "execution_count": 26
  },
  {
   "cell_type": "code",
   "outputs": [
    {
     "data": {
      "text/plain": "                original_name               match_name_0    score_0  \\\n17     first horizon national              first horizon  79.052839   \n20            delta air lines  delta air lines inc delta  79.161865   \n23                    ashland                   mushland  82.192777   \n24       cdw computer centers     entre computer centers  83.211100   \n44             scheringplough                     slough  63.009746   \n...                       ...                        ...        ...   \n77332      moon river capital              river capital  85.960993   \n77336          refined metals                  red metal  77.149540   \n77337     atlasclear holdings                      atlas  61.571510   \n77339                 semilux                      milux  83.420407   \n77340  sierra grande minerals                     sierra  60.329061   \n\n       match_index_0    match_name_1    score_1  match_index_1  match_name_2  \\\n17            485285         horizon  59.262131         313922       horizon   \n20            496055        air link  63.954512         198577         delta   \n23            257793        dashlane  81.439926         611530  ashland farm   \n24             48113  rd computer co  71.645984         540479   at computer   \n44            366287          clough  60.581115          85153          ring   \n...              ...             ...        ...            ...           ...   \n77332         370126         capital  66.119039         512101    iron river   \n77336         580624       red metal  77.149540         161158          meta   \n77337         586749           atlas  61.571510         415918         atlas   \n77339         519438            semi  76.017944         100013         filux   \n77340         315742          sierra  60.329061          31095        sierra   \n\n         score_2  match_index_2 reprisk_id                company_name  \\\n17     59.262131         583632       2693               first horizon   \n20     63.748140         548135       2978   delta air lines inc delta   \n23     77.699523         321725     200391            mushland pty ltd   \n24     63.027683         475723    1181698  entre computer centers inc   \n44     56.399262         420396    2430935                  slough ltd   \n...          ...            ...        ...                         ...   \n77332  61.440307         319720    2435360           river capital inc   \n77336  54.970691         535120      55691               red metal ltd   \n77337  61.571510          20504      57233                    atlas sa   \n77339  68.548585         571496      38707              milux corp bhd   \n77340  60.329061         415645    2244368                  sierra ltd   \n\n              clean_company_name  \n17                 first horizon  \n20     delta air lines inc delta  \n23                      mushland  \n24        entre computer centers  \n44                        slough  \n...                          ...  \n77332              river capital  \n77336                  red metal  \n77337                      atlas  \n77339                      milux  \n77340                     sierra  \n\n[31276 rows x 13 columns]",
      "text/html": "<div>\n<style scoped>\n    .dataframe tbody tr th:only-of-type {\n        vertical-align: middle;\n    }\n\n    .dataframe tbody tr th {\n        vertical-align: top;\n    }\n\n    .dataframe thead th {\n        text-align: right;\n    }\n</style>\n<table border=\"1\" class=\"dataframe\">\n  <thead>\n    <tr style=\"text-align: right;\">\n      <th></th>\n      <th>original_name</th>\n      <th>match_name_0</th>\n      <th>score_0</th>\n      <th>match_index_0</th>\n      <th>match_name_1</th>\n      <th>score_1</th>\n      <th>match_index_1</th>\n      <th>match_name_2</th>\n      <th>score_2</th>\n      <th>match_index_2</th>\n      <th>reprisk_id</th>\n      <th>company_name</th>\n      <th>clean_company_name</th>\n    </tr>\n  </thead>\n  <tbody>\n    <tr>\n      <th>17</th>\n      <td>first horizon national</td>\n      <td>first horizon</td>\n      <td>79.052839</td>\n      <td>485285</td>\n      <td>horizon</td>\n      <td>59.262131</td>\n      <td>313922</td>\n      <td>horizon</td>\n      <td>59.262131</td>\n      <td>583632</td>\n      <td>2693</td>\n      <td>first horizon</td>\n      <td>first horizon</td>\n    </tr>\n    <tr>\n      <th>20</th>\n      <td>delta air lines</td>\n      <td>delta air lines inc delta</td>\n      <td>79.161865</td>\n      <td>496055</td>\n      <td>air link</td>\n      <td>63.954512</td>\n      <td>198577</td>\n      <td>delta</td>\n      <td>63.748140</td>\n      <td>548135</td>\n      <td>2978</td>\n      <td>delta air lines inc delta</td>\n      <td>delta air lines inc delta</td>\n    </tr>\n    <tr>\n      <th>23</th>\n      <td>ashland</td>\n      <td>mushland</td>\n      <td>82.192777</td>\n      <td>257793</td>\n      <td>dashlane</td>\n      <td>81.439926</td>\n      <td>611530</td>\n      <td>ashland farm</td>\n      <td>77.699523</td>\n      <td>321725</td>\n      <td>200391</td>\n      <td>mushland pty ltd</td>\n      <td>mushland</td>\n    </tr>\n    <tr>\n      <th>24</th>\n      <td>cdw computer centers</td>\n      <td>entre computer centers</td>\n      <td>83.211100</td>\n      <td>48113</td>\n      <td>rd computer co</td>\n      <td>71.645984</td>\n      <td>540479</td>\n      <td>at computer</td>\n      <td>63.027683</td>\n      <td>475723</td>\n      <td>1181698</td>\n      <td>entre computer centers inc</td>\n      <td>entre computer centers</td>\n    </tr>\n    <tr>\n      <th>44</th>\n      <td>scheringplough</td>\n      <td>slough</td>\n      <td>63.009746</td>\n      <td>366287</td>\n      <td>clough</td>\n      <td>60.581115</td>\n      <td>85153</td>\n      <td>ring</td>\n      <td>56.399262</td>\n      <td>420396</td>\n      <td>2430935</td>\n      <td>slough ltd</td>\n      <td>slough</td>\n    </tr>\n    <tr>\n      <th>...</th>\n      <td>...</td>\n      <td>...</td>\n      <td>...</td>\n      <td>...</td>\n      <td>...</td>\n      <td>...</td>\n      <td>...</td>\n      <td>...</td>\n      <td>...</td>\n      <td>...</td>\n      <td>...</td>\n      <td>...</td>\n      <td>...</td>\n    </tr>\n    <tr>\n      <th>77332</th>\n      <td>moon river capital</td>\n      <td>river capital</td>\n      <td>85.960993</td>\n      <td>370126</td>\n      <td>capital</td>\n      <td>66.119039</td>\n      <td>512101</td>\n      <td>iron river</td>\n      <td>61.440307</td>\n      <td>319720</td>\n      <td>2435360</td>\n      <td>river capital inc</td>\n      <td>river capital</td>\n    </tr>\n    <tr>\n      <th>77336</th>\n      <td>refined metals</td>\n      <td>red metal</td>\n      <td>77.149540</td>\n      <td>580624</td>\n      <td>red metal</td>\n      <td>77.149540</td>\n      <td>161158</td>\n      <td>meta</td>\n      <td>54.970691</td>\n      <td>535120</td>\n      <td>55691</td>\n      <td>red metal ltd</td>\n      <td>red metal</td>\n    </tr>\n    <tr>\n      <th>77337</th>\n      <td>atlasclear holdings</td>\n      <td>atlas</td>\n      <td>61.571510</td>\n      <td>586749</td>\n      <td>atlas</td>\n      <td>61.571510</td>\n      <td>415918</td>\n      <td>atlas</td>\n      <td>61.571510</td>\n      <td>20504</td>\n      <td>57233</td>\n      <td>atlas sa</td>\n      <td>atlas</td>\n    </tr>\n    <tr>\n      <th>77339</th>\n      <td>semilux</td>\n      <td>milux</td>\n      <td>83.420407</td>\n      <td>519438</td>\n      <td>semi</td>\n      <td>76.017944</td>\n      <td>100013</td>\n      <td>filux</td>\n      <td>68.548585</td>\n      <td>571496</td>\n      <td>38707</td>\n      <td>milux corp bhd</td>\n      <td>milux</td>\n    </tr>\n    <tr>\n      <th>77340</th>\n      <td>sierra grande minerals</td>\n      <td>sierra</td>\n      <td>60.329061</td>\n      <td>315742</td>\n      <td>sierra</td>\n      <td>60.329061</td>\n      <td>31095</td>\n      <td>sierra</td>\n      <td>60.329061</td>\n      <td>415645</td>\n      <td>2244368</td>\n      <td>sierra ltd</td>\n      <td>sierra</td>\n    </tr>\n  </tbody>\n</table>\n<p>31276 rows × 13 columns</p>\n</div>"
     },
     "execution_count": 27,
     "metadata": {},
     "output_type": "execute_result"
    }
   ],
   "source": [
    "matches.merge(RepRisk_company_name_unique_index, left_on=\"match_index_0\", right_index=True, how=\"left\")"
   ],
   "metadata": {
    "collapsed": false,
    "ExecuteTime": {
     "end_time": "2024-02-25T20:41:08.531642Z",
     "start_time": "2024-02-25T20:41:08.445730Z"
    }
   },
   "id": "4a09ed2a3850cef7",
   "execution_count": 27
  },
  {
   "cell_type": "code",
   "outputs": [],
   "source": [
    "reprisk_df = RepRisk_company_name.copy()\n",
    "\n",
    "# Create a set of unique cleaned names from the reprisk_df for faster lookup\n",
    "unique_cleaned_names = set(reprisk_df['clean_company_name'].dropna())\n",
    "\n",
    "# Create a dictionary to cache the results of fuzzy matching\n",
    "fuzzy_match_cache = defaultdict(lambda: None)\n",
    "\n",
    "\n",
    "def get_reprisk_id_optimized(still_missing_name, threshold=97):\n",
    "    \"\"\"\n",
    "    Optimized function to use fuzzy matching to find the closest match in the reprisk dataframe\n",
    "    for a given company name. It uses caching to speed up the process.\n",
    "    \"\"\"\n",
    "    # Check if the name is already in the cache\n",
    "    if still_missing_name in fuzzy_match_cache:\n",
    "        return fuzzy_match_cache[still_missing_name]\n",
    "\n",
    "    if still_missing_name is None:\n",
    "        return None\n",
    "\n",
    "    # Find the best match for the company name in the set of unique cleaned names\n",
    "    best_match = None\n",
    "    best_score = 0\n",
    "    for candidate in unique_cleaned_names:\n",
    "        score = fuzz.partial_ratio(still_missing_name, candidate)\n",
    "        if score > best_score:\n",
    "            best_score = score\n",
    "            best_match = candidate\n",
    "        # If we reach a score that's good enough, we can stop searching\n",
    "        if score >= threshold:\n",
    "            break\n",
    "\n",
    "    # If the best score is above the threshold, find the reprisk_id from the dataframe\n",
    "    if best_score >= threshold:\n",
    "        reprisk_id = reprisk_df[reprisk_df['clean_company_name'] == best_match]['reprisk_id'].values[0]\n",
    "    else:\n",
    "        reprisk_id = None\n",
    "\n",
    "    # Cache the result\n",
    "    fuzzy_match_cache[still_missing_name] = reprisk_id\n",
    "    return reprisk_id"
   ],
   "metadata": {
    "collapsed": false,
    "ExecuteTime": {
     "end_time": "2024-02-25T05:46:22.387657Z",
     "start_time": "2024-02-25T05:46:22.259843Z"
    }
   },
   "id": "6a42b87d2418efb3",
   "execution_count": 25
  },
  {
   "cell_type": "code",
   "outputs": [],
   "source": [
    "def parallelize_dataframe(df, func, n_cores=4):\n",
    "    df_split = np.array_split(df, n_cores)\n",
    "    with ThreadPoolExecutor(max_workers=n_cores) as executor:\n",
    "        df = pd.concat(executor.map(func, df_split))\n",
    "    return df\n",
    "\n",
    "\n",
    "def apply_func_to_series(data_series):\n",
    "    return data_series.apply(get_reprisk_id_optimized)\n",
    "\n",
    "# subset_still_missing_df = still_missing2.copy()\n",
    "# subset_still_missing_df = parallelize_dataframe(subset_still_missing_df['cleaned_name'], apply_func_to_series, n_cores=4)\n",
    "# subset_still_missing_df"
   ],
   "metadata": {
    "collapsed": false,
    "ExecuteTime": {
     "end_time": "2024-02-25T05:46:22.388435Z",
     "start_time": "2024-02-25T05:46:22.380521Z"
    }
   },
   "id": "9b14ca46fad0919f",
   "execution_count": 26
  },
  {
   "cell_type": "code",
   "outputs": [],
   "source": [
    "subset_still_missing_df = pd.read_csv(\"subset_still_missing_df.csv\", index_col=0)"
   ],
   "metadata": {
    "collapsed": false,
    "ExecuteTime": {
     "end_time": "2024-02-25T05:46:22.423129Z",
     "start_time": "2024-02-25T05:46:22.382511Z"
    }
   },
   "id": "218c07ff1833252a",
   "execution_count": 27
  },
  {
   "cell_type": "code",
   "outputs": [],
   "source": [
    "match_fuzzy = still_missing2.join(subset_still_missing_df, rsuffix=\"_reprisk_id\")"
   ],
   "metadata": {
    "collapsed": false,
    "ExecuteTime": {
     "end_time": "2024-02-25T05:46:22.424708Z",
     "start_time": "2024-02-25T05:46:22.417594Z"
    }
   },
   "id": "c849b35ba5abbd21",
   "execution_count": 28
  },
  {
   "cell_type": "code",
   "outputs": [],
   "source": [
    "match_fuzzy.rename(\n",
    "    columns={\"isin\": \"isin_markit\", \"instrumentname\": \"instrumentname_markit\", \"cleaned_name\": \"cleaned_name_markit\",\n",
    "             \"cleaned_name_reprisk_id\": \"reprisk_id_matched\"}, inplace=True)"
   ],
   "metadata": {
    "collapsed": false,
    "ExecuteTime": {
     "end_time": "2024-02-25T05:46:22.427591Z",
     "start_time": "2024-02-25T05:46:22.422224Z"
    }
   },
   "id": "2d0e3cc3af9a89be",
   "execution_count": 29
  },
  {
   "cell_type": "code",
   "outputs": [],
   "source": [
    "# fuzzy_match_cache_df = pd.DataFrame(fuzzy_match_cache.items(), columns=['cleaned_name', 'reprisk_id'])"
   ],
   "metadata": {
    "collapsed": false,
    "ExecuteTime": {
     "end_time": "2024-02-25T05:46:22.430985Z",
     "start_time": "2024-02-25T05:46:22.424214Z"
    }
   },
   "id": "8f02b7132dd6c5dd",
   "execution_count": 30
  },
  {
   "cell_type": "code",
   "outputs": [],
   "source": [
    "fuzzy_match_cache_df = pd.read_csv(\"fuzzy_match_cache.csv\", index_col=0)"
   ],
   "metadata": {
    "collapsed": false,
    "ExecuteTime": {
     "end_time": "2024-02-25T05:46:22.451745Z",
     "start_time": "2024-02-25T05:46:22.426319Z"
    }
   },
   "id": "e429852de218b1cc",
   "execution_count": 31
  },
  {
   "cell_type": "code",
   "outputs": [],
   "source": [
    "match_reprisk_for_company_fuzzy = sqldf(\"\"\n",
    "                                        \"SELECT mf.isin_markit, mf.cleaned_name_markit, mf.instrumentname_markit, mf.reprisk_id_matched, rrn.reprisk_id AS reprisk_id_check, rrn.clean_company_name AS cleaned_name_check \"\n",
    "                                        \"FROM match_fuzzy AS mf \"\n",
    "                                        \"LEFT JOIN RepRisk_company_name AS rrn \"\n",
    "                                        \"ON mf.reprisk_id_matched = rrn.reprisk_id \"\n",
    "                                        )"
   ],
   "metadata": {
    "collapsed": false,
    "ExecuteTime": {
     "start_time": "2024-02-25T05:41:18.156921Z"
    }
   },
   "id": "cfd0067b8b9ae72d",
   "execution_count": null
  },
  {
   "cell_type": "code",
   "outputs": [],
   "source": [
    "# run fuzzy to get the score for each line between clean markit name and chack name clean\n",
    "# match_reprisk_for_company_fuzzy['fuzzy_score'] = match_reprisk_for_company_fuzzy.apply(lambda x: fuzz.partial_ratio(x['cleaned_name_markit'], x['cleaned_name_check']), axis=1)"
   ],
   "metadata": {
    "collapsed": false,
    "ExecuteTime": {
     "end_time": "2024-02-25T05:49:32.739646Z",
     "start_time": "2024-02-25T05:49:32.733160Z"
    }
   },
   "id": "fe34ce95db8f7759",
   "execution_count": 35
  },
  {
   "cell_type": "code",
   "outputs": [],
   "source": [
    "match_reprisk_for_company_fuzzy = pd.read_csv(\"match_reprisk_for_company_fuzzy.csv\", index_col=0)"
   ],
   "metadata": {
    "collapsed": false,
    "ExecuteTime": {
     "end_time": "2024-02-25T05:46:22.484734Z",
     "start_time": "2024-02-25T05:46:22.438794Z"
    }
   },
   "id": "69c536f82ff09006",
   "execution_count": 32
  },
  {
   "cell_type": "code",
   "outputs": [
    {
     "data": {
      "text/plain": "        isin_markit          cleaned_name_markit        instrumentname_markit  \\\n0      US3371621018  first horizon national corp  First Horizon National Corp   \n1      US2473611083          delta air lines inc          Delta Air Lines Inc   \n2      US0442041051                  ashland inc                  Ashland Inc   \n3      US1251291068     cdw computer centers inc     CDW COMPUTER CENTERS INC   \n4      CA4532584022                     inco ltd                     Inco Ltd   \n...             ...                          ...                          ...   \n32222  CA97536W2076           winshear gold corp           Winshear Gold Corp   \n32223  US8200141088         sharplink gaming ltd         Sharplink Gaming Ltd   \n32224  CA00792K1075              aero energy ltd              Aero Energy Ltd   \n32225  US87975F1049  telomir pharmaceuticals inc  Telomir Pharmaceuticals Inc   \n32226  CA45675L1022              infinico metals              Infinico Metals   \n\n       reprisk_id_matched  reprisk_id_check  \\\n0               1422034.0         1422034.0   \n1               2155238.0         2155238.0   \n2                  3117.0            3117.0   \n3                101758.0          101758.0   \n4                186366.0          186366.0   \n...                   ...               ...   \n32222           1786087.0         1786087.0   \n32223           1514772.0         1514772.0   \n32224            781678.0          781678.0   \n32225           2251983.0         2251983.0   \n32226           1463274.0         1463274.0   \n\n                                      cleaned_name_check  fuzzy_score  \n0                                                    ati          100  \n1                                                    inc          100  \n2      ashland inc formerly ashland global holdings i...          100  \n3                                                    cdw          100  \n4                                     renopharma inc ltd           93  \n...                                                  ...          ...  \n32222                                                 ld          100  \n32223                                               link          100  \n32224                                        senergy ltd           91  \n32225                            epi pharmaceuticals inc           91  \n32226                                                  i          100  \n\n[32227 rows x 7 columns]",
      "text/html": "<div>\n<style scoped>\n    .dataframe tbody tr th:only-of-type {\n        vertical-align: middle;\n    }\n\n    .dataframe tbody tr th {\n        vertical-align: top;\n    }\n\n    .dataframe thead th {\n        text-align: right;\n    }\n</style>\n<table border=\"1\" class=\"dataframe\">\n  <thead>\n    <tr style=\"text-align: right;\">\n      <th></th>\n      <th>isin_markit</th>\n      <th>cleaned_name_markit</th>\n      <th>instrumentname_markit</th>\n      <th>reprisk_id_matched</th>\n      <th>reprisk_id_check</th>\n      <th>cleaned_name_check</th>\n      <th>fuzzy_score</th>\n    </tr>\n  </thead>\n  <tbody>\n    <tr>\n      <th>0</th>\n      <td>US3371621018</td>\n      <td>first horizon national corp</td>\n      <td>First Horizon National Corp</td>\n      <td>1422034.0</td>\n      <td>1422034.0</td>\n      <td>ati</td>\n      <td>100</td>\n    </tr>\n    <tr>\n      <th>1</th>\n      <td>US2473611083</td>\n      <td>delta air lines inc</td>\n      <td>Delta Air Lines Inc</td>\n      <td>2155238.0</td>\n      <td>2155238.0</td>\n      <td>inc</td>\n      <td>100</td>\n    </tr>\n    <tr>\n      <th>2</th>\n      <td>US0442041051</td>\n      <td>ashland inc</td>\n      <td>Ashland Inc</td>\n      <td>3117.0</td>\n      <td>3117.0</td>\n      <td>ashland inc formerly ashland global holdings i...</td>\n      <td>100</td>\n    </tr>\n    <tr>\n      <th>3</th>\n      <td>US1251291068</td>\n      <td>cdw computer centers inc</td>\n      <td>CDW COMPUTER CENTERS INC</td>\n      <td>101758.0</td>\n      <td>101758.0</td>\n      <td>cdw</td>\n      <td>100</td>\n    </tr>\n    <tr>\n      <th>4</th>\n      <td>CA4532584022</td>\n      <td>inco ltd</td>\n      <td>Inco Ltd</td>\n      <td>186366.0</td>\n      <td>186366.0</td>\n      <td>renopharma inc ltd</td>\n      <td>93</td>\n    </tr>\n    <tr>\n      <th>...</th>\n      <td>...</td>\n      <td>...</td>\n      <td>...</td>\n      <td>...</td>\n      <td>...</td>\n      <td>...</td>\n      <td>...</td>\n    </tr>\n    <tr>\n      <th>32222</th>\n      <td>CA97536W2076</td>\n      <td>winshear gold corp</td>\n      <td>Winshear Gold Corp</td>\n      <td>1786087.0</td>\n      <td>1786087.0</td>\n      <td>ld</td>\n      <td>100</td>\n    </tr>\n    <tr>\n      <th>32223</th>\n      <td>US8200141088</td>\n      <td>sharplink gaming ltd</td>\n      <td>Sharplink Gaming Ltd</td>\n      <td>1514772.0</td>\n      <td>1514772.0</td>\n      <td>link</td>\n      <td>100</td>\n    </tr>\n    <tr>\n      <th>32224</th>\n      <td>CA00792K1075</td>\n      <td>aero energy ltd</td>\n      <td>Aero Energy Ltd</td>\n      <td>781678.0</td>\n      <td>781678.0</td>\n      <td>senergy ltd</td>\n      <td>91</td>\n    </tr>\n    <tr>\n      <th>32225</th>\n      <td>US87975F1049</td>\n      <td>telomir pharmaceuticals inc</td>\n      <td>Telomir Pharmaceuticals Inc</td>\n      <td>2251983.0</td>\n      <td>2251983.0</td>\n      <td>epi pharmaceuticals inc</td>\n      <td>91</td>\n    </tr>\n    <tr>\n      <th>32226</th>\n      <td>CA45675L1022</td>\n      <td>infinico metals</td>\n      <td>Infinico Metals</td>\n      <td>1463274.0</td>\n      <td>1463274.0</td>\n      <td>i</td>\n      <td>100</td>\n    </tr>\n  </tbody>\n</table>\n<p>32227 rows × 7 columns</p>\n</div>"
     },
     "execution_count": 33,
     "metadata": {},
     "output_type": "execute_result"
    }
   ],
   "source": [
    "match_reprisk_for_company_fuzzy"
   ],
   "metadata": {
    "collapsed": false,
    "ExecuteTime": {
     "end_time": "2024-02-25T05:46:22.487465Z",
     "start_time": "2024-02-25T05:46:22.477896Z"
    }
   },
   "id": "817049cef4146c2f",
   "execution_count": 33
  },
  {
   "cell_type": "code",
   "outputs": [],
   "source": [],
   "metadata": {
    "collapsed": false,
    "ExecuteTime": {
     "end_time": "2024-02-25T18:48:24.708086Z",
     "start_time": "2024-02-25T18:48:24.392436Z"
    }
   },
   "id": "1edc141977526bf2",
   "execution_count": 2
  },
  {
   "cell_type": "code",
   "outputs": [],
   "source": [],
   "metadata": {
    "collapsed": false
   },
   "id": "7acd137d683f2e42"
  },
  {
   "cell_type": "code",
   "outputs": [],
   "source": [
    "markit2022_ = pd.read_parquet(file_path / \"markit2022_.parquet\")"
   ],
   "metadata": {
    "collapsed": false,
    "ExecuteTime": {
     "end_time": "2024-02-25T22:49:08.092481Z",
     "start_time": "2024-02-25T22:49:07.015508Z"
    }
   },
   "id": "575d7f3e3e56a466",
   "execution_count": 43
  },
  {
   "cell_type": "code",
   "outputs": [
    {
     "data": {
      "text/plain": "         datadate     cusip     shrout          isin  \\\n0      2022-01-03  00032Q10    20895.0  US00032Q1040   \n1      2022-01-03  00036110    35469.0  US0003611052   \n2      2022-01-03  00164V10    30892.0  US00164V1035   \n3      2022-01-03  00216W20   207283.0  US00216W1099   \n4      2022-01-03  00287Y10  1767880.0  US00287Y1091   \n...           ...       ...        ...           ...   \n228485 2023-12-29  Y2711Y11    11052.0  SG9999014831   \n228486 2023-12-29  Y3894J18    23615.0  MHY3894J1872   \n228487 2023-12-29  Y3894J18    23615.0  MHY3894J1120   \n228488 2023-12-29  Y6430L20     3735.0  MHY6430L2029   \n228489 2023-12-29  Y8564W10    90949.0  MHY8564W1030   \n\n                              instrumentname  indicativefee  utilisation  \\\n0                        Aadi Bioscience Inc       0.017219    36.346460   \n1                                   Aar Corp       0.002761     3.703486   \n2                           Amc Networks Inc       0.002920    25.957410   \n3                   Ati Physical Therapy Inc       0.017493    53.313670   \n4                                 Abbvie Inc       0.003256     0.261216   \n...                                      ...            ...          ...   \n228485                        Giga Media Ltd       0.137748     6.405102   \n228486                Imperial Petroleum Inc       0.115836    93.988070   \n228487  Imperial 8 75 Srs A Cum Red Prep Prf            NaN     0.000000   \n228488                          Oceanpal Inc       0.442730     1.708853   \n228489                           Teekay Corp       0.002753     0.611958   \n\n        shortloanquantity  quantityonloan  lendablequantity  \\\n0                386616.0        386616.0         1005248.0   \n1                839643.0        886008.0        18960896.0   \n2               4138402.0       4139902.0        14484817.0   \n3               3853695.0       3856695.0         6073751.0   \n4               1574813.0       2000571.0       557075584.0   \n...                   ...             ...               ...   \n228485             7800.0          7800.0           81702.0   \n228486          3798367.0       3798367.0         2093563.0   \n228487                NaN             NaN             477.0   \n228488             1810.0          1810.0           84368.0   \n228489            97638.0         99438.0        16258345.0   \n\n        lenderconcentration  borrowerconcentration  inventoryconcentration  \n0                  0.271643               0.206404                0.228618  \n1                  0.240280               0.225955                0.168525  \n2                  0.327368               0.224092                0.182572  \n3                  0.198212               0.519702                0.183514  \n4                  0.140679               0.143139                0.132769  \n...                     ...                    ...                     ...  \n228485             1.000000               1.000000                0.454410  \n228486             0.743503               0.338524                0.683525  \n228487             0.000000               0.000000                0.414445  \n228488             0.836157               0.434993                0.803737  \n228489             0.413801               0.962332                0.218824  \n\n[3601077 rows x 13 columns]",
      "text/html": "<div>\n<style scoped>\n    .dataframe tbody tr th:only-of-type {\n        vertical-align: middle;\n    }\n\n    .dataframe tbody tr th {\n        vertical-align: top;\n    }\n\n    .dataframe thead th {\n        text-align: right;\n    }\n</style>\n<table border=\"1\" class=\"dataframe\">\n  <thead>\n    <tr style=\"text-align: right;\">\n      <th></th>\n      <th>datadate</th>\n      <th>cusip</th>\n      <th>shrout</th>\n      <th>isin</th>\n      <th>instrumentname</th>\n      <th>indicativefee</th>\n      <th>utilisation</th>\n      <th>shortloanquantity</th>\n      <th>quantityonloan</th>\n      <th>lendablequantity</th>\n      <th>lenderconcentration</th>\n      <th>borrowerconcentration</th>\n      <th>inventoryconcentration</th>\n    </tr>\n  </thead>\n  <tbody>\n    <tr>\n      <th>0</th>\n      <td>2022-01-03</td>\n      <td>00032Q10</td>\n      <td>20895.0</td>\n      <td>US00032Q1040</td>\n      <td>Aadi Bioscience Inc</td>\n      <td>0.017219</td>\n      <td>36.346460</td>\n      <td>386616.0</td>\n      <td>386616.0</td>\n      <td>1005248.0</td>\n      <td>0.271643</td>\n      <td>0.206404</td>\n      <td>0.228618</td>\n    </tr>\n    <tr>\n      <th>1</th>\n      <td>2022-01-03</td>\n      <td>00036110</td>\n      <td>35469.0</td>\n      <td>US0003611052</td>\n      <td>Aar Corp</td>\n      <td>0.002761</td>\n      <td>3.703486</td>\n      <td>839643.0</td>\n      <td>886008.0</td>\n      <td>18960896.0</td>\n      <td>0.240280</td>\n      <td>0.225955</td>\n      <td>0.168525</td>\n    </tr>\n    <tr>\n      <th>2</th>\n      <td>2022-01-03</td>\n      <td>00164V10</td>\n      <td>30892.0</td>\n      <td>US00164V1035</td>\n      <td>Amc Networks Inc</td>\n      <td>0.002920</td>\n      <td>25.957410</td>\n      <td>4138402.0</td>\n      <td>4139902.0</td>\n      <td>14484817.0</td>\n      <td>0.327368</td>\n      <td>0.224092</td>\n      <td>0.182572</td>\n    </tr>\n    <tr>\n      <th>3</th>\n      <td>2022-01-03</td>\n      <td>00216W20</td>\n      <td>207283.0</td>\n      <td>US00216W1099</td>\n      <td>Ati Physical Therapy Inc</td>\n      <td>0.017493</td>\n      <td>53.313670</td>\n      <td>3853695.0</td>\n      <td>3856695.0</td>\n      <td>6073751.0</td>\n      <td>0.198212</td>\n      <td>0.519702</td>\n      <td>0.183514</td>\n    </tr>\n    <tr>\n      <th>4</th>\n      <td>2022-01-03</td>\n      <td>00287Y10</td>\n      <td>1767880.0</td>\n      <td>US00287Y1091</td>\n      <td>Abbvie Inc</td>\n      <td>0.003256</td>\n      <td>0.261216</td>\n      <td>1574813.0</td>\n      <td>2000571.0</td>\n      <td>557075584.0</td>\n      <td>0.140679</td>\n      <td>0.143139</td>\n      <td>0.132769</td>\n    </tr>\n    <tr>\n      <th>...</th>\n      <td>...</td>\n      <td>...</td>\n      <td>...</td>\n      <td>...</td>\n      <td>...</td>\n      <td>...</td>\n      <td>...</td>\n      <td>...</td>\n      <td>...</td>\n      <td>...</td>\n      <td>...</td>\n      <td>...</td>\n      <td>...</td>\n    </tr>\n    <tr>\n      <th>228485</th>\n      <td>2023-12-29</td>\n      <td>Y2711Y11</td>\n      <td>11052.0</td>\n      <td>SG9999014831</td>\n      <td>Giga Media Ltd</td>\n      <td>0.137748</td>\n      <td>6.405102</td>\n      <td>7800.0</td>\n      <td>7800.0</td>\n      <td>81702.0</td>\n      <td>1.000000</td>\n      <td>1.000000</td>\n      <td>0.454410</td>\n    </tr>\n    <tr>\n      <th>228486</th>\n      <td>2023-12-29</td>\n      <td>Y3894J18</td>\n      <td>23615.0</td>\n      <td>MHY3894J1872</td>\n      <td>Imperial Petroleum Inc</td>\n      <td>0.115836</td>\n      <td>93.988070</td>\n      <td>3798367.0</td>\n      <td>3798367.0</td>\n      <td>2093563.0</td>\n      <td>0.743503</td>\n      <td>0.338524</td>\n      <td>0.683525</td>\n    </tr>\n    <tr>\n      <th>228487</th>\n      <td>2023-12-29</td>\n      <td>Y3894J18</td>\n      <td>23615.0</td>\n      <td>MHY3894J1120</td>\n      <td>Imperial 8 75 Srs A Cum Red Prep Prf</td>\n      <td>NaN</td>\n      <td>0.000000</td>\n      <td>NaN</td>\n      <td>NaN</td>\n      <td>477.0</td>\n      <td>0.000000</td>\n      <td>0.000000</td>\n      <td>0.414445</td>\n    </tr>\n    <tr>\n      <th>228488</th>\n      <td>2023-12-29</td>\n      <td>Y6430L20</td>\n      <td>3735.0</td>\n      <td>MHY6430L2029</td>\n      <td>Oceanpal Inc</td>\n      <td>0.442730</td>\n      <td>1.708853</td>\n      <td>1810.0</td>\n      <td>1810.0</td>\n      <td>84368.0</td>\n      <td>0.836157</td>\n      <td>0.434993</td>\n      <td>0.803737</td>\n    </tr>\n    <tr>\n      <th>228489</th>\n      <td>2023-12-29</td>\n      <td>Y8564W10</td>\n      <td>90949.0</td>\n      <td>MHY8564W1030</td>\n      <td>Teekay Corp</td>\n      <td>0.002753</td>\n      <td>0.611958</td>\n      <td>97638.0</td>\n      <td>99438.0</td>\n      <td>16258345.0</td>\n      <td>0.413801</td>\n      <td>0.962332</td>\n      <td>0.218824</td>\n    </tr>\n  </tbody>\n</table>\n<p>3601077 rows × 13 columns</p>\n</div>"
     },
     "execution_count": 44,
     "metadata": {},
     "output_type": "execute_result"
    }
   ],
   "source": [
    "markit2022_"
   ],
   "metadata": {
    "collapsed": false,
    "ExecuteTime": {
     "end_time": "2024-02-25T22:49:08.595721Z",
     "start_time": "2024-02-25T22:49:08.589601Z"
    }
   },
   "id": "cc830a97fbe3d527",
   "execution_count": 44
  },
  {
   "cell_type": "code",
   "outputs": [],
   "source": [
    "markit = pd.read_parquet(file_path / \"markit.parquet\")"
   ],
   "metadata": {
    "collapsed": false,
    "ExecuteTime": {
     "end_time": "2024-02-25T22:26:39.581714Z",
     "start_time": "2024-02-25T22:25:51.406366Z"
    }
   },
   "id": "b711b17b7a93f4da",
   "execution_count": 39
  },
  {
   "cell_type": "code",
   "outputs": [
    {
     "data": {
      "text/plain": "         datadate       dxlid          isin    sedol      cusip  \\\n0      2022-01-03  DX00000021  US98956P1021  2783815  98956P102   \n1      2022-01-03  DX00000023  US7901481009  2768663  790148100   \n2      2022-01-03  DX00000026  US6934751057  2692665  693475105   \n3      2022-01-03  DX00000029  US6516391066  2636607  651639106   \n4      2022-01-03  DX00000030  US5951121038  2588184  595112103   \n...           ...         ...           ...      ...        ...   \n457298 2024-02-16  DX02521070  CA92847V5018  BNC4594  92847V501   \n457299 2024-02-16  DX02521083  BRVIVRD02M16  BRPS2Y5  P9T02N498   \n457300 2024-02-16  DX02521177  CA98422W2022  BN7R811  98422W202   \n457301 2024-02-16  DX02521184  CA6154501036  BK95TF3  615450103   \n457302 2024-02-16  DX02521385  BRRENTR05OR0  BNGB8N6  P6330Z244   \n\n                          instrumentname  indicativefee  utilisation  \\\n0             Zimmer Biomet Holdings Inc       0.003046     0.940322   \n1                              St Joe Co       0.002948     4.205225   \n2       Pnc Financial Services Group Inc       0.003151     1.323707   \n3                    Newmont Corporation       0.003342     1.591628   \n4                  Micron Technology Inc       0.001814     0.926157   \n...                                  ...            ...          ...   \n457298                     Vitalhub Corp            NaN     0.000000   \n457299   Viver Incorporadora E Const Rts            NaN          NaN   \n457300           Xigem Technologies Corp            NaN          NaN   \n457301            Moon River Capital Ltd            NaN          NaN   \n457302               Localiza Rent A Car            NaN     0.000000   \n\n        shortloanquantity  quantityonloan  lendablequantity  \\\n0                841097.0       1529768.0        97650856.0   \n1                764058.0        764058.0        15916389.0   \n2               3015056.0       3419061.0       193419648.0   \n3               5968277.0       6130376.0       340623712.0   \n4               3526685.0       8491586.0       501146144.0   \n...                   ...             ...               ...   \n457298                NaN             NaN            2400.0   \n457299            12296.0         12296.0               NaN   \n457300              300.0           300.0               NaN   \n457301              600.0           600.0               NaN   \n457302                NaN             NaN            1289.0   \n\n        lenderconcentration  borrowerconcentration  inventoryconcentration  \n0                  0.385752               0.194563                0.130224  \n1                  0.306246               0.219257                0.213042  \n2                  0.216715               0.233506                0.155540  \n3                  0.121905               0.148309                0.146164  \n4                  0.272535               0.133312                0.132156  \n...                     ...                    ...                     ...  \n457298             0.000000               0.000000                1.000000  \n457299             0.000000               1.000000                0.000000  \n457300             0.000000               1.000000                0.000000  \n457301             0.000000               1.000000                0.000000  \n457302             0.000000               0.000000                1.000000  \n\n[7671717 rows x 14 columns]",
      "text/html": "<div>\n<style scoped>\n    .dataframe tbody tr th:only-of-type {\n        vertical-align: middle;\n    }\n\n    .dataframe tbody tr th {\n        vertical-align: top;\n    }\n\n    .dataframe thead th {\n        text-align: right;\n    }\n</style>\n<table border=\"1\" class=\"dataframe\">\n  <thead>\n    <tr style=\"text-align: right;\">\n      <th></th>\n      <th>datadate</th>\n      <th>dxlid</th>\n      <th>isin</th>\n      <th>sedol</th>\n      <th>cusip</th>\n      <th>instrumentname</th>\n      <th>indicativefee</th>\n      <th>utilisation</th>\n      <th>shortloanquantity</th>\n      <th>quantityonloan</th>\n      <th>lendablequantity</th>\n      <th>lenderconcentration</th>\n      <th>borrowerconcentration</th>\n      <th>inventoryconcentration</th>\n    </tr>\n  </thead>\n  <tbody>\n    <tr>\n      <th>0</th>\n      <td>2022-01-03</td>\n      <td>DX00000021</td>\n      <td>US98956P1021</td>\n      <td>2783815</td>\n      <td>98956P102</td>\n      <td>Zimmer Biomet Holdings Inc</td>\n      <td>0.003046</td>\n      <td>0.940322</td>\n      <td>841097.0</td>\n      <td>1529768.0</td>\n      <td>97650856.0</td>\n      <td>0.385752</td>\n      <td>0.194563</td>\n      <td>0.130224</td>\n    </tr>\n    <tr>\n      <th>1</th>\n      <td>2022-01-03</td>\n      <td>DX00000023</td>\n      <td>US7901481009</td>\n      <td>2768663</td>\n      <td>790148100</td>\n      <td>St Joe Co</td>\n      <td>0.002948</td>\n      <td>4.205225</td>\n      <td>764058.0</td>\n      <td>764058.0</td>\n      <td>15916389.0</td>\n      <td>0.306246</td>\n      <td>0.219257</td>\n      <td>0.213042</td>\n    </tr>\n    <tr>\n      <th>2</th>\n      <td>2022-01-03</td>\n      <td>DX00000026</td>\n      <td>US6934751057</td>\n      <td>2692665</td>\n      <td>693475105</td>\n      <td>Pnc Financial Services Group Inc</td>\n      <td>0.003151</td>\n      <td>1.323707</td>\n      <td>3015056.0</td>\n      <td>3419061.0</td>\n      <td>193419648.0</td>\n      <td>0.216715</td>\n      <td>0.233506</td>\n      <td>0.155540</td>\n    </tr>\n    <tr>\n      <th>3</th>\n      <td>2022-01-03</td>\n      <td>DX00000029</td>\n      <td>US6516391066</td>\n      <td>2636607</td>\n      <td>651639106</td>\n      <td>Newmont Corporation</td>\n      <td>0.003342</td>\n      <td>1.591628</td>\n      <td>5968277.0</td>\n      <td>6130376.0</td>\n      <td>340623712.0</td>\n      <td>0.121905</td>\n      <td>0.148309</td>\n      <td>0.146164</td>\n    </tr>\n    <tr>\n      <th>4</th>\n      <td>2022-01-03</td>\n      <td>DX00000030</td>\n      <td>US5951121038</td>\n      <td>2588184</td>\n      <td>595112103</td>\n      <td>Micron Technology Inc</td>\n      <td>0.001814</td>\n      <td>0.926157</td>\n      <td>3526685.0</td>\n      <td>8491586.0</td>\n      <td>501146144.0</td>\n      <td>0.272535</td>\n      <td>0.133312</td>\n      <td>0.132156</td>\n    </tr>\n    <tr>\n      <th>...</th>\n      <td>...</td>\n      <td>...</td>\n      <td>...</td>\n      <td>...</td>\n      <td>...</td>\n      <td>...</td>\n      <td>...</td>\n      <td>...</td>\n      <td>...</td>\n      <td>...</td>\n      <td>...</td>\n      <td>...</td>\n      <td>...</td>\n      <td>...</td>\n    </tr>\n    <tr>\n      <th>457298</th>\n      <td>2024-02-16</td>\n      <td>DX02521070</td>\n      <td>CA92847V5018</td>\n      <td>BNC4594</td>\n      <td>92847V501</td>\n      <td>Vitalhub Corp</td>\n      <td>NaN</td>\n      <td>0.000000</td>\n      <td>NaN</td>\n      <td>NaN</td>\n      <td>2400.0</td>\n      <td>0.000000</td>\n      <td>0.000000</td>\n      <td>1.000000</td>\n    </tr>\n    <tr>\n      <th>457299</th>\n      <td>2024-02-16</td>\n      <td>DX02521083</td>\n      <td>BRVIVRD02M16</td>\n      <td>BRPS2Y5</td>\n      <td>P9T02N498</td>\n      <td>Viver Incorporadora E Const Rts</td>\n      <td>NaN</td>\n      <td>NaN</td>\n      <td>12296.0</td>\n      <td>12296.0</td>\n      <td>NaN</td>\n      <td>0.000000</td>\n      <td>1.000000</td>\n      <td>0.000000</td>\n    </tr>\n    <tr>\n      <th>457300</th>\n      <td>2024-02-16</td>\n      <td>DX02521177</td>\n      <td>CA98422W2022</td>\n      <td>BN7R811</td>\n      <td>98422W202</td>\n      <td>Xigem Technologies Corp</td>\n      <td>NaN</td>\n      <td>NaN</td>\n      <td>300.0</td>\n      <td>300.0</td>\n      <td>NaN</td>\n      <td>0.000000</td>\n      <td>1.000000</td>\n      <td>0.000000</td>\n    </tr>\n    <tr>\n      <th>457301</th>\n      <td>2024-02-16</td>\n      <td>DX02521184</td>\n      <td>CA6154501036</td>\n      <td>BK95TF3</td>\n      <td>615450103</td>\n      <td>Moon River Capital Ltd</td>\n      <td>NaN</td>\n      <td>NaN</td>\n      <td>600.0</td>\n      <td>600.0</td>\n      <td>NaN</td>\n      <td>0.000000</td>\n      <td>1.000000</td>\n      <td>0.000000</td>\n    </tr>\n    <tr>\n      <th>457302</th>\n      <td>2024-02-16</td>\n      <td>DX02521385</td>\n      <td>BRRENTR05OR0</td>\n      <td>BNGB8N6</td>\n      <td>P6330Z244</td>\n      <td>Localiza Rent A Car</td>\n      <td>NaN</td>\n      <td>0.000000</td>\n      <td>NaN</td>\n      <td>NaN</td>\n      <td>1289.0</td>\n      <td>0.000000</td>\n      <td>0.000000</td>\n      <td>1.000000</td>\n    </tr>\n  </tbody>\n</table>\n<p>7671717 rows × 14 columns</p>\n</div>"
     },
     "execution_count": 40,
     "metadata": {},
     "output_type": "execute_result"
    }
   ],
   "source": [
    "markit[markit.datadate >= \"2022-01-01\"]"
   ],
   "metadata": {
    "collapsed": false,
    "ExecuteTime": {
     "end_time": "2024-02-25T22:26:42.212784Z",
     "start_time": "2024-02-25T22:26:39.587359Z"
    }
   },
   "id": "c66bf5e592de07c2",
   "execution_count": 40
  },
  {
   "cell_type": "code",
   "outputs": [],
   "source": [
    "crsp = pd.read_parquet(file_path / \"crsp.parquet\")"
   ],
   "metadata": {
    "collapsed": false,
    "ExecuteTime": {
     "end_time": "2024-02-25T22:31:37.056602Z",
     "start_time": "2024-02-25T22:31:35.374172Z"
    }
   },
   "id": "5df0e0ba50241c86",
   "execution_count": 41
  },
  {
   "cell_type": "code",
   "outputs": [
    {
     "data": {
      "text/plain": "17853"
     },
     "execution_count": 42,
     "metadata": {},
     "output_type": "execute_result"
    }
   ],
   "source": [
    "crsp.cusip.nunique()"
   ],
   "metadata": {
    "collapsed": false,
    "ExecuteTime": {
     "end_time": "2024-02-25T22:31:38.710618Z",
     "start_time": "2024-02-25T22:31:38.481299Z"
    }
   },
   "id": "18c3a55b0097abd1",
   "execution_count": 42
  },
  {
   "cell_type": "code",
   "outputs": [],
   "source": [],
   "metadata": {
    "collapsed": false
   },
   "id": "5af53f49137f8f7f"
  }
 ],
 "metadata": {
  "kernelspec": {
   "display_name": "Python 3",
   "language": "python",
   "name": "python3"
  },
  "language_info": {
   "codemirror_mode": {
    "name": "ipython",
    "version": 2
   },
   "file_extension": ".py",
   "mimetype": "text/x-python",
   "name": "python",
   "nbconvert_exporter": "python",
   "pygments_lexer": "ipython2",
   "version": "2.7.6"
  }
 },
 "nbformat": 4,
 "nbformat_minor": 5
}
