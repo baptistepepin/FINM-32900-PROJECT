{
 "cells": [
  {
   "cell_type": "markdown",
   "source": [
    "# Merging RepRisk and Markit\n",
    "\n",
    "In order to compute the ratios we need but also to be able to compare the two datasets, we need to merge them.\n",
    "\n",
    "A first idea was to use the `isin` columns available in both dataframe but it appears that it is not well populated in the RepRisk dataset. That means we might need to match companies on their name. Doing so would require to clean the names in both datasets.\n",
    "\n",
    "Let's first explore the idea of merging on ISIN."
   ],
   "metadata": {
    "collapsed": false
   },
   "id": "98cad44a3953ceb3"
  },
  {
   "cell_type": "code",
   "execution_count": 46,
   "id": "initial_id",
   "metadata": {
    "collapsed": true,
    "ExecuteTime": {
     "end_time": "2024-02-23T20:36:39.905633Z",
     "start_time": "2024-02-23T20:36:39.897869Z"
    }
   },
   "outputs": [],
   "source": [
    "from pathlib import Path\n",
    "\n",
    "import pandas as pd\n",
    "\n",
    "import config\n",
    "\n",
    "DATA_DIR = Path(config.DATA_DIR)\n",
    "file_path = Path(DATA_DIR) / \"pulled\""
   ]
  },
  {
   "cell_type": "markdown",
   "source": [
    "Let's have a look at RepRisk first."
   ],
   "metadata": {
    "collapsed": false
   },
   "id": "627f1526945d0d42"
  },
  {
   "cell_type": "code",
   "outputs": [
    {
     "data": {
      "text/plain": "  reprisk_id         company_name  primary_isin  \\\n0         10             Acer Inc  TW0002353000   \n1        100        Rio Tinto PLC  GB0007188757   \n2       1000  Terrane Metals Corp  CA88103A1084   \n3      10000  RAK Properties PJSC  AER000601016   \n4     100000       BLUECOM Co Ltd  KR7033560004   \n\n                                               isins  \n0         US0044341065 | US0044342055 | TW0002353000  \n1  GB0007406639 | BRRIOTBDR007 | ARDEUT112638 | G...  \n2  CA88103A1167 | US88103A3068 | CA88103A1084 | C...  \n3                                       AER000601016  \n4                                       KR7033560004  ",
      "text/html": "<div>\n<style scoped>\n    .dataframe tbody tr th:only-of-type {\n        vertical-align: middle;\n    }\n\n    .dataframe tbody tr th {\n        vertical-align: top;\n    }\n\n    .dataframe thead th {\n        text-align: right;\n    }\n</style>\n<table border=\"1\" class=\"dataframe\">\n  <thead>\n    <tr style=\"text-align: right;\">\n      <th></th>\n      <th>reprisk_id</th>\n      <th>company_name</th>\n      <th>primary_isin</th>\n      <th>isins</th>\n    </tr>\n  </thead>\n  <tbody>\n    <tr>\n      <th>0</th>\n      <td>10</td>\n      <td>Acer Inc</td>\n      <td>TW0002353000</td>\n      <td>US0044341065 | US0044342055 | TW0002353000</td>\n    </tr>\n    <tr>\n      <th>1</th>\n      <td>100</td>\n      <td>Rio Tinto PLC</td>\n      <td>GB0007188757</td>\n      <td>GB0007406639 | BRRIOTBDR007 | ARDEUT112638 | G...</td>\n    </tr>\n    <tr>\n      <th>2</th>\n      <td>1000</td>\n      <td>Terrane Metals Corp</td>\n      <td>CA88103A1084</td>\n      <td>CA88103A1167 | US88103A3068 | CA88103A1084 | C...</td>\n    </tr>\n    <tr>\n      <th>3</th>\n      <td>10000</td>\n      <td>RAK Properties PJSC</td>\n      <td>AER000601016</td>\n      <td>AER000601016</td>\n    </tr>\n    <tr>\n      <th>4</th>\n      <td>100000</td>\n      <td>BLUECOM Co Ltd</td>\n      <td>KR7033560004</td>\n      <td>KR7033560004</td>\n    </tr>\n  </tbody>\n</table>\n</div>"
     },
     "execution_count": 47,
     "metadata": {},
     "output_type": "execute_result"
    }
   ],
   "source": [
    "RepRisk_company = pd.read_parquet(file_path  / \"reprisk_company.parquet\")\n",
    "RepRisk_company.head()"
   ],
   "metadata": {
    "collapsed": false,
    "ExecuteTime": {
     "end_time": "2024-02-23T20:36:40.682581Z",
     "start_time": "2024-02-23T20:36:40.435703Z"
    }
   },
   "id": "2be6af2ec471361",
   "execution_count": 47
  },
  {
   "cell_type": "code",
   "outputs": [
    {
     "data": {
      "text/plain": "<pandas.io.formats.style.Styler at 0x15a9ab150>",
      "text/html": "<style type=\"text/css\">\n</style>\n<table id=\"T_90cbc\">\n  <thead>\n    <tr>\n      <th class=\"blank level0\" >&nbsp;</th>\n      <th id=\"T_90cbc_level0_col0\" class=\"col_heading level0 col0\" >percentage_missing_isin</th>\n    </tr>\n  </thead>\n  <tbody>\n    <tr>\n      <th id=\"T_90cbc_level0_row0\" class=\"row_heading level0 row0\" >primary_isin</th>\n      <td id=\"T_90cbc_row0_col0\" class=\"data row0 col0\" >85.03%</td>\n    </tr>\n  </tbody>\n</table>\n"
     },
     "execution_count": 48,
     "metadata": {},
     "output_type": "execute_result"
    }
   ],
   "source": [
    "(RepRisk_company[['primary_isin']].isna().sum() / len(RepRisk_company)).to_frame(\"percentage_missing_isin\").style.format(\"{:.2%}\")"
   ],
   "metadata": {
    "collapsed": false,
    "ExecuteTime": {
     "end_time": "2024-02-23T20:36:43.490777Z",
     "start_time": "2024-02-23T20:36:43.467137Z"
    }
   },
   "id": "fa8ae629d917510f",
   "execution_count": 48
  },
  {
   "cell_type": "markdown",
   "source": [
    "Out of more than 600k referenced companies, 85% of them have a missing ISIN in RepRisk.\n",
    "\n",
    "Let's have a look at Markit now."
   ],
   "metadata": {
    "collapsed": false
   },
   "id": "cf8d8d6ee5d4b83c"
  },
  {
   "cell_type": "code",
   "outputs": [
    {
     "data": {
      "text/plain": "           isin       instrumentname\n0  DE0005552004     Deutsche Post Ag\n1  US98956P1021  Zimmer Holdings Inc\n2  US86764P1093           Sunoco Inc\n3  US7901481009           St. Joe Co\n4  US8265521018   Sigma-aldrich Corp",
      "text/html": "<div>\n<style scoped>\n    .dataframe tbody tr th:only-of-type {\n        vertical-align: middle;\n    }\n\n    .dataframe tbody tr th {\n        vertical-align: top;\n    }\n\n    .dataframe thead th {\n        text-align: right;\n    }\n</style>\n<table border=\"1\" class=\"dataframe\">\n  <thead>\n    <tr style=\"text-align: right;\">\n      <th></th>\n      <th>isin</th>\n      <th>instrumentname</th>\n    </tr>\n  </thead>\n  <tbody>\n    <tr>\n      <th>0</th>\n      <td>DE0005552004</td>\n      <td>Deutsche Post Ag</td>\n    </tr>\n    <tr>\n      <th>1</th>\n      <td>US98956P1021</td>\n      <td>Zimmer Holdings Inc</td>\n    </tr>\n    <tr>\n      <th>2</th>\n      <td>US86764P1093</td>\n      <td>Sunoco Inc</td>\n    </tr>\n    <tr>\n      <th>3</th>\n      <td>US7901481009</td>\n      <td>St. Joe Co</td>\n    </tr>\n    <tr>\n      <th>4</th>\n      <td>US8265521018</td>\n      <td>Sigma-aldrich Corp</td>\n    </tr>\n  </tbody>\n</table>\n</div>"
     },
     "execution_count": 49,
     "metadata": {},
     "output_type": "execute_result"
    }
   ],
   "source": [
    "Markit = pd.read_parquet(file_path  / \"markit.parquet\")\n",
    "Markit_company = Markit[[\"isin\", \"instrumentname\"]].drop_duplicates()\n",
    "Markit_company.head()"
   ],
   "metadata": {
    "collapsed": false,
    "ExecuteTime": {
     "end_time": "2024-02-23T20:37:08.048392Z",
     "start_time": "2024-02-23T20:36:53.969505Z"
    }
   },
   "id": "60227c16b666f370",
   "execution_count": 49
  },
  {
   "cell_type": "code",
   "outputs": [
    {
     "data": {
      "text/plain": "<pandas.io.formats.style.Styler at 0x2b083cb10>",
      "text/html": "<style type=\"text/css\">\n</style>\n<table id=\"T_06cfb\">\n  <thead>\n    <tr>\n      <th class=\"blank level0\" >&nbsp;</th>\n      <th id=\"T_06cfb_level0_col0\" class=\"col_heading level0 col0\" >percentage_missing_isin</th>\n    </tr>\n  </thead>\n  <tbody>\n    <tr>\n      <th id=\"T_06cfb_level0_row0\" class=\"row_heading level0 row0\" >isin</th>\n      <td id=\"T_06cfb_row0_col0\" class=\"data row0 col0\" >5.33%</td>\n    </tr>\n  </tbody>\n</table>\n"
     },
     "execution_count": 50,
     "metadata": {},
     "output_type": "execute_result"
    }
   ],
   "source": [
    "(Markit_company[['isin']].isna().sum() / len(Markit_company)).to_frame(\"percentage_missing_isin\").style.format(\"{:.2%}\")"
   ],
   "metadata": {
    "collapsed": false,
    "ExecuteTime": {
     "end_time": "2024-02-23T20:37:11.482154Z",
     "start_time": "2024-02-23T20:37:11.477272Z"
    }
   },
   "id": "b16b539b917234fc",
   "execution_count": 50
  },
  {
   "cell_type": "markdown",
   "source": [
    "For Markit, only 5% of the companies have a missing ISIN.\n",
    "\n",
    "We are now going to see if we can match all the available ISIN in Markit with the ones in RepRisk."
   ],
   "metadata": {
    "collapsed": false
   },
   "id": "1de2dbb897e61c46"
  },
  {
   "cell_type": "code",
   "outputs": [],
   "source": [
    "isin_intersection = Markit_company['isin'].dropna().isin(RepRisk_company['primary_isin'].dropna())"
   ],
   "metadata": {
    "collapsed": false,
    "ExecuteTime": {
     "end_time": "2024-02-23T20:37:18.925788Z",
     "start_time": "2024-02-23T20:37:18.898479Z"
    }
   },
   "id": "398d07f68cee3265",
   "execution_count": 51
  },
  {
   "cell_type": "code",
   "outputs": [
    {
     "data": {
      "text/plain": "'47.27%'"
     },
     "execution_count": 52,
     "metadata": {},
     "output_type": "execute_result"
    }
   ],
   "source": [
    "(isin_intersection.sum() / len(Markit_company['isin'].dropna())).__format__(\"0.2%\")"
   ],
   "metadata": {
    "collapsed": false,
    "ExecuteTime": {
     "end_time": "2024-02-23T20:37:19.243875Z",
     "start_time": "2024-02-23T20:37:19.236462Z"
    }
   },
   "id": "914aa9d8c1a9f17b",
   "execution_count": 52
  },
  {
   "cell_type": "markdown",
   "source": [
    "Only 47% of the ISIN in Markit are available in RepRisk so this is not going to work for us. We cannot merge the two datasets on ISIN only. We will have to merge on company name also."
   ],
   "metadata": {
    "collapsed": false
   },
   "id": "974505353d838bfc"
  },
  {
   "cell_type": "code",
   "outputs": [
    {
     "data": {
      "text/plain": "           isin       instrumentname reprisk_id  primary_isin\n0  DE0005552004     Deutsche Post Ag       3794  DE0005552004\n1  US98956P1021  Zimmer Holdings Inc     182884  US98956P1021\n2  US86764P1093           Sunoco Inc        978  US86764P1093\n3  US7901481009           St. Joe Co       7502  US7901481009\n4  US8265521018   Sigma-aldrich Corp       7620  US8265521018",
      "text/html": "<div>\n<style scoped>\n    .dataframe tbody tr th:only-of-type {\n        vertical-align: middle;\n    }\n\n    .dataframe tbody tr th {\n        vertical-align: top;\n    }\n\n    .dataframe thead th {\n        text-align: right;\n    }\n</style>\n<table border=\"1\" class=\"dataframe\">\n  <thead>\n    <tr style=\"text-align: right;\">\n      <th></th>\n      <th>isin</th>\n      <th>instrumentname</th>\n      <th>reprisk_id</th>\n      <th>primary_isin</th>\n    </tr>\n  </thead>\n  <tbody>\n    <tr>\n      <th>0</th>\n      <td>DE0005552004</td>\n      <td>Deutsche Post Ag</td>\n      <td>3794</td>\n      <td>DE0005552004</td>\n    </tr>\n    <tr>\n      <th>1</th>\n      <td>US98956P1021</td>\n      <td>Zimmer Holdings Inc</td>\n      <td>182884</td>\n      <td>US98956P1021</td>\n    </tr>\n    <tr>\n      <th>2</th>\n      <td>US86764P1093</td>\n      <td>Sunoco Inc</td>\n      <td>978</td>\n      <td>US86764P1093</td>\n    </tr>\n    <tr>\n      <th>3</th>\n      <td>US7901481009</td>\n      <td>St. Joe Co</td>\n      <td>7502</td>\n      <td>US7901481009</td>\n    </tr>\n    <tr>\n      <th>4</th>\n      <td>US8265521018</td>\n      <td>Sigma-aldrich Corp</td>\n      <td>7620</td>\n      <td>US8265521018</td>\n    </tr>\n  </tbody>\n</table>\n</div>"
     },
     "execution_count": 58,
     "metadata": {},
     "output_type": "execute_result"
    }
   ],
   "source": [
    "RepRisk_id_on_isin = Markit_company.merge(RepRisk_company[['reprisk_id', 'primary_isin']].dropna(), left_on=\"isin\", right_on=\"primary_isin\", how=\"left\")\n",
    "RepRisk_id_on_isin.head()"
   ],
   "metadata": {
    "collapsed": false,
    "ExecuteTime": {
     "end_time": "2024-02-23T20:39:43.990627Z",
     "start_time": "2024-02-23T20:39:43.924907Z"
    }
   },
   "id": "8fb4a4b3aabed6cd",
   "execution_count": 58
  },
  {
   "cell_type": "code",
   "outputs": [
    {
     "data": {
      "text/plain": "<pandas.io.formats.style.Styler at 0x15f55a750>",
      "text/html": "<style type=\"text/css\">\n</style>\n<table id=\"T_738b4\">\n  <thead>\n    <tr>\n      <th class=\"blank level0\" >&nbsp;</th>\n      <th id=\"T_738b4_level0_col0\" class=\"col_heading level0 col0\" >percentage_missing_reprisk_id</th>\n    </tr>\n  </thead>\n  <tbody>\n    <tr>\n      <th id=\"T_738b4_level0_row0\" class=\"row_heading level0 row0\" >reprisk_id</th>\n      <td id=\"T_738b4_row0_col0\" class=\"data row0 col0\" >55.24%</td>\n    </tr>\n  </tbody>\n</table>\n"
     },
     "execution_count": 59,
     "metadata": {},
     "output_type": "execute_result"
    }
   ],
   "source": [
    "(RepRisk_id_on_isin[['reprisk_id']].isna().sum() / len(RepRisk_id_on_isin)).to_frame(\"percentage_missing_reprisk_id\").style.format(\"{:.2%}\")"
   ],
   "metadata": {
    "collapsed": false,
    "ExecuteTime": {
     "end_time": "2024-02-23T20:39:45.395525Z",
     "start_time": "2024-02-23T20:39:45.390141Z"
    }
   },
   "id": "83d01fb0781af",
   "execution_count": 59
  },
  {
   "cell_type": "markdown",
   "source": [
    "Matching on ISIN only, we cannot match 55% of the companies in Markit with their reprisk_id in Reprisk. We will now have to look at matching companies missing isin on their name."
   ],
   "metadata": {
    "collapsed": false
   },
   "id": "24950f9a9ae27e10"
  },
  {
   "cell_type": "code",
   "outputs": [
    {
     "data": {
      "text/plain": "            isin               instrumentname\n14  US3371621018  First Horizon National Corp\n15  US3199631041              First Data Corp\n16  US2473611083          Delta Air Lines Inc\n19  US0442041051                  Ashland Inc\n20  US1251291068     CDW COMPUTER CENTERS INC",
      "text/html": "<div>\n<style scoped>\n    .dataframe tbody tr th:only-of-type {\n        vertical-align: middle;\n    }\n\n    .dataframe tbody tr th {\n        vertical-align: top;\n    }\n\n    .dataframe thead th {\n        text-align: right;\n    }\n</style>\n<table border=\"1\" class=\"dataframe\">\n  <thead>\n    <tr style=\"text-align: right;\">\n      <th></th>\n      <th>isin</th>\n      <th>instrumentname</th>\n    </tr>\n  </thead>\n  <tbody>\n    <tr>\n      <th>14</th>\n      <td>US3371621018</td>\n      <td>First Horizon National Corp</td>\n    </tr>\n    <tr>\n      <th>15</th>\n      <td>US3199631041</td>\n      <td>First Data Corp</td>\n    </tr>\n    <tr>\n      <th>16</th>\n      <td>US2473611083</td>\n      <td>Delta Air Lines Inc</td>\n    </tr>\n    <tr>\n      <th>19</th>\n      <td>US0442041051</td>\n      <td>Ashland Inc</td>\n    </tr>\n    <tr>\n      <th>20</th>\n      <td>US1251291068</td>\n      <td>CDW COMPUTER CENTERS INC</td>\n    </tr>\n  </tbody>\n</table>\n</div>"
     },
     "execution_count": 60,
     "metadata": {},
     "output_type": "execute_result"
    }
   ],
   "source": [
    "companies_missing_isin = RepRisk_id_on_isin[RepRisk_id_on_isin['reprisk_id'].isna()][['isin', 'instrumentname']]\n",
    "companies_missing_isin.head()"
   ],
   "metadata": {
    "collapsed": false,
    "ExecuteTime": {
     "end_time": "2024-02-23T20:39:57.146934Z",
     "start_time": "2024-02-23T20:39:57.129321Z"
    }
   },
   "id": "964c466720b2d36a",
   "execution_count": 60
  },
  {
   "cell_type": "code",
   "outputs": [
    {
     "data": {
      "text/plain": "           isin               instrumentname reprisk_id     company_name  \\\n0  US3371621018  First Horizon National Corp        NaN              NaN   \n1  US3199631041              First Data Corp    1524305  First Data Corp   \n2  US2473611083          Delta Air Lines Inc        NaN              NaN   \n3  US0442041051                  Ashland Inc        NaN              NaN   \n4  US1251291068     CDW COMPUTER CENTERS INC        NaN              NaN   \n\n   primary_isin         isins  \n0           NaN           NaN  \n1  US32008D1063  US32008D1063  \n2           NaN           NaN  \n3           NaN           NaN  \n4           NaN           NaN  ",
      "text/html": "<div>\n<style scoped>\n    .dataframe tbody tr th:only-of-type {\n        vertical-align: middle;\n    }\n\n    .dataframe tbody tr th {\n        vertical-align: top;\n    }\n\n    .dataframe thead th {\n        text-align: right;\n    }\n</style>\n<table border=\"1\" class=\"dataframe\">\n  <thead>\n    <tr style=\"text-align: right;\">\n      <th></th>\n      <th>isin</th>\n      <th>instrumentname</th>\n      <th>reprisk_id</th>\n      <th>company_name</th>\n      <th>primary_isin</th>\n      <th>isins</th>\n    </tr>\n  </thead>\n  <tbody>\n    <tr>\n      <th>0</th>\n      <td>US3371621018</td>\n      <td>First Horizon National Corp</td>\n      <td>NaN</td>\n      <td>NaN</td>\n      <td>NaN</td>\n      <td>NaN</td>\n    </tr>\n    <tr>\n      <th>1</th>\n      <td>US3199631041</td>\n      <td>First Data Corp</td>\n      <td>1524305</td>\n      <td>First Data Corp</td>\n      <td>US32008D1063</td>\n      <td>US32008D1063</td>\n    </tr>\n    <tr>\n      <th>2</th>\n      <td>US2473611083</td>\n      <td>Delta Air Lines Inc</td>\n      <td>NaN</td>\n      <td>NaN</td>\n      <td>NaN</td>\n      <td>NaN</td>\n    </tr>\n    <tr>\n      <th>3</th>\n      <td>US0442041051</td>\n      <td>Ashland Inc</td>\n      <td>NaN</td>\n      <td>NaN</td>\n      <td>NaN</td>\n      <td>NaN</td>\n    </tr>\n    <tr>\n      <th>4</th>\n      <td>US1251291068</td>\n      <td>CDW COMPUTER CENTERS INC</td>\n      <td>NaN</td>\n      <td>NaN</td>\n      <td>NaN</td>\n      <td>NaN</td>\n    </tr>\n  </tbody>\n</table>\n</div>"
     },
     "execution_count": 61,
     "metadata": {},
     "output_type": "execute_result"
    }
   ],
   "source": [
    "RepRisk_id_on_company_name = companies_missing_isin.merge(RepRisk_company, left_on=\"instrumentname\", right_on=\"company_name\", how=\"left\")\n",
    "RepRisk_id_on_company_name.head()"
   ],
   "metadata": {
    "collapsed": false,
    "ExecuteTime": {
     "end_time": "2024-02-23T20:40:01.073462Z",
     "start_time": "2024-02-23T20:40:00.958688Z"
    }
   },
   "id": "1292c99c4835f17e",
   "execution_count": 61
  },
  {
   "cell_type": "code",
   "outputs": [
    {
     "data": {
      "text/plain": "<pandas.io.formats.style.Styler at 0x1475c6510>",
      "text/html": "<style type=\"text/css\">\n</style>\n<table id=\"T_9b15f\">\n  <thead>\n    <tr>\n      <th class=\"blank level0\" >&nbsp;</th>\n      <th id=\"T_9b15f_level0_col0\" class=\"col_heading level0 col0\" >percentage_still_missing_reprisk_id</th>\n    </tr>\n  </thead>\n  <tbody>\n    <tr>\n      <th id=\"T_9b15f_level0_row0\" class=\"row_heading level0 row0\" >reprisk_id</th>\n      <td id=\"T_9b15f_row0_col0\" class=\"data row0 col0\" >85.13%</td>\n    </tr>\n  </tbody>\n</table>\n"
     },
     "execution_count": 62,
     "metadata": {},
     "output_type": "execute_result"
    }
   ],
   "source": [
    "(RepRisk_id_on_company_name[['reprisk_id']].isna().sum() / len(RepRisk_id_on_company_name)).to_frame(\"percentage_still_missing_reprisk_id\").style.format(\"{:.2%}\")"
   ],
   "metadata": {
    "collapsed": false,
    "ExecuteTime": {
     "end_time": "2024-02-23T20:40:09.170741Z",
     "start_time": "2024-02-23T20:40:09.163214Z"
    }
   },
   "id": "ccaf4b76b328dd6e",
   "execution_count": 62
  },
  {
   "cell_type": "markdown",
   "source": [
    "Merging on company name without cleaning it only allows us to match 15% of the companies without matching ISIN. We will have to clean the company names in both datasets to be able to merge them."
   ],
   "metadata": {
    "collapsed": false
   },
   "id": "b1203ed5bb790bb9"
  },
  {
   "cell_type": "code",
   "outputs": [
    {
     "data": {
      "text/plain": "           isin               instrumentname\n0  US3371621018  First Horizon National Corp\n2  US2473611083          Delta Air Lines Inc\n3  US0442041051                  Ashland Inc\n4  US1251291068     CDW COMPUTER CENTERS INC\n5  CA4532584022                     Inco Ltd",
      "text/html": "<div>\n<style scoped>\n    .dataframe tbody tr th:only-of-type {\n        vertical-align: middle;\n    }\n\n    .dataframe tbody tr th {\n        vertical-align: top;\n    }\n\n    .dataframe thead th {\n        text-align: right;\n    }\n</style>\n<table border=\"1\" class=\"dataframe\">\n  <thead>\n    <tr style=\"text-align: right;\">\n      <th></th>\n      <th>isin</th>\n      <th>instrumentname</th>\n    </tr>\n  </thead>\n  <tbody>\n    <tr>\n      <th>0</th>\n      <td>US3371621018</td>\n      <td>First Horizon National Corp</td>\n    </tr>\n    <tr>\n      <th>2</th>\n      <td>US2473611083</td>\n      <td>Delta Air Lines Inc</td>\n    </tr>\n    <tr>\n      <th>3</th>\n      <td>US0442041051</td>\n      <td>Ashland Inc</td>\n    </tr>\n    <tr>\n      <th>4</th>\n      <td>US1251291068</td>\n      <td>CDW COMPUTER CENTERS INC</td>\n    </tr>\n    <tr>\n      <th>5</th>\n      <td>CA4532584022</td>\n      <td>Inco Ltd</td>\n    </tr>\n  </tbody>\n</table>\n</div>"
     },
     "execution_count": 63,
     "metadata": {},
     "output_type": "execute_result"
    }
   ],
   "source": [
    "companies_still_missing_reprisk_id = RepRisk_id_on_company_name[RepRisk_id_on_company_name['reprisk_id'].isna()][['isin', 'instrumentname']]\n",
    "companies_still_missing_reprisk_id.head()"
   ],
   "metadata": {
    "collapsed": false,
    "ExecuteTime": {
     "end_time": "2024-02-23T20:40:22.614174Z",
     "start_time": "2024-02-23T20:40:22.598494Z"
    }
   },
   "id": "69e633f0767a159c",
   "execution_count": 63
  },
  {
   "cell_type": "code",
   "outputs": [],
   "source": [],
   "metadata": {
    "collapsed": false,
    "ExecuteTime": {
     "end_time": "2024-02-23T20:40:31.333819Z",
     "start_time": "2024-02-23T20:40:31.331080Z"
    }
   },
   "id": "eb4ba61661e2e928",
   "execution_count": 63
  },
  {
   "cell_type": "code",
   "outputs": [],
   "source": [],
   "metadata": {
    "collapsed": false
   },
   "id": "2830c4e91485a526"
  }
 ],
 "metadata": {
  "kernelspec": {
   "display_name": "Python 3",
   "language": "python",
   "name": "python3"
  },
  "language_info": {
   "codemirror_mode": {
    "name": "ipython",
    "version": 2
   },
   "file_extension": ".py",
   "mimetype": "text/x-python",
   "name": "python",
   "nbconvert_exporter": "python",
   "pygments_lexer": "ipython2",
   "version": "2.7.6"
  }
 },
 "nbformat": 4,
 "nbformat_minor": 5
}
